{
 "cells": [
  {
   "cell_type": "markdown",
   "source": [
    "### IHDP Benchmark: Comparing CMGP Variants (100 Replications)\n",
    "\n",
    "This experiment evaluates four versions of CMGP on the standard IHDP benchmark dataset across all 100 simulated replications. The goal is to assess the real-world effectiveness of the proposed enhancements under standard benchmarking conditions.\n",
    "\n",
    "**Compared Configurations:**\n",
    "- **Baseline**: Standard CMGP with no enhancements.\n",
    "- **Overlap-Aware**: Applies hybrid kernel scaling to address poor overlap.\n",
    "- **Variance-ARD**: Regularizes ARD lengthscales via ridge regression on treatment propensity.\n",
    "- **Combined**: Uses both enhancements simultaneously.\n",
    "\n",
    "The bar plot below summarizes the average √PEHE and corresponding 95% confidence intervals for each configuration. These results correspond to Figure 6 in Section 4.2 of the paper and demonstrate the benefits of each enhancement in improving treatment effect estimation accuracy.\n"
   ],
   "metadata": {
    "collapsed": false
   },
   "id": "d30ba4257fd95c89"
  },
  {
   "cell_type": "code",
   "outputs": [],
   "source": [
    "import pandas as pd\n",
    "import numpy as np\n",
    "import matplotlib.pyplot as plt\n",
    "from pathlib import Path\n",
    "from tqdm import tqdm\n",
    "\n",
    "from src.evaluate import evaluate_dataset\n",
    "from src.cmgp.utils.metrics import mean_confidence_interval\n",
    "\n",
    "def evaluate_ihdp_configs(max_iterations=100):\n",
    "    \"\"\"\n",
    "    Evaluates CMGP variants on the full IHDP benchmark (100 replications).\n",
    "    For each of the following configurations:\n",
    "        - Baseline: No enhancements\n",
    "        - Overlap-Aware: Uses overlap-aware kernel scaling\n",
    "        - Variance-ARD: Uses ridge-T regularized ARD\n",
    "        - Combined: Both enhancements applied\n",
    "\n",
    "    Computes mean and 95% CI for √PEHE, then visualizes the result.\n",
    "    \"\"\"\n",
    "    results = []\n",
    "\n",
    "    # Evaluate each configuration across 100 replications\n",
    "    for exp_idx in tqdm(range(1, 101)):\n",
    "        for config_name, kwargs in [\n",
    "            (\"Baseline\", dict()),\n",
    "            (\"Overlap-Aware-ARD\", dict(overlap_scaling=True)),\n",
    "            (\"Variance-ARD\", dict(variance_ard=True)),\n",
    "            (\"Combined\", dict(overlap_scaling=True, variance_ard=True)),\n",
    "        ]:\n",
    "            result = evaluate_dataset(\n",
    "                \"ihdp\",\n",
    "                data_path=Path(\"src/data\"),\n",
    "                exp_idx=exp_idx,\n",
    "                max_gp_iterations=max_iterations,\n",
    "                **kwargs\n",
    "            )\n",
    "            result[\"Config\"] = config_name\n",
    "            result[\"Exp\"] = exp_idx\n",
    "            results.append(result)\n",
    "\n",
    "    # Convert to DataFrame\n",
    "    df = pd.DataFrame(results)\n",
    "\n",
    "    # Compute mean and 95% CI of √PEHE for each configuration\n",
    "    summary = df.groupby(\"Config\")[\"√PEHE\"].agg([\n",
    "        (\"Mean PEHE\", lambda x: round(np.mean(x), 4)),\n",
    "        (\"CI Width\", lambda x: round(mean_confidence_interval(x)[1], 4))\n",
    "    ]).reset_index()\n",
    "\n",
    "    # Extract baseline stats\n",
    "    baseline_row = summary[summary[\"Config\"] == \"Baseline\"]\n",
    "    baseline_mean = baseline_row[\"Mean PEHE\"].values[0]\n",
    "    baseline_ci = baseline_row[\"CI Width\"].values[0]\n",
    "\n",
    "    # Clean config labels for x-axis\n",
    "    label_map = {\n",
    "        \"Baseline\": \"baseline\",\n",
    "        \"Combined\": \"combined\",\n",
    "        \"Overlap-Aware-ARD\": \"overlap\",\n",
    "        \"Variance-ARD\": \"variance_ard\"\n",
    "    }\n",
    "    summary[\"Label\"] = summary[\"Config\"].map(label_map)\n",
    "\n",
    "    # Create dot plot with error bars and horizontal lines\n",
    "    plt.figure(figsize=(10, 6))\n",
    "    plt.errorbar(\n",
    "        summary[\"Label\"],\n",
    "        summary[\"Mean PEHE\"],\n",
    "        yerr=summary[\"CI Width\"],\n",
    "        fmt='o',\n",
    "        color='orange',\n",
    "        ecolor='orange',\n",
    "        elinewidth=2,\n",
    "        capsize=5\n",
    "    )\n",
    "    plt.axhline(baseline_mean, linestyle='--', color='blue', label='Baseline Mean')\n",
    "    plt.axhline(baseline_mean + baseline_ci, linestyle=':', color='blue', label='Baseline 95% CI')\n",
    "    plt.axhline(baseline_mean - baseline_ci, linestyle=':', color='blue')\n",
    "\n",
    "    plt.ylabel(r'$\\sqrt{\\mathrm{PEHE}}$')\n",
    "    plt.title(r'$\\sqrt{\\mathrm{PEHE}}$ Mean and 95\\% Confidence Interval by Enhancement')\n",
    "    plt.grid(True, axis='y', linestyle='--', alpha=0.5)\n",
    "    plt.ylim(min(summary[\"Mean PEHE\"] - summary[\"CI Width\"]) - 0.01, max(summary[\"Mean PEHE\"] + summary[\"CI Width\"]) + 0.01)\n",
    "    plt.legend()\n",
    "    plt.tight_layout()\n",
    "    plt.show()\n"
   ],
   "metadata": {
    "collapsed": false,
    "ExecuteTime": {
     "end_time": "2025-06-22T11:37:32.336609Z",
     "start_time": "2025-06-22T11:37:32.200597Z"
    }
   },
   "id": "a17731090de1eae6",
   "execution_count": 6
  },
  {
   "cell_type": "code",
   "outputs": [
    {
     "name": "stderr",
     "output_type": "stream",
     "text": [
      "  0%|          | 0/100 [00:00<?, ?it/s]"
     ]
    },
    {
     "name": "stdout",
     "output_type": "stream",
     "text": [
      "[Hybrid Scaling] scalar ctrl=1.281, scalar treat=0.719\n",
      "First 10 per-feature ctrl ratios (debug): [1.05 1.28 1.29 1.29 1.3  1.34 1.29 1.29 1.29 1.29]\n",
      "First 10 per-feature treat ratios (debug): [0.95 0.72 0.71 0.71 0.7  0.66 0.71 0.71 0.71 0.71]\n",
      "[Hybrid Scaling] scalar ctrl=1.281, scalar treat=0.719\n",
      "First 10 per-feature ctrl ratios (debug): [1.05 1.28 1.29 1.29 1.3  1.34 1.29 1.29 1.29 1.29]\n",
      "First 10 per-feature treat ratios (debug): [0.95 0.72 0.71 0.71 0.7  0.66 0.71 0.71 0.71 0.71]\n",
      "[Covariate Scaling] Applied per-dim scaling to ICM0 and ICM1 kernels\n",
      "[Ridge T-Learner ARD Init] First 10 lengthscale scalings: [0.301 0.303 0.304 0.301 0.301 0.3   1.301 1.301 1.301 1.301]\n",
      "[Hybrid Scaling] scalar ctrl=1.281, scalar treat=0.719\n",
      "First 10 per-feature ctrl ratios (debug): [1.05 1.28 1.29 1.29 1.3  1.34 1.29 1.29 1.29 1.29]\n",
      "First 10 per-feature treat ratios (debug): [0.95 0.72 0.71 0.71 0.7  0.66 0.71 0.71 0.71 0.71]\n",
      "[Hybrid Scaling] scalar ctrl=1.281, scalar treat=0.719\n",
      "First 10 per-feature ctrl ratios (debug): [1.05 1.28 1.29 1.29 1.3  1.34 1.29 1.29 1.29 1.29]\n",
      "First 10 per-feature treat ratios (debug): [0.95 0.72 0.71 0.71 0.7  0.66 0.71 0.71 0.71 0.71]\n",
      "[Covariate Scaling] Applied per-dim scaling to ICM0 and ICM1 kernels\n",
      "[Ridge T-Learner ARD Init] First 10 lengthscale scalings: [0.301 0.303 0.304 0.301 0.301 0.3   1.301 1.301 1.301 1.301]\n"
     ]
    },
    {
     "name": "stderr",
     "output_type": "stream",
     "text": [
      "  1%|          | 1/100 [03:15<5:23:00, 195.76s/it]"
     ]
    },
    {
     "name": "stdout",
     "output_type": "stream",
     "text": [
      "[Hybrid Scaling] scalar ctrl=1.265, scalar treat=0.735\n",
      "First 10 per-feature ctrl ratios (debug): [0.96 1.26 1.28 1.28 1.29 1.31 1.28 1.28 1.28 1.28]\n",
      "First 10 per-feature treat ratios (debug): [1.04 0.74 0.72 0.72 0.71 0.69 0.72 0.72 0.72 0.72]\n",
      "[Hybrid Scaling] scalar ctrl=1.265, scalar treat=0.735\n",
      "First 10 per-feature ctrl ratios (debug): [0.96 1.26 1.28 1.28 1.29 1.31 1.28 1.28 1.28 1.28]\n",
      "First 10 per-feature treat ratios (debug): [1.04 0.74 0.72 0.72 0.71 0.69 0.72 0.72 0.72 0.72]\n",
      "[Covariate Scaling] Applied per-dim scaling to ICM0 and ICM1 kernels\n",
      "[Ridge T-Learner ARD Init] First 10 lengthscale scalings: [0.301 0.3   0.301 0.309 0.301 0.301 1.22  1.22  1.22  1.22 ]\n",
      "[Hybrid Scaling] scalar ctrl=1.265, scalar treat=0.735\n",
      "First 10 per-feature ctrl ratios (debug): [0.96 1.26 1.28 1.28 1.29 1.31 1.28 1.28 1.28 1.28]\n",
      "First 10 per-feature treat ratios (debug): [1.04 0.74 0.72 0.72 0.71 0.69 0.72 0.72 0.72 0.72]\n",
      "[Hybrid Scaling] scalar ctrl=1.265, scalar treat=0.735\n",
      "First 10 per-feature ctrl ratios (debug): [0.96 1.26 1.28 1.28 1.29 1.31 1.28 1.28 1.28 1.28]\n",
      "First 10 per-feature treat ratios (debug): [1.04 0.74 0.72 0.72 0.71 0.69 0.72 0.72 0.72 0.72]\n",
      "[Covariate Scaling] Applied per-dim scaling to ICM0 and ICM1 kernels\n",
      "[Ridge T-Learner ARD Init] First 10 lengthscale scalings: [0.301 0.3   0.301 0.309 0.301 0.301 1.22  1.22  1.22  1.22 ]\n"
     ]
    },
    {
     "name": "stderr",
     "output_type": "stream",
     "text": [
      "  2%|▏         | 2/100 [06:51<5:39:19, 207.75s/it]"
     ]
    },
    {
     "name": "stdout",
     "output_type": "stream",
     "text": [
      "[Hybrid Scaling] scalar ctrl=1.279, scalar treat=0.721\n",
      "First 10 per-feature ctrl ratios (debug): [1.04 1.27 1.27 1.29 1.34 1.33 1.29 1.29 1.29 1.29]\n",
      "First 10 per-feature treat ratios (debug): [0.96 0.73 0.73 0.71 0.66 0.67 0.71 0.71 0.71 0.71]\n",
      "[Hybrid Scaling] scalar ctrl=1.279, scalar treat=0.721\n",
      "First 10 per-feature ctrl ratios (debug): [1.04 1.27 1.27 1.29 1.34 1.33 1.29 1.29 1.29 1.29]\n",
      "First 10 per-feature treat ratios (debug): [0.96 0.73 0.73 0.71 0.66 0.67 0.71 0.71 0.71 0.71]\n",
      "[Covariate Scaling] Applied per-dim scaling to ICM0 and ICM1 kernels\n",
      "[Ridge T-Learner ARD Init] First 10 lengthscale scalings: [0.3   0.3   0.3   0.303 0.302 0.301 1.329 1.329 1.329 1.329]\n",
      "[Hybrid Scaling] scalar ctrl=1.279, scalar treat=0.721\n",
      "First 10 per-feature ctrl ratios (debug): [1.04 1.27 1.27 1.29 1.34 1.33 1.29 1.29 1.29 1.29]\n",
      "First 10 per-feature treat ratios (debug): [0.96 0.73 0.73 0.71 0.66 0.67 0.71 0.71 0.71 0.71]\n",
      "[Hybrid Scaling] scalar ctrl=1.279, scalar treat=0.721\n",
      "First 10 per-feature ctrl ratios (debug): [1.04 1.27 1.27 1.29 1.34 1.33 1.29 1.29 1.29 1.29]\n",
      "First 10 per-feature treat ratios (debug): [0.96 0.73 0.73 0.71 0.66 0.67 0.71 0.71 0.71 0.71]\n",
      "[Covariate Scaling] Applied per-dim scaling to ICM0 and ICM1 kernels\n",
      "[Ridge T-Learner ARD Init] First 10 lengthscale scalings: [0.3   0.3   0.3   0.303 0.302 0.301 1.329 1.329 1.329 1.329]\n"
     ]
    },
    {
     "name": "stderr",
     "output_type": "stream",
     "text": [
      "  3%|▎         | 3/100 [10:19<5:35:39, 207.63s/it]"
     ]
    },
    {
     "name": "stdout",
     "output_type": "stream",
     "text": [
      "[Hybrid Scaling] scalar ctrl=1.280, scalar treat=0.720\n",
      "First 10 per-feature ctrl ratios (debug): [1.25 1.29 1.25 1.28 1.3  1.28 1.28 1.28 1.28 1.28]\n",
      "First 10 per-feature treat ratios (debug): [0.75 0.71 0.75 0.72 0.7  0.72 0.72 0.72 0.72 0.72]\n",
      "[Hybrid Scaling] scalar ctrl=1.280, scalar treat=0.720\n",
      "First 10 per-feature ctrl ratios (debug): [1.25 1.29 1.25 1.28 1.3  1.28 1.28 1.28 1.28 1.28]\n",
      "First 10 per-feature treat ratios (debug): [0.75 0.71 0.75 0.72 0.7  0.72 0.72 0.72 0.72 0.72]\n",
      "[Covariate Scaling] Applied per-dim scaling to ICM0 and ICM1 kernels\n",
      "[Ridge T-Learner ARD Init] First 10 lengthscale scalings: [0.302 0.3   0.301 0.309 0.302 0.3   1.328 1.328 1.328 1.328]\n",
      "[Hybrid Scaling] scalar ctrl=1.280, scalar treat=0.720\n",
      "First 10 per-feature ctrl ratios (debug): [1.25 1.29 1.25 1.28 1.3  1.28 1.28 1.28 1.28 1.28]\n",
      "First 10 per-feature treat ratios (debug): [0.75 0.71 0.75 0.72 0.7  0.72 0.72 0.72 0.72 0.72]\n",
      "[Hybrid Scaling] scalar ctrl=1.280, scalar treat=0.720\n",
      "First 10 per-feature ctrl ratios (debug): [1.25 1.29 1.25 1.28 1.3  1.28 1.28 1.28 1.28 1.28]\n",
      "First 10 per-feature treat ratios (debug): [0.75 0.71 0.75 0.72 0.7  0.72 0.72 0.72 0.72 0.72]\n",
      "[Covariate Scaling] Applied per-dim scaling to ICM0 and ICM1 kernels\n",
      "[Ridge T-Learner ARD Init] First 10 lengthscale scalings: [0.302 0.3   0.301 0.309 0.302 0.3   1.328 1.328 1.328 1.328]\n"
     ]
    },
    {
     "name": "stderr",
     "output_type": "stream",
     "text": [
      "  4%|▍         | 4/100 [13:42<5:29:06, 205.70s/it]"
     ]
    },
    {
     "name": "stdout",
     "output_type": "stream",
     "text": [
      "[Hybrid Scaling] scalar ctrl=1.253, scalar treat=0.747\n",
      "First 10 per-feature ctrl ratios (debug): [0.85 1.24 1.24 1.27 1.28 1.31 1.27 1.27 1.27 1.27]\n",
      "First 10 per-feature treat ratios (debug): [1.15 0.76 0.76 0.73 0.72 0.69 0.73 0.73 0.73 0.73]\n",
      "[Hybrid Scaling] scalar ctrl=1.253, scalar treat=0.747\n",
      "First 10 per-feature ctrl ratios (debug): [0.85 1.24 1.24 1.27 1.28 1.31 1.27 1.27 1.27 1.27]\n",
      "First 10 per-feature treat ratios (debug): [1.15 0.76 0.76 0.73 0.72 0.69 0.73 0.73 0.73 0.73]\n",
      "[Covariate Scaling] Applied per-dim scaling to ICM0 and ICM1 kernels\n",
      "[Ridge T-Learner ARD Init] First 10 lengthscale scalings: [0.301 0.301 0.306 0.301 0.301 0.301 1.221 1.221 1.221 1.221]\n",
      "[Hybrid Scaling] scalar ctrl=1.253, scalar treat=0.747\n",
      "First 10 per-feature ctrl ratios (debug): [0.85 1.24 1.24 1.27 1.28 1.31 1.27 1.27 1.27 1.27]\n",
      "First 10 per-feature treat ratios (debug): [1.15 0.76 0.76 0.73 0.72 0.69 0.73 0.73 0.73 0.73]\n",
      "[Hybrid Scaling] scalar ctrl=1.253, scalar treat=0.747\n",
      "First 10 per-feature ctrl ratios (debug): [0.85 1.24 1.24 1.27 1.28 1.31 1.27 1.27 1.27 1.27]\n",
      "First 10 per-feature treat ratios (debug): [1.15 0.76 0.76 0.73 0.72 0.69 0.73 0.73 0.73 0.73]\n",
      "[Covariate Scaling] Applied per-dim scaling to ICM0 and ICM1 kernels\n",
      "[Ridge T-Learner ARD Init] First 10 lengthscale scalings: [0.301 0.301 0.306 0.301 0.301 0.301 1.221 1.221 1.221 1.221]\n"
     ]
    },
    {
     "name": "stderr",
     "output_type": "stream",
     "text": [
      "  5%|▌         | 5/100 [16:52<5:16:47, 200.08s/it]"
     ]
    },
    {
     "name": "stdout",
     "output_type": "stream",
     "text": [
      "[Hybrid Scaling] scalar ctrl=1.266, scalar treat=0.734\n",
      "First 10 per-feature ctrl ratios (debug): [0.93 1.26 1.24 1.28 1.31 1.32 1.28 1.28 1.28 1.28]\n",
      "First 10 per-feature treat ratios (debug): [1.07 0.74 0.76 0.72 0.69 0.68 0.72 0.72 0.72 0.72]\n",
      "[Hybrid Scaling] scalar ctrl=1.266, scalar treat=0.734\n",
      "First 10 per-feature ctrl ratios (debug): [0.93 1.26 1.24 1.28 1.31 1.32 1.28 1.28 1.28 1.28]\n",
      "First 10 per-feature treat ratios (debug): [1.07 0.74 0.76 0.72 0.69 0.68 0.72 0.72 0.72 0.72]\n",
      "[Covariate Scaling] Applied per-dim scaling to ICM0 and ICM1 kernels\n",
      "[Ridge T-Learner ARD Init] First 10 lengthscale scalings: [0.301 0.304 0.301 0.301 0.302 0.3   1.328 1.328 0.303 1.328]\n",
      "[Hybrid Scaling] scalar ctrl=1.266, scalar treat=0.734\n",
      "First 10 per-feature ctrl ratios (debug): [0.93 1.26 1.24 1.28 1.31 1.32 1.28 1.28 1.28 1.28]\n",
      "First 10 per-feature treat ratios (debug): [1.07 0.74 0.76 0.72 0.69 0.68 0.72 0.72 0.72 0.72]\n",
      "[Hybrid Scaling] scalar ctrl=1.266, scalar treat=0.734\n",
      "First 10 per-feature ctrl ratios (debug): [0.93 1.26 1.24 1.28 1.31 1.32 1.28 1.28 1.28 1.28]\n",
      "First 10 per-feature treat ratios (debug): [1.07 0.74 0.76 0.72 0.69 0.68 0.72 0.72 0.72 0.72]\n",
      "[Covariate Scaling] Applied per-dim scaling to ICM0 and ICM1 kernels\n",
      "[Ridge T-Learner ARD Init] First 10 lengthscale scalings: [0.301 0.304 0.301 0.301 0.302 0.3   1.328 1.328 0.303 1.328]\n"
     ]
    },
    {
     "name": "stderr",
     "output_type": "stream",
     "text": [
      "  6%|▌         | 6/100 [20:14<5:14:35, 200.80s/it]"
     ]
    },
    {
     "name": "stdout",
     "output_type": "stream",
     "text": [
      "[Hybrid Scaling] scalar ctrl=1.265, scalar treat=0.735\n",
      "First 10 per-feature ctrl ratios (debug): [0.94 1.26 1.26 1.28 1.3  1.3  1.28 1.28 1.28 1.28]\n",
      "First 10 per-feature treat ratios (debug): [1.06 0.74 0.74 0.72 0.7  0.7  0.72 0.72 0.72 0.72]\n",
      "[Hybrid Scaling] scalar ctrl=1.265, scalar treat=0.735\n",
      "First 10 per-feature ctrl ratios (debug): [0.94 1.26 1.26 1.28 1.3  1.3  1.28 1.28 1.28 1.28]\n",
      "First 10 per-feature treat ratios (debug): [1.06 0.74 0.74 0.72 0.7  0.7  0.72 0.72 0.72 0.72]\n",
      "[Covariate Scaling] Applied per-dim scaling to ICM0 and ICM1 kernels\n",
      "[Ridge T-Learner ARD Init] First 10 lengthscale scalings: [0.308 0.311 0.323 0.301 0.309 0.305 1.269 1.269 1.269 1.269]\n",
      "[Hybrid Scaling] scalar ctrl=1.265, scalar treat=0.735\n",
      "First 10 per-feature ctrl ratios (debug): [0.94 1.26 1.26 1.28 1.3  1.3  1.28 1.28 1.28 1.28]\n",
      "First 10 per-feature treat ratios (debug): [1.06 0.74 0.74 0.72 0.7  0.7  0.72 0.72 0.72 0.72]\n",
      "[Hybrid Scaling] scalar ctrl=1.265, scalar treat=0.735\n",
      "First 10 per-feature ctrl ratios (debug): [0.94 1.26 1.26 1.28 1.3  1.3  1.28 1.28 1.28 1.28]\n",
      "First 10 per-feature treat ratios (debug): [1.06 0.74 0.74 0.72 0.7  0.7  0.72 0.72 0.72 0.72]\n",
      "[Covariate Scaling] Applied per-dim scaling to ICM0 and ICM1 kernels\n",
      "[Ridge T-Learner ARD Init] First 10 lengthscale scalings: [0.308 0.311 0.323 0.301 0.309 0.305 1.269 1.269 1.269 1.269]\n"
     ]
    },
    {
     "name": "stderr",
     "output_type": "stream",
     "text": [
      "  7%|▋         | 7/100 [23:20<5:03:59, 196.12s/it]"
     ]
    },
    {
     "name": "stdout",
     "output_type": "stream",
     "text": [
      "[Hybrid Scaling] scalar ctrl=1.290, scalar treat=0.710\n",
      "First 10 per-feature ctrl ratios (debug): [0.97 1.29 1.28 1.3  1.32 1.32 1.3  1.3  1.3  1.3 ]\n",
      "First 10 per-feature treat ratios (debug): [1.03 0.71 0.72 0.7  0.68 0.68 0.7  0.7  0.7  0.7 ]\n",
      "[Hybrid Scaling] scalar ctrl=1.290, scalar treat=0.710\n",
      "First 10 per-feature ctrl ratios (debug): [0.97 1.29 1.28 1.3  1.32 1.32 1.3  1.3  1.3  1.3 ]\n",
      "First 10 per-feature treat ratios (debug): [1.03 0.71 0.72 0.7  0.68 0.68 0.7  0.7  0.7  0.7 ]\n",
      "[Covariate Scaling] Applied per-dim scaling to ICM0 and ICM1 kernels\n",
      "[Ridge T-Learner ARD Init] First 10 lengthscale scalings: [0.301 0.301 0.301 0.376 0.3   0.302 1.267 1.267 1.267 1.267]\n",
      "[Hybrid Scaling] scalar ctrl=1.290, scalar treat=0.710\n",
      "First 10 per-feature ctrl ratios (debug): [0.97 1.29 1.28 1.3  1.32 1.32 1.3  1.3  1.3  1.3 ]\n",
      "First 10 per-feature treat ratios (debug): [1.03 0.71 0.72 0.7  0.68 0.68 0.7  0.7  0.7  0.7 ]\n",
      "[Hybrid Scaling] scalar ctrl=1.290, scalar treat=0.710\n",
      "First 10 per-feature ctrl ratios (debug): [0.97 1.29 1.28 1.3  1.32 1.32 1.3  1.3  1.3  1.3 ]\n",
      "First 10 per-feature treat ratios (debug): [1.03 0.71 0.72 0.7  0.68 0.68 0.7  0.7  0.7  0.7 ]\n",
      "[Covariate Scaling] Applied per-dim scaling to ICM0 and ICM1 kernels\n",
      "[Ridge T-Learner ARD Init] First 10 lengthscale scalings: [0.301 0.301 0.301 0.376 0.3   0.302 1.267 1.267 1.267 1.267]\n"
     ]
    },
    {
     "name": "stderr",
     "output_type": "stream",
     "text": [
      "  8%|▊         | 8/100 [25:47<4:36:37, 180.40s/it]"
     ]
    },
    {
     "name": "stdout",
     "output_type": "stream",
     "text": [
      "[Hybrid Scaling] scalar ctrl=1.299, scalar treat=0.701\n",
      "First 10 per-feature ctrl ratios (debug): [1.2  1.31 1.27 1.3  1.37 1.33 1.3  1.3  1.3  1.3 ]\n",
      "First 10 per-feature treat ratios (debug): [0.8  0.69 0.73 0.7  0.63 0.67 0.7  0.7  0.7  0.7 ]\n",
      "[Hybrid Scaling] scalar ctrl=1.299, scalar treat=0.701\n",
      "First 10 per-feature ctrl ratios (debug): [1.2  1.31 1.27 1.3  1.37 1.33 1.3  1.3  1.3  1.3 ]\n",
      "First 10 per-feature treat ratios (debug): [0.8  0.69 0.73 0.7  0.63 0.67 0.7  0.7  0.7  0.7 ]\n",
      "[Covariate Scaling] Applied per-dim scaling to ICM0 and ICM1 kernels\n",
      "[Ridge T-Learner ARD Init] First 10 lengthscale scalings: [0.3   0.3   0.3   0.302 0.302 0.301 1.221 1.221 1.221 1.221]\n",
      "[Hybrid Scaling] scalar ctrl=1.299, scalar treat=0.701\n",
      "First 10 per-feature ctrl ratios (debug): [1.2  1.31 1.27 1.3  1.37 1.33 1.3  1.3  1.3  1.3 ]\n",
      "First 10 per-feature treat ratios (debug): [0.8  0.69 0.73 0.7  0.63 0.67 0.7  0.7  0.7  0.7 ]\n",
      "[Hybrid Scaling] scalar ctrl=1.299, scalar treat=0.701\n",
      "First 10 per-feature ctrl ratios (debug): [1.2  1.31 1.27 1.3  1.37 1.33 1.3  1.3  1.3  1.3 ]\n",
      "First 10 per-feature treat ratios (debug): [0.8  0.69 0.73 0.7  0.63 0.67 0.7  0.7  0.7  0.7 ]\n",
      "[Covariate Scaling] Applied per-dim scaling to ICM0 and ICM1 kernels\n",
      "[Ridge T-Learner ARD Init] First 10 lengthscale scalings: [0.3   0.3   0.3   0.302 0.302 0.301 1.221 1.221 1.221 1.221]\n"
     ]
    },
    {
     "name": "stderr",
     "output_type": "stream",
     "text": [
      "  9%|▉         | 9/100 [27:50<4:06:30, 162.54s/it]"
     ]
    },
    {
     "name": "stdout",
     "output_type": "stream",
     "text": [
      "[Hybrid Scaling] scalar ctrl=1.306, scalar treat=0.694\n",
      "First 10 per-feature ctrl ratios (debug): [1.33 1.28 1.26 1.3  1.32 1.36 1.3  1.3  1.3  1.3 ]\n",
      "First 10 per-feature treat ratios (debug): [0.67 0.72 0.74 0.7  0.68 0.64 0.7  0.7  0.7  0.7 ]\n",
      "[Hybrid Scaling] scalar ctrl=1.306, scalar treat=0.694\n",
      "First 10 per-feature ctrl ratios (debug): [1.33 1.28 1.26 1.3  1.32 1.36 1.3  1.3  1.3  1.3 ]\n",
      "First 10 per-feature treat ratios (debug): [0.67 0.72 0.74 0.7  0.68 0.64 0.7  0.7  0.7  0.7 ]\n",
      "[Covariate Scaling] Applied per-dim scaling to ICM0 and ICM1 kernels\n",
      "[Ridge T-Learner ARD Init] First 10 lengthscale scalings: [0.301 0.303 0.301 0.306 0.3   0.3   1.22  1.22  1.22  1.22 ]\n",
      "[Hybrid Scaling] scalar ctrl=1.306, scalar treat=0.694\n",
      "First 10 per-feature ctrl ratios (debug): [1.33 1.28 1.26 1.3  1.32 1.36 1.3  1.3  1.3  1.3 ]\n",
      "First 10 per-feature treat ratios (debug): [0.67 0.72 0.74 0.7  0.68 0.64 0.7  0.7  0.7  0.7 ]\n",
      "[Hybrid Scaling] scalar ctrl=1.306, scalar treat=0.694\n",
      "First 10 per-feature ctrl ratios (debug): [1.33 1.28 1.26 1.3  1.32 1.36 1.3  1.3  1.3  1.3 ]\n",
      "First 10 per-feature treat ratios (debug): [0.67 0.72 0.74 0.7  0.68 0.64 0.7  0.7  0.7  0.7 ]\n",
      "[Covariate Scaling] Applied per-dim scaling to ICM0 and ICM1 kernels\n",
      "[Ridge T-Learner ARD Init] First 10 lengthscale scalings: [0.301 0.303 0.301 0.306 0.3   0.3   1.22  1.22  1.22  1.22 ]\n"
     ]
    },
    {
     "name": "stderr",
     "output_type": "stream",
     "text": [
      " 10%|█         | 10/100 [30:04<3:50:25, 153.61s/it]"
     ]
    },
    {
     "name": "stdout",
     "output_type": "stream",
     "text": [
      "[Hybrid Scaling] scalar ctrl=1.281, scalar treat=0.719\n",
      "First 10 per-feature ctrl ratios (debug): [1.18 1.27 1.25 1.28 1.29 1.33 1.28 1.28 1.28 1.28]\n",
      "First 10 per-feature treat ratios (debug): [0.82 0.73 0.75 0.72 0.71 0.67 0.72 0.72 0.72 0.72]\n",
      "[Hybrid Scaling] scalar ctrl=1.281, scalar treat=0.719\n",
      "First 10 per-feature ctrl ratios (debug): [1.18 1.27 1.25 1.28 1.29 1.33 1.28 1.28 1.28 1.28]\n",
      "First 10 per-feature treat ratios (debug): [0.82 0.73 0.75 0.72 0.71 0.67 0.72 0.72 0.72 0.72]\n",
      "[Covariate Scaling] Applied per-dim scaling to ICM0 and ICM1 kernels\n",
      "[Ridge T-Learner ARD Init] First 10 lengthscale scalings: [0.301 0.314 0.303 0.307 0.3   0.301 1.271 1.271 1.271 1.271]\n",
      "[Hybrid Scaling] scalar ctrl=1.281, scalar treat=0.719\n",
      "First 10 per-feature ctrl ratios (debug): [1.18 1.27 1.25 1.28 1.29 1.33 1.28 1.28 1.28 1.28]\n",
      "First 10 per-feature treat ratios (debug): [0.82 0.73 0.75 0.72 0.71 0.67 0.72 0.72 0.72 0.72]\n",
      "[Hybrid Scaling] scalar ctrl=1.281, scalar treat=0.719\n",
      "First 10 per-feature ctrl ratios (debug): [1.18 1.27 1.25 1.28 1.29 1.33 1.28 1.28 1.28 1.28]\n",
      "First 10 per-feature treat ratios (debug): [0.82 0.73 0.75 0.72 0.71 0.67 0.72 0.72 0.72 0.72]\n",
      "[Covariate Scaling] Applied per-dim scaling to ICM0 and ICM1 kernels\n",
      "[Ridge T-Learner ARD Init] First 10 lengthscale scalings: [0.301 0.314 0.303 0.307 0.3   0.301 1.271 1.271 1.271 1.271]\n"
     ]
    },
    {
     "name": "stderr",
     "output_type": "stream",
     "text": [
      " 11%|█         | 11/100 [32:19<3:39:29, 147.98s/it]"
     ]
    },
    {
     "name": "stdout",
     "output_type": "stream",
     "text": [
      "[Hybrid Scaling] scalar ctrl=1.272, scalar treat=0.728\n",
      "First 10 per-feature ctrl ratios (debug): [0.84 1.28 1.27 1.29 1.29 1.31 1.29 1.29 1.29 1.29]\n",
      "First 10 per-feature treat ratios (debug): [1.16 0.72 0.73 0.71 0.71 0.69 0.71 0.71 0.71 0.71]\n",
      "[Hybrid Scaling] scalar ctrl=1.272, scalar treat=0.728\n",
      "First 10 per-feature ctrl ratios (debug): [0.84 1.28 1.27 1.29 1.29 1.31 1.29 1.29 1.29 1.29]\n",
      "First 10 per-feature treat ratios (debug): [1.16 0.72 0.73 0.71 0.71 0.69 0.71 0.71 0.71 0.71]\n",
      "[Covariate Scaling] Applied per-dim scaling to ICM0 and ICM1 kernels\n",
      "[Ridge T-Learner ARD Init] First 10 lengthscale scalings: [0.301 0.3   0.301 0.305 0.3   0.301 1.272 1.272 1.272 1.272]\n",
      "[Hybrid Scaling] scalar ctrl=1.272, scalar treat=0.728\n",
      "First 10 per-feature ctrl ratios (debug): [0.84 1.28 1.27 1.29 1.29 1.31 1.29 1.29 1.29 1.29]\n",
      "First 10 per-feature treat ratios (debug): [1.16 0.72 0.73 0.71 0.71 0.69 0.71 0.71 0.71 0.71]\n",
      "[Hybrid Scaling] scalar ctrl=1.272, scalar treat=0.728\n",
      "First 10 per-feature ctrl ratios (debug): [0.84 1.28 1.27 1.29 1.29 1.31 1.29 1.29 1.29 1.29]\n",
      "First 10 per-feature treat ratios (debug): [1.16 0.72 0.73 0.71 0.71 0.69 0.71 0.71 0.71 0.71]\n",
      "[Covariate Scaling] Applied per-dim scaling to ICM0 and ICM1 kernels\n",
      "[Ridge T-Learner ARD Init] First 10 lengthscale scalings: [0.301 0.3   0.301 0.305 0.3   0.301 1.272 1.272 1.272 1.272]\n"
     ]
    },
    {
     "name": "stderr",
     "output_type": "stream",
     "text": [
      " 12%|█▏        | 12/100 [34:32<3:30:10, 143.30s/it]"
     ]
    },
    {
     "name": "stdout",
     "output_type": "stream",
     "text": [
      "[Hybrid Scaling] scalar ctrl=1.271, scalar treat=0.729\n",
      "First 10 per-feature ctrl ratios (debug): [0.91 1.27 1.26 1.28 1.32 1.3  1.28 1.28 1.28 1.28]\n",
      "First 10 per-feature treat ratios (debug): [1.09 0.73 0.74 0.72 0.68 0.7  0.72 0.72 0.72 0.72]\n",
      "[Hybrid Scaling] scalar ctrl=1.271, scalar treat=0.729\n",
      "First 10 per-feature ctrl ratios (debug): [0.91 1.27 1.26 1.28 1.32 1.3  1.28 1.28 1.28 1.28]\n",
      "First 10 per-feature treat ratios (debug): [1.09 0.73 0.74 0.72 0.68 0.7  0.72 0.72 0.72 0.72]\n",
      "[Covariate Scaling] Applied per-dim scaling to ICM0 and ICM1 kernels\n",
      "[Ridge T-Learner ARD Init] First 10 lengthscale scalings: [0.3   0.3   0.301 0.301 0.302 0.301 0.473 1.382 1.382 1.382]\n",
      "[Hybrid Scaling] scalar ctrl=1.271, scalar treat=0.729\n",
      "First 10 per-feature ctrl ratios (debug): [0.91 1.27 1.26 1.28 1.32 1.3  1.28 1.28 1.28 1.28]\n",
      "First 10 per-feature treat ratios (debug): [1.09 0.73 0.74 0.72 0.68 0.7  0.72 0.72 0.72 0.72]\n",
      "[Hybrid Scaling] scalar ctrl=1.271, scalar treat=0.729\n",
      "First 10 per-feature ctrl ratios (debug): [0.91 1.27 1.26 1.28 1.32 1.3  1.28 1.28 1.28 1.28]\n",
      "First 10 per-feature treat ratios (debug): [1.09 0.73 0.74 0.72 0.68 0.7  0.72 0.72 0.72 0.72]\n",
      "[Covariate Scaling] Applied per-dim scaling to ICM0 and ICM1 kernels\n",
      "[Ridge T-Learner ARD Init] First 10 lengthscale scalings: [0.3   0.3   0.301 0.301 0.302 0.301 0.473 1.382 1.382 1.382]\n"
     ]
    },
    {
     "name": "stderr",
     "output_type": "stream",
     "text": [
      " 13%|█▎        | 13/100 [36:56<3:28:10, 143.57s/it]"
     ]
    },
    {
     "name": "stdout",
     "output_type": "stream",
     "text": [
      "[Hybrid Scaling] scalar ctrl=1.309, scalar treat=0.691\n",
      "First 10 per-feature ctrl ratios (debug): [1.09 1.3  1.32 1.32 1.32 1.33 1.32 1.32 1.32 1.32]\n",
      "First 10 per-feature treat ratios (debug): [0.91 0.7  0.68 0.68 0.68 0.67 0.68 0.68 0.68 0.68]\n",
      "[Hybrid Scaling] scalar ctrl=1.309, scalar treat=0.691\n",
      "First 10 per-feature ctrl ratios (debug): [1.09 1.3  1.32 1.32 1.32 1.33 1.32 1.32 1.32 1.32]\n",
      "First 10 per-feature treat ratios (debug): [0.91 0.7  0.68 0.68 0.68 0.67 0.68 0.68 0.68 0.68]\n",
      "[Covariate Scaling] Applied per-dim scaling to ICM0 and ICM1 kernels\n",
      "[Ridge T-Learner ARD Init] First 10 lengthscale scalings: [0.302 0.306 0.305 0.3   0.302 0.302 1.22  1.22  1.22  1.22 ]\n",
      "[Hybrid Scaling] scalar ctrl=1.309, scalar treat=0.691\n",
      "First 10 per-feature ctrl ratios (debug): [1.09 1.3  1.32 1.32 1.32 1.33 1.32 1.32 1.32 1.32]\n",
      "First 10 per-feature treat ratios (debug): [0.91 0.7  0.68 0.68 0.68 0.67 0.68 0.68 0.68 0.68]\n",
      "[Hybrid Scaling] scalar ctrl=1.309, scalar treat=0.691\n",
      "First 10 per-feature ctrl ratios (debug): [1.09 1.3  1.32 1.32 1.32 1.33 1.32 1.32 1.32 1.32]\n",
      "First 10 per-feature treat ratios (debug): [0.91 0.7  0.68 0.68 0.68 0.67 0.68 0.68 0.68 0.68]\n",
      "[Covariate Scaling] Applied per-dim scaling to ICM0 and ICM1 kernels\n",
      "[Ridge T-Learner ARD Init] First 10 lengthscale scalings: [0.302 0.306 0.305 0.3   0.302 0.302 1.22  1.22  1.22  1.22 ]\n"
     ]
    },
    {
     "name": "stderr",
     "output_type": "stream",
     "text": [
      " 14%|█▍        | 14/100 [39:17<3:24:36, 142.75s/it]"
     ]
    },
    {
     "name": "stdout",
     "output_type": "stream",
     "text": [
      "[Hybrid Scaling] scalar ctrl=1.281, scalar treat=0.719\n",
      "First 10 per-feature ctrl ratios (debug): [1.08 1.31 1.27 1.29 1.28 1.31 1.29 1.29 1.29 1.29]\n",
      "First 10 per-feature treat ratios (debug): [0.92 0.69 0.73 0.71 0.72 0.69 0.71 0.71 0.71 0.71]\n",
      "[Hybrid Scaling] scalar ctrl=1.281, scalar treat=0.719\n",
      "First 10 per-feature ctrl ratios (debug): [1.08 1.31 1.27 1.29 1.28 1.31 1.29 1.29 1.29 1.29]\n",
      "First 10 per-feature treat ratios (debug): [0.92 0.69 0.73 0.71 0.72 0.69 0.71 0.71 0.71 0.71]\n",
      "[Covariate Scaling] Applied per-dim scaling to ICM0 and ICM1 kernels\n",
      "[Ridge T-Learner ARD Init] First 10 lengthscale scalings: [0.301 0.3   0.303 0.315 0.3   0.301 1.271 1.271 1.271 1.271]\n",
      "[Hybrid Scaling] scalar ctrl=1.281, scalar treat=0.719\n",
      "First 10 per-feature ctrl ratios (debug): [1.08 1.31 1.27 1.29 1.28 1.31 1.29 1.29 1.29 1.29]\n",
      "First 10 per-feature treat ratios (debug): [0.92 0.69 0.73 0.71 0.72 0.69 0.71 0.71 0.71 0.71]\n",
      "[Hybrid Scaling] scalar ctrl=1.281, scalar treat=0.719\n",
      "First 10 per-feature ctrl ratios (debug): [1.08 1.31 1.27 1.29 1.28 1.31 1.29 1.29 1.29 1.29]\n",
      "First 10 per-feature treat ratios (debug): [0.92 0.69 0.73 0.71 0.72 0.69 0.71 0.71 0.71 0.71]\n",
      "[Covariate Scaling] Applied per-dim scaling to ICM0 and ICM1 kernels\n",
      "[Ridge T-Learner ARD Init] First 10 lengthscale scalings: [0.301 0.3   0.303 0.315 0.3   0.301 1.271 1.271 1.271 1.271]\n"
     ]
    },
    {
     "name": "stderr",
     "output_type": "stream",
     "text": [
      " 15%|█▌        | 15/100 [41:22<3:14:41, 137.43s/it]"
     ]
    },
    {
     "name": "stdout",
     "output_type": "stream",
     "text": [
      "[Hybrid Scaling] scalar ctrl=1.290, scalar treat=0.710\n",
      "First 10 per-feature ctrl ratios (debug): [1.07 1.3  1.27 1.3  1.32 1.32 1.3  1.3  1.3  1.3 ]\n",
      "First 10 per-feature treat ratios (debug): [0.93 0.7  0.73 0.7  0.68 0.68 0.7  0.7  0.7  0.7 ]\n",
      "[Hybrid Scaling] scalar ctrl=1.290, scalar treat=0.710\n",
      "First 10 per-feature ctrl ratios (debug): [1.07 1.3  1.27 1.3  1.32 1.32 1.3  1.3  1.3  1.3 ]\n",
      "First 10 per-feature treat ratios (debug): [0.93 0.7  0.73 0.7  0.68 0.68 0.7  0.7  0.7  0.7 ]\n",
      "[Covariate Scaling] Applied per-dim scaling to ICM0 and ICM1 kernels\n",
      "[Ridge T-Learner ARD Init] First 10 lengthscale scalings: [0.301 0.302 0.301 0.303 0.302 0.302 1.27  1.27  1.27  1.27 ]\n",
      "[Hybrid Scaling] scalar ctrl=1.290, scalar treat=0.710\n",
      "First 10 per-feature ctrl ratios (debug): [1.07 1.3  1.27 1.3  1.32 1.32 1.3  1.3  1.3  1.3 ]\n",
      "First 10 per-feature treat ratios (debug): [0.93 0.7  0.73 0.7  0.68 0.68 0.7  0.7  0.7  0.7 ]\n",
      "[Hybrid Scaling] scalar ctrl=1.290, scalar treat=0.710\n",
      "First 10 per-feature ctrl ratios (debug): [1.07 1.3  1.27 1.3  1.32 1.32 1.3  1.3  1.3  1.3 ]\n",
      "First 10 per-feature treat ratios (debug): [0.93 0.7  0.73 0.7  0.68 0.68 0.7  0.7  0.7  0.7 ]\n",
      "[Covariate Scaling] Applied per-dim scaling to ICM0 and ICM1 kernels\n",
      "[Ridge T-Learner ARD Init] First 10 lengthscale scalings: [0.301 0.302 0.301 0.303 0.302 0.302 1.27  1.27  1.27  1.27 ]\n"
     ]
    },
    {
     "name": "stderr",
     "output_type": "stream",
     "text": [
      " 16%|█▌        | 16/100 [43:28<3:07:45, 134.12s/it]"
     ]
    },
    {
     "name": "stdout",
     "output_type": "stream",
     "text": [
      "[Hybrid Scaling] scalar ctrl=1.274, scalar treat=0.726\n",
      "First 10 per-feature ctrl ratios (debug): [0.94 1.27 1.28 1.29 1.32 1.3  1.29 1.29 1.29 1.29]\n",
      "First 10 per-feature treat ratios (debug): [1.06 0.73 0.72 0.71 0.68 0.7  0.71 0.71 0.71 0.71]\n",
      "[Hybrid Scaling] scalar ctrl=1.274, scalar treat=0.726\n",
      "First 10 per-feature ctrl ratios (debug): [0.94 1.27 1.28 1.29 1.32 1.3  1.29 1.29 1.29 1.29]\n",
      "First 10 per-feature treat ratios (debug): [1.06 0.73 0.72 0.71 0.68 0.7  0.71 0.71 0.71 0.71]\n",
      "[Covariate Scaling] Applied per-dim scaling to ICM0 and ICM1 kernels\n",
      "[Ridge T-Learner ARD Init] First 10 lengthscale scalings: [0.301 0.3   0.301 0.304 0.3   0.3   1.221 1.221 1.221 1.221]\n",
      "[Hybrid Scaling] scalar ctrl=1.274, scalar treat=0.726\n",
      "First 10 per-feature ctrl ratios (debug): [0.94 1.27 1.28 1.29 1.32 1.3  1.29 1.29 1.29 1.29]\n",
      "First 10 per-feature treat ratios (debug): [1.06 0.73 0.72 0.71 0.68 0.7  0.71 0.71 0.71 0.71]\n",
      "[Hybrid Scaling] scalar ctrl=1.274, scalar treat=0.726\n",
      "First 10 per-feature ctrl ratios (debug): [0.94 1.27 1.28 1.29 1.32 1.3  1.29 1.29 1.29 1.29]\n",
      "First 10 per-feature treat ratios (debug): [1.06 0.73 0.72 0.71 0.68 0.7  0.71 0.71 0.71 0.71]\n",
      "[Covariate Scaling] Applied per-dim scaling to ICM0 and ICM1 kernels\n",
      "[Ridge T-Learner ARD Init] First 10 lengthscale scalings: [0.301 0.3   0.301 0.304 0.3   0.3   1.221 1.221 1.221 1.221]\n"
     ]
    },
    {
     "name": "stderr",
     "output_type": "stream",
     "text": [
      " 17%|█▋        | 17/100 [45:40<3:04:37, 133.46s/it]"
     ]
    },
    {
     "name": "stdout",
     "output_type": "stream",
     "text": [
      "[Hybrid Scaling] scalar ctrl=1.287, scalar treat=0.713\n",
      "First 10 per-feature ctrl ratios (debug): [1.18 1.28 1.25 1.29 1.31 1.32 1.29 1.29 1.29 1.29]\n",
      "First 10 per-feature treat ratios (debug): [0.82 0.72 0.75 0.71 0.69 0.68 0.71 0.71 0.71 0.71]\n",
      "[Hybrid Scaling] scalar ctrl=1.287, scalar treat=0.713\n",
      "First 10 per-feature ctrl ratios (debug): [1.18 1.28 1.25 1.29 1.31 1.32 1.29 1.29 1.29 1.29]\n",
      "First 10 per-feature treat ratios (debug): [0.82 0.72 0.75 0.71 0.69 0.68 0.71 0.71 0.71 0.71]\n",
      "[Covariate Scaling] Applied per-dim scaling to ICM0 and ICM1 kernels\n",
      "[Ridge T-Learner ARD Init] First 10 lengthscale scalings: [0.301 0.301 0.302 0.32  0.3   0.302 1.324 1.324 1.324 1.324]\n",
      "[Hybrid Scaling] scalar ctrl=1.287, scalar treat=0.713\n",
      "First 10 per-feature ctrl ratios (debug): [1.18 1.28 1.25 1.29 1.31 1.32 1.29 1.29 1.29 1.29]\n",
      "First 10 per-feature treat ratios (debug): [0.82 0.72 0.75 0.71 0.69 0.68 0.71 0.71 0.71 0.71]\n",
      "[Hybrid Scaling] scalar ctrl=1.287, scalar treat=0.713\n",
      "First 10 per-feature ctrl ratios (debug): [1.18 1.28 1.25 1.29 1.31 1.32 1.29 1.29 1.29 1.29]\n",
      "First 10 per-feature treat ratios (debug): [0.82 0.72 0.75 0.71 0.69 0.68 0.71 0.71 0.71 0.71]\n",
      "[Covariate Scaling] Applied per-dim scaling to ICM0 and ICM1 kernels\n",
      "[Ridge T-Learner ARD Init] First 10 lengthscale scalings: [0.301 0.301 0.302 0.32  0.3   0.302 1.324 1.324 1.324 1.324]\n"
     ]
    },
    {
     "name": "stderr",
     "output_type": "stream",
     "text": [
      " 18%|█▊        | 18/100 [47:47<2:59:38, 131.44s/it]"
     ]
    },
    {
     "name": "stdout",
     "output_type": "stream",
     "text": [
      "[Hybrid Scaling] scalar ctrl=1.284, scalar treat=0.716\n",
      "First 10 per-feature ctrl ratios (debug): [0.82 1.28 1.28 1.3  1.33 1.35 1.3  1.3  1.3  1.3 ]\n",
      "First 10 per-feature treat ratios (debug): [1.18 0.72 0.72 0.7  0.67 0.65 0.7  0.7  0.7  0.7 ]\n",
      "[Hybrid Scaling] scalar ctrl=1.284, scalar treat=0.716\n",
      "First 10 per-feature ctrl ratios (debug): [0.82 1.28 1.28 1.3  1.33 1.35 1.3  1.3  1.3  1.3 ]\n",
      "First 10 per-feature treat ratios (debug): [1.18 0.72 0.72 0.7  0.67 0.65 0.7  0.7  0.7  0.7 ]\n",
      "[Covariate Scaling] Applied per-dim scaling to ICM0 and ICM1 kernels\n",
      "[Ridge T-Learner ARD Init] First 10 lengthscale scalings: [0.301 0.302 0.301 0.3   0.3   0.301 1.263 1.263 0.465 1.263]\n",
      "[Hybrid Scaling] scalar ctrl=1.284, scalar treat=0.716\n",
      "First 10 per-feature ctrl ratios (debug): [0.82 1.28 1.28 1.3  1.33 1.35 1.3  1.3  1.3  1.3 ]\n",
      "First 10 per-feature treat ratios (debug): [1.18 0.72 0.72 0.7  0.67 0.65 0.7  0.7  0.7  0.7 ]\n",
      "[Hybrid Scaling] scalar ctrl=1.284, scalar treat=0.716\n",
      "First 10 per-feature ctrl ratios (debug): [0.82 1.28 1.28 1.3  1.33 1.35 1.3  1.3  1.3  1.3 ]\n",
      "First 10 per-feature treat ratios (debug): [1.18 0.72 0.72 0.7  0.67 0.65 0.7  0.7  0.7  0.7 ]\n",
      "[Covariate Scaling] Applied per-dim scaling to ICM0 and ICM1 kernels\n",
      "[Ridge T-Learner ARD Init] First 10 lengthscale scalings: [0.301 0.302 0.301 0.3   0.3   0.301 1.263 1.263 0.465 1.263]\n"
     ]
    },
    {
     "name": "stderr",
     "output_type": "stream",
     "text": [
      " 19%|█▉        | 19/100 [50:05<3:00:10, 133.47s/it]"
     ]
    },
    {
     "name": "stdout",
     "output_type": "stream",
     "text": [
      "[Hybrid Scaling] scalar ctrl=1.286, scalar treat=0.714\n",
      "First 10 per-feature ctrl ratios (debug): [1.23 1.28 1.26 1.29 1.32 1.32 1.29 1.29 1.29 1.29]\n",
      "First 10 per-feature treat ratios (debug): [0.77 0.72 0.74 0.71 0.68 0.68 0.71 0.71 0.71 0.71]\n",
      "[Hybrid Scaling] scalar ctrl=1.286, scalar treat=0.714\n",
      "First 10 per-feature ctrl ratios (debug): [1.23 1.28 1.26 1.29 1.32 1.32 1.29 1.29 1.29 1.29]\n",
      "First 10 per-feature treat ratios (debug): [0.77 0.72 0.74 0.71 0.68 0.68 0.71 0.71 0.71 0.71]\n",
      "[Covariate Scaling] Applied per-dim scaling to ICM0 and ICM1 kernels\n",
      "[Ridge T-Learner ARD Init] First 10 lengthscale scalings: [0.301 0.301 0.303 0.304 0.3   0.3   1.221 1.221 1.221 1.221]\n",
      "[Hybrid Scaling] scalar ctrl=1.286, scalar treat=0.714\n",
      "First 10 per-feature ctrl ratios (debug): [1.23 1.28 1.26 1.29 1.32 1.32 1.29 1.29 1.29 1.29]\n",
      "First 10 per-feature treat ratios (debug): [0.77 0.72 0.74 0.71 0.68 0.68 0.71 0.71 0.71 0.71]\n",
      "[Hybrid Scaling] scalar ctrl=1.286, scalar treat=0.714\n",
      "First 10 per-feature ctrl ratios (debug): [1.23 1.28 1.26 1.29 1.32 1.32 1.29 1.29 1.29 1.29]\n",
      "First 10 per-feature treat ratios (debug): [0.77 0.72 0.74 0.71 0.68 0.68 0.71 0.71 0.71 0.71]\n",
      "[Covariate Scaling] Applied per-dim scaling to ICM0 and ICM1 kernels\n",
      "[Ridge T-Learner ARD Init] First 10 lengthscale scalings: [0.301 0.301 0.303 0.304 0.3   0.3   1.221 1.221 1.221 1.221]\n"
     ]
    },
    {
     "name": "stderr",
     "output_type": "stream",
     "text": [
      " 20%|██        | 20/100 [52:23<2:59:38, 134.74s/it]"
     ]
    },
    {
     "name": "stdout",
     "output_type": "stream",
     "text": [
      "[Hybrid Scaling] scalar ctrl=1.277, scalar treat=0.723\n",
      "First 10 per-feature ctrl ratios (debug): [1.04 1.27 1.26 1.29 1.26 1.31 1.29 1.29 1.29 1.29]\n",
      "First 10 per-feature treat ratios (debug): [0.96 0.73 0.74 0.71 0.74 0.69 0.71 0.71 0.71 0.71]\n",
      "[Hybrid Scaling] scalar ctrl=1.277, scalar treat=0.723\n",
      "First 10 per-feature ctrl ratios (debug): [1.04 1.27 1.26 1.29 1.26 1.31 1.29 1.29 1.29 1.29]\n",
      "First 10 per-feature treat ratios (debug): [0.96 0.73 0.74 0.71 0.74 0.69 0.71 0.71 0.71 0.71]\n",
      "[Covariate Scaling] Applied per-dim scaling to ICM0 and ICM1 kernels\n",
      "[Ridge T-Learner ARD Init] First 10 lengthscale scalings: [0.301 0.302 0.301 0.3   0.301 0.3   1.25  1.25  1.25  1.25 ]\n",
      "[Hybrid Scaling] scalar ctrl=1.277, scalar treat=0.723\n",
      "First 10 per-feature ctrl ratios (debug): [1.04 1.27 1.26 1.29 1.26 1.31 1.29 1.29 1.29 1.29]\n",
      "First 10 per-feature treat ratios (debug): [0.96 0.73 0.74 0.71 0.74 0.69 0.71 0.71 0.71 0.71]\n",
      "[Hybrid Scaling] scalar ctrl=1.277, scalar treat=0.723\n",
      "First 10 per-feature ctrl ratios (debug): [1.04 1.27 1.26 1.29 1.26 1.31 1.29 1.29 1.29 1.29]\n",
      "First 10 per-feature treat ratios (debug): [0.96 0.73 0.74 0.71 0.74 0.69 0.71 0.71 0.71 0.71]\n",
      "[Covariate Scaling] Applied per-dim scaling to ICM0 and ICM1 kernels\n",
      "[Ridge T-Learner ARD Init] First 10 lengthscale scalings: [0.301 0.302 0.301 0.3   0.301 0.3   1.25  1.25  1.25  1.25 ]\n"
     ]
    },
    {
     "name": "stderr",
     "output_type": "stream",
     "text": [
      " 21%|██        | 21/100 [54:43<2:59:25, 136.27s/it]"
     ]
    },
    {
     "name": "stdout",
     "output_type": "stream",
     "text": [
      "[Hybrid Scaling] scalar ctrl=1.282, scalar treat=0.718\n",
      "First 10 per-feature ctrl ratios (debug): [1.04 1.29 1.28 1.29 1.31 1.33 1.29 1.29 1.29 1.29]\n",
      "First 10 per-feature treat ratios (debug): [0.96 0.71 0.72 0.71 0.69 0.67 0.71 0.71 0.71 0.71]\n",
      "[Hybrid Scaling] scalar ctrl=1.282, scalar treat=0.718\n",
      "First 10 per-feature ctrl ratios (debug): [1.04 1.29 1.28 1.29 1.31 1.33 1.29 1.29 1.29 1.29]\n",
      "First 10 per-feature treat ratios (debug): [0.96 0.71 0.72 0.71 0.69 0.67 0.71 0.71 0.71 0.71]\n",
      "[Covariate Scaling] Applied per-dim scaling to ICM0 and ICM1 kernels\n",
      "[Ridge T-Learner ARD Init] First 10 lengthscale scalings: [0.3   0.3   0.3   0.309 0.301 0.3   1.221 1.221 1.221 1.221]\n",
      "[Hybrid Scaling] scalar ctrl=1.282, scalar treat=0.718\n",
      "First 10 per-feature ctrl ratios (debug): [1.04 1.29 1.28 1.29 1.31 1.33 1.29 1.29 1.29 1.29]\n",
      "First 10 per-feature treat ratios (debug): [0.96 0.71 0.72 0.71 0.69 0.67 0.71 0.71 0.71 0.71]\n",
      "[Hybrid Scaling] scalar ctrl=1.282, scalar treat=0.718\n",
      "First 10 per-feature ctrl ratios (debug): [1.04 1.29 1.28 1.29 1.31 1.33 1.29 1.29 1.29 1.29]\n",
      "First 10 per-feature treat ratios (debug): [0.96 0.71 0.72 0.71 0.69 0.67 0.71 0.71 0.71 0.71]\n",
      "[Covariate Scaling] Applied per-dim scaling to ICM0 and ICM1 kernels\n",
      "[Ridge T-Learner ARD Init] First 10 lengthscale scalings: [0.3   0.3   0.3   0.309 0.301 0.3   1.221 1.221 1.221 1.221]\n"
     ]
    },
    {
     "name": "stderr",
     "output_type": "stream",
     "text": [
      " 22%|██▏       | 22/100 [57:00<2:57:37, 136.63s/it]"
     ]
    },
    {
     "name": "stdout",
     "output_type": "stream",
     "text": [
      "[Hybrid Scaling] scalar ctrl=1.290, scalar treat=0.710\n",
      "First 10 per-feature ctrl ratios (debug): [1.15 1.3  1.29 1.3  1.32 1.3  1.3  1.3  1.3  1.3 ]\n",
      "First 10 per-feature treat ratios (debug): [0.85 0.7  0.71 0.7  0.68 0.7  0.7  0.7  0.7  0.7 ]\n",
      "[Hybrid Scaling] scalar ctrl=1.290, scalar treat=0.710\n",
      "First 10 per-feature ctrl ratios (debug): [1.15 1.3  1.29 1.3  1.32 1.3  1.3  1.3  1.3  1.3 ]\n",
      "First 10 per-feature treat ratios (debug): [0.85 0.7  0.71 0.7  0.68 0.7  0.7  0.7  0.7  0.7 ]\n",
      "[Covariate Scaling] Applied per-dim scaling to ICM0 and ICM1 kernels\n",
      "[Ridge T-Learner ARD Init] First 10 lengthscale scalings: [0.3   0.3   0.3   0.301 0.301 0.302 1.221 1.221 1.221 1.221]\n",
      "[Hybrid Scaling] scalar ctrl=1.290, scalar treat=0.710\n",
      "First 10 per-feature ctrl ratios (debug): [1.15 1.3  1.29 1.3  1.32 1.3  1.3  1.3  1.3  1.3 ]\n",
      "First 10 per-feature treat ratios (debug): [0.85 0.7  0.71 0.7  0.68 0.7  0.7  0.7  0.7  0.7 ]\n",
      "[Hybrid Scaling] scalar ctrl=1.290, scalar treat=0.710\n",
      "First 10 per-feature ctrl ratios (debug): [1.15 1.3  1.29 1.3  1.32 1.3  1.3  1.3  1.3  1.3 ]\n",
      "First 10 per-feature treat ratios (debug): [0.85 0.7  0.71 0.7  0.68 0.7  0.7  0.7  0.7  0.7 ]\n",
      "[Covariate Scaling] Applied per-dim scaling to ICM0 and ICM1 kernels\n",
      "[Ridge T-Learner ARD Init] First 10 lengthscale scalings: [0.3   0.3   0.3   0.301 0.301 0.302 1.221 1.221 1.221 1.221]\n"
     ]
    },
    {
     "name": "stderr",
     "output_type": "stream",
     "text": [
      " 23%|██▎       | 23/100 [59:11<2:53:12, 134.96s/it]"
     ]
    },
    {
     "name": "stdout",
     "output_type": "stream",
     "text": [
      "[Hybrid Scaling] scalar ctrl=1.270, scalar treat=0.730\n",
      "First 10 per-feature ctrl ratios (debug): [0.9  1.25 1.26 1.29 1.31 1.32 1.29 1.29 1.29 1.29]\n",
      "First 10 per-feature treat ratios (debug): [1.1  0.75 0.74 0.71 0.69 0.68 0.71 0.71 0.71 0.71]\n",
      "[Hybrid Scaling] scalar ctrl=1.270, scalar treat=0.730\n",
      "First 10 per-feature ctrl ratios (debug): [0.9  1.25 1.26 1.29 1.31 1.32 1.29 1.29 1.29 1.29]\n",
      "First 10 per-feature treat ratios (debug): [1.1  0.75 0.74 0.71 0.69 0.68 0.71 0.71 0.71 0.71]\n",
      "[Covariate Scaling] Applied per-dim scaling to ICM0 and ICM1 kernels\n",
      "[Ridge T-Learner ARD Init] First 10 lengthscale scalings: [0.301 0.305 0.302 0.3   0.3   0.301 1.268 1.268 1.268 1.268]\n",
      "[Hybrid Scaling] scalar ctrl=1.270, scalar treat=0.730\n",
      "First 10 per-feature ctrl ratios (debug): [0.9  1.25 1.26 1.29 1.31 1.32 1.29 1.29 1.29 1.29]\n",
      "First 10 per-feature treat ratios (debug): [1.1  0.75 0.74 0.71 0.69 0.68 0.71 0.71 0.71 0.71]\n",
      "[Hybrid Scaling] scalar ctrl=1.270, scalar treat=0.730\n",
      "First 10 per-feature ctrl ratios (debug): [0.9  1.25 1.26 1.29 1.31 1.32 1.29 1.29 1.29 1.29]\n",
      "First 10 per-feature treat ratios (debug): [1.1  0.75 0.74 0.71 0.69 0.68 0.71 0.71 0.71 0.71]\n",
      "[Covariate Scaling] Applied per-dim scaling to ICM0 and ICM1 kernels\n",
      "[Ridge T-Learner ARD Init] First 10 lengthscale scalings: [0.301 0.305 0.302 0.3   0.3   0.301 1.268 1.268 1.268 1.268]\n"
     ]
    },
    {
     "name": "stderr",
     "output_type": "stream",
     "text": [
      " 24%|██▍       | 24/100 [1:01:16<2:47:06, 131.93s/it]"
     ]
    },
    {
     "name": "stdout",
     "output_type": "stream",
     "text": [
      "[Hybrid Scaling] scalar ctrl=1.282, scalar treat=0.718\n",
      "First 10 per-feature ctrl ratios (debug): [1.03 1.3  1.25 1.29 1.3  1.33 1.29 1.29 1.29 1.29]\n",
      "First 10 per-feature treat ratios (debug): [0.97 0.7  0.75 0.71 0.7  0.67 0.71 0.71 0.71 0.71]\n",
      "[Hybrid Scaling] scalar ctrl=1.282, scalar treat=0.718\n",
      "First 10 per-feature ctrl ratios (debug): [1.03 1.3  1.25 1.29 1.3  1.33 1.29 1.29 1.29 1.29]\n",
      "First 10 per-feature treat ratios (debug): [0.97 0.7  0.75 0.71 0.7  0.67 0.71 0.71 0.71 0.71]\n",
      "[Covariate Scaling] Applied per-dim scaling to ICM0 and ICM1 kernels\n",
      "[Ridge T-Learner ARD Init] First 10 lengthscale scalings: [0.301 0.301 0.301 0.304 0.301 0.3   1.221 1.221 1.221 1.221]\n",
      "[Hybrid Scaling] scalar ctrl=1.282, scalar treat=0.718\n",
      "First 10 per-feature ctrl ratios (debug): [1.03 1.3  1.25 1.29 1.3  1.33 1.29 1.29 1.29 1.29]\n",
      "First 10 per-feature treat ratios (debug): [0.97 0.7  0.75 0.71 0.7  0.67 0.71 0.71 0.71 0.71]\n",
      "[Hybrid Scaling] scalar ctrl=1.282, scalar treat=0.718\n",
      "First 10 per-feature ctrl ratios (debug): [1.03 1.3  1.25 1.29 1.3  1.33 1.29 1.29 1.29 1.29]\n",
      "First 10 per-feature treat ratios (debug): [0.97 0.7  0.75 0.71 0.7  0.67 0.71 0.71 0.71 0.71]\n",
      "[Covariate Scaling] Applied per-dim scaling to ICM0 and ICM1 kernels\n",
      "[Ridge T-Learner ARD Init] First 10 lengthscale scalings: [0.301 0.301 0.301 0.304 0.301 0.3   1.221 1.221 1.221 1.221]\n"
     ]
    },
    {
     "name": "stderr",
     "output_type": "stream",
     "text": [
      " 25%|██▌       | 25/100 [1:03:31<2:45:59, 132.79s/it]"
     ]
    },
    {
     "name": "stdout",
     "output_type": "stream",
     "text": [
      "[Hybrid Scaling] scalar ctrl=1.306, scalar treat=0.694\n",
      "First 10 per-feature ctrl ratios (debug): [0.9  1.32 1.26 1.33 1.32 1.32 1.33 1.33 1.33 1.33]\n",
      "First 10 per-feature treat ratios (debug): [1.1  0.68 0.74 0.67 0.68 0.68 0.67 0.67 0.67 0.67]\n",
      "[Hybrid Scaling] scalar ctrl=1.306, scalar treat=0.694\n",
      "First 10 per-feature ctrl ratios (debug): [0.9  1.32 1.26 1.33 1.32 1.32 1.33 1.33 1.33 1.33]\n",
      "First 10 per-feature treat ratios (debug): [1.1  0.68 0.74 0.67 0.68 0.68 0.67 0.67 0.67 0.67]\n",
      "[Covariate Scaling] Applied per-dim scaling to ICM0 and ICM1 kernels\n",
      "[Ridge T-Learner ARD Init] First 10 lengthscale scalings: [0.301 0.3   0.304 0.3   0.301 0.3   1.221 1.221 1.221 1.221]\n",
      "[Hybrid Scaling] scalar ctrl=1.306, scalar treat=0.694\n",
      "First 10 per-feature ctrl ratios (debug): [0.9  1.32 1.26 1.33 1.32 1.32 1.33 1.33 1.33 1.33]\n",
      "First 10 per-feature treat ratios (debug): [1.1  0.68 0.74 0.67 0.68 0.68 0.67 0.67 0.67 0.67]\n",
      "[Hybrid Scaling] scalar ctrl=1.306, scalar treat=0.694\n",
      "First 10 per-feature ctrl ratios (debug): [0.9  1.32 1.26 1.33 1.32 1.32 1.33 1.33 1.33 1.33]\n",
      "First 10 per-feature treat ratios (debug): [1.1  0.68 0.74 0.67 0.68 0.68 0.67 0.67 0.67 0.67]\n",
      "[Covariate Scaling] Applied per-dim scaling to ICM0 and ICM1 kernels\n",
      "[Ridge T-Learner ARD Init] First 10 lengthscale scalings: [0.301 0.3   0.304 0.3   0.301 0.3   1.221 1.221 1.221 1.221]\n"
     ]
    },
    {
     "name": "stderr",
     "output_type": "stream",
     "text": [
      " 26%|██▌       | 26/100 [1:05:30<2:38:47, 128.74s/it]"
     ]
    },
    {
     "name": "stdout",
     "output_type": "stream",
     "text": [
      "[Hybrid Scaling] scalar ctrl=1.275, scalar treat=0.725\n",
      "First 10 per-feature ctrl ratios (debug): [1.05 1.25 1.26 1.28 1.33 1.3  1.28 1.28 1.28 1.28]\n",
      "First 10 per-feature treat ratios (debug): [0.95 0.75 0.74 0.72 0.67 0.7  0.72 0.72 0.72 0.72]\n",
      "[Hybrid Scaling] scalar ctrl=1.275, scalar treat=0.725\n",
      "First 10 per-feature ctrl ratios (debug): [1.05 1.25 1.26 1.28 1.33 1.3  1.28 1.28 1.28 1.28]\n",
      "First 10 per-feature treat ratios (debug): [0.95 0.75 0.74 0.72 0.67 0.7  0.72 0.72 0.72 0.72]\n",
      "[Covariate Scaling] Applied per-dim scaling to ICM0 and ICM1 kernels\n",
      "[Ridge T-Learner ARD Init] First 10 lengthscale scalings: [0.3   0.3   0.301 0.301 0.3   0.301 1.221 1.221 1.221 1.221]\n",
      "[Hybrid Scaling] scalar ctrl=1.275, scalar treat=0.725\n",
      "First 10 per-feature ctrl ratios (debug): [1.05 1.25 1.26 1.28 1.33 1.3  1.28 1.28 1.28 1.28]\n",
      "First 10 per-feature treat ratios (debug): [0.95 0.75 0.74 0.72 0.67 0.7  0.72 0.72 0.72 0.72]\n",
      "[Hybrid Scaling] scalar ctrl=1.275, scalar treat=0.725\n",
      "First 10 per-feature ctrl ratios (debug): [1.05 1.25 1.26 1.28 1.33 1.3  1.28 1.28 1.28 1.28]\n",
      "First 10 per-feature treat ratios (debug): [0.95 0.75 0.74 0.72 0.67 0.7  0.72 0.72 0.72 0.72]\n",
      "[Covariate Scaling] Applied per-dim scaling to ICM0 and ICM1 kernels\n",
      "[Ridge T-Learner ARD Init] First 10 lengthscale scalings: [0.3   0.3   0.301 0.301 0.3   0.301 1.221 1.221 1.221 1.221]\n"
     ]
    },
    {
     "name": "stderr",
     "output_type": "stream",
     "text": [
      " 27%|██▋       | 27/100 [1:07:41<2:37:13, 129.22s/it]"
     ]
    },
    {
     "name": "stdout",
     "output_type": "stream",
     "text": [
      "[Hybrid Scaling] scalar ctrl=1.295, scalar treat=0.705\n",
      "First 10 per-feature ctrl ratios (debug): [1.03 1.28 1.29 1.31 1.3  1.34 1.31 1.31 1.31 1.31]\n",
      "First 10 per-feature treat ratios (debug): [0.97 0.72 0.71 0.69 0.7  0.66 0.69 0.69 0.69 0.69]\n",
      "[Hybrid Scaling] scalar ctrl=1.295, scalar treat=0.705\n",
      "First 10 per-feature ctrl ratios (debug): [1.03 1.28 1.29 1.31 1.3  1.34 1.31 1.31 1.31 1.31]\n",
      "First 10 per-feature treat ratios (debug): [0.97 0.72 0.71 0.69 0.7  0.66 0.69 0.69 0.69 0.69]\n",
      "[Covariate Scaling] Applied per-dim scaling to ICM0 and ICM1 kernels\n",
      "[Ridge T-Learner ARD Init] First 10 lengthscale scalings: [0.3   0.3   0.3   0.302 0.301 0.3   1.221 1.221 1.221 1.221]\n",
      "[Hybrid Scaling] scalar ctrl=1.295, scalar treat=0.705\n",
      "First 10 per-feature ctrl ratios (debug): [1.03 1.28 1.29 1.31 1.3  1.34 1.31 1.31 1.31 1.31]\n",
      "First 10 per-feature treat ratios (debug): [0.97 0.72 0.71 0.69 0.7  0.66 0.69 0.69 0.69 0.69]\n",
      "[Hybrid Scaling] scalar ctrl=1.295, scalar treat=0.705\n",
      "First 10 per-feature ctrl ratios (debug): [1.03 1.28 1.29 1.31 1.3  1.34 1.31 1.31 1.31 1.31]\n",
      "First 10 per-feature treat ratios (debug): [0.97 0.72 0.71 0.69 0.7  0.66 0.69 0.69 0.69 0.69]\n",
      "[Covariate Scaling] Applied per-dim scaling to ICM0 and ICM1 kernels\n",
      "[Ridge T-Learner ARD Init] First 10 lengthscale scalings: [0.3   0.3   0.3   0.302 0.301 0.3   1.221 1.221 1.221 1.221]\n"
     ]
    },
    {
     "name": "stderr",
     "output_type": "stream",
     "text": [
      " 28%|██▊       | 28/100 [1:10:06<2:40:47, 134.00s/it]"
     ]
    },
    {
     "name": "stdout",
     "output_type": "stream",
     "text": [
      "[Hybrid Scaling] scalar ctrl=1.281, scalar treat=0.719\n",
      "First 10 per-feature ctrl ratios (debug): [0.97 1.26 1.29 1.29 1.3  1.33 1.29 1.29 1.29 1.29]\n",
      "First 10 per-feature treat ratios (debug): [1.03 0.74 0.71 0.71 0.7  0.67 0.71 0.71 0.71 0.71]\n",
      "[Hybrid Scaling] scalar ctrl=1.281, scalar treat=0.719\n",
      "First 10 per-feature ctrl ratios (debug): [0.97 1.26 1.29 1.29 1.3  1.33 1.29 1.29 1.29 1.29]\n",
      "First 10 per-feature treat ratios (debug): [1.03 0.74 0.71 0.71 0.7  0.67 0.71 0.71 0.71 0.71]\n",
      "[Covariate Scaling] Applied per-dim scaling to ICM0 and ICM1 kernels\n",
      "[Ridge T-Learner ARD Init] First 10 lengthscale scalings: [0.301 0.301 0.303 0.3   0.301 0.301 1.245 1.245 1.245 1.245]\n",
      "[Hybrid Scaling] scalar ctrl=1.281, scalar treat=0.719\n",
      "First 10 per-feature ctrl ratios (debug): [0.97 1.26 1.29 1.29 1.3  1.33 1.29 1.29 1.29 1.29]\n",
      "First 10 per-feature treat ratios (debug): [1.03 0.74 0.71 0.71 0.7  0.67 0.71 0.71 0.71 0.71]\n",
      "[Hybrid Scaling] scalar ctrl=1.281, scalar treat=0.719\n",
      "First 10 per-feature ctrl ratios (debug): [0.97 1.26 1.29 1.29 1.3  1.33 1.29 1.29 1.29 1.29]\n",
      "First 10 per-feature treat ratios (debug): [1.03 0.74 0.71 0.71 0.7  0.67 0.71 0.71 0.71 0.71]\n",
      "[Covariate Scaling] Applied per-dim scaling to ICM0 and ICM1 kernels\n",
      "[Ridge T-Learner ARD Init] First 10 lengthscale scalings: [0.301 0.301 0.303 0.3   0.301 0.301 1.245 1.245 1.245 1.245]\n"
     ]
    },
    {
     "name": "stderr",
     "output_type": "stream",
     "text": [
      " 29%|██▉       | 29/100 [1:12:22<2:39:12, 134.54s/it]"
     ]
    },
    {
     "name": "stdout",
     "output_type": "stream",
     "text": [
      "[Hybrid Scaling] scalar ctrl=1.297, scalar treat=0.703\n",
      "First 10 per-feature ctrl ratios (debug): [1.3  1.29 1.29 1.3  1.3  1.31 1.3  1.3  1.3  1.3 ]\n",
      "First 10 per-feature treat ratios (debug): [0.7  0.71 0.71 0.7  0.7  0.69 0.7  0.7  0.7  0.7 ]\n",
      "[Hybrid Scaling] scalar ctrl=1.297, scalar treat=0.703\n",
      "First 10 per-feature ctrl ratios (debug): [1.3  1.29 1.29 1.3  1.3  1.31 1.3  1.3  1.3  1.3 ]\n",
      "First 10 per-feature treat ratios (debug): [0.7  0.71 0.71 0.7  0.7  0.69 0.7  0.7  0.7  0.7 ]\n",
      "[Covariate Scaling] Applied per-dim scaling to ICM0 and ICM1 kernels\n",
      "[Ridge T-Learner ARD Init] First 10 lengthscale scalings: [0.3   0.3   0.3   0.301 0.301 0.3   1.272 1.272 1.272 1.272]\n",
      "[Hybrid Scaling] scalar ctrl=1.297, scalar treat=0.703\n",
      "First 10 per-feature ctrl ratios (debug): [1.3  1.29 1.29 1.3  1.3  1.31 1.3  1.3  1.3  1.3 ]\n",
      "First 10 per-feature treat ratios (debug): [0.7  0.71 0.71 0.7  0.7  0.69 0.7  0.7  0.7  0.7 ]\n",
      "[Hybrid Scaling] scalar ctrl=1.297, scalar treat=0.703\n",
      "First 10 per-feature ctrl ratios (debug): [1.3  1.29 1.29 1.3  1.3  1.31 1.3  1.3  1.3  1.3 ]\n",
      "First 10 per-feature treat ratios (debug): [0.7  0.71 0.71 0.7  0.7  0.69 0.7  0.7  0.7  0.7 ]\n",
      "[Covariate Scaling] Applied per-dim scaling to ICM0 and ICM1 kernels\n",
      "[Ridge T-Learner ARD Init] First 10 lengthscale scalings: [0.3   0.3   0.3   0.301 0.301 0.3   1.272 1.272 1.272 1.272]\n"
     ]
    },
    {
     "name": "stderr",
     "output_type": "stream",
     "text": [
      " 30%|███       | 30/100 [1:14:38<2:37:42, 135.18s/it]"
     ]
    },
    {
     "name": "stdout",
     "output_type": "stream",
     "text": [
      "[Hybrid Scaling] scalar ctrl=1.283, scalar treat=0.717\n",
      "First 10 per-feature ctrl ratios (debug): [0.9  1.3  1.28 1.3  1.33 1.33 1.3  1.3  1.3  1.3 ]\n",
      "First 10 per-feature treat ratios (debug): [1.1  0.7  0.72 0.7  0.67 0.67 0.7  0.7  0.7  0.7 ]\n",
      "[Hybrid Scaling] scalar ctrl=1.283, scalar treat=0.717\n",
      "First 10 per-feature ctrl ratios (debug): [0.9  1.3  1.28 1.3  1.33 1.33 1.3  1.3  1.3  1.3 ]\n",
      "First 10 per-feature treat ratios (debug): [1.1  0.7  0.72 0.7  0.67 0.67 0.7  0.7  0.7  0.7 ]\n",
      "[Covariate Scaling] Applied per-dim scaling to ICM0 and ICM1 kernels\n",
      "[Ridge T-Learner ARD Init] First 10 lengthscale scalings: [0.3   0.3   0.3   0.31  0.301 0.302 1.244 1.244 1.244 1.244]\n",
      "[Hybrid Scaling] scalar ctrl=1.283, scalar treat=0.717\n",
      "First 10 per-feature ctrl ratios (debug): [0.9  1.3  1.28 1.3  1.33 1.33 1.3  1.3  1.3  1.3 ]\n",
      "First 10 per-feature treat ratios (debug): [1.1  0.7  0.72 0.7  0.67 0.67 0.7  0.7  0.7  0.7 ]\n",
      "[Hybrid Scaling] scalar ctrl=1.283, scalar treat=0.717\n",
      "First 10 per-feature ctrl ratios (debug): [0.9  1.3  1.28 1.3  1.33 1.33 1.3  1.3  1.3  1.3 ]\n",
      "First 10 per-feature treat ratios (debug): [1.1  0.7  0.72 0.7  0.67 0.67 0.7  0.7  0.7  0.7 ]\n",
      "[Covariate Scaling] Applied per-dim scaling to ICM0 and ICM1 kernels\n",
      "[Ridge T-Learner ARD Init] First 10 lengthscale scalings: [0.3   0.3   0.3   0.31  0.301 0.302 1.244 1.244 1.244 1.244]\n"
     ]
    },
    {
     "name": "stderr",
     "output_type": "stream",
     "text": [
      " 31%|███       | 31/100 [1:16:47<2:33:13, 133.23s/it]"
     ]
    },
    {
     "name": "stdout",
     "output_type": "stream",
     "text": [
      "[Hybrid Scaling] scalar ctrl=1.286, scalar treat=0.714\n",
      "First 10 per-feature ctrl ratios (debug): [1.1  1.27 1.25 1.3  1.29 1.32 1.3  1.3  1.3  1.3 ]\n",
      "First 10 per-feature treat ratios (debug): [0.9  0.73 0.75 0.7  0.71 0.68 0.7  0.7  0.7  0.7 ]\n",
      "[Hybrid Scaling] scalar ctrl=1.286, scalar treat=0.714\n",
      "First 10 per-feature ctrl ratios (debug): [1.1  1.27 1.25 1.3  1.29 1.32 1.3  1.3  1.3  1.3 ]\n",
      "First 10 per-feature treat ratios (debug): [0.9  0.73 0.75 0.7  0.71 0.68 0.7  0.7  0.7  0.7 ]\n",
      "[Covariate Scaling] Applied per-dim scaling to ICM0 and ICM1 kernels\n",
      "[Ridge T-Learner ARD Init] First 10 lengthscale scalings: [0.302 0.303 0.305 0.303 0.302 0.3   1.22  1.22  1.22  1.22 ]\n",
      "[Hybrid Scaling] scalar ctrl=1.286, scalar treat=0.714\n",
      "First 10 per-feature ctrl ratios (debug): [1.1  1.27 1.25 1.3  1.29 1.32 1.3  1.3  1.3  1.3 ]\n",
      "First 10 per-feature treat ratios (debug): [0.9  0.73 0.75 0.7  0.71 0.68 0.7  0.7  0.7  0.7 ]\n",
      "[Hybrid Scaling] scalar ctrl=1.286, scalar treat=0.714\n",
      "First 10 per-feature ctrl ratios (debug): [1.1  1.27 1.25 1.3  1.29 1.32 1.3  1.3  1.3  1.3 ]\n",
      "First 10 per-feature treat ratios (debug): [0.9  0.73 0.75 0.7  0.71 0.68 0.7  0.7  0.7  0.7 ]\n",
      "[Covariate Scaling] Applied per-dim scaling to ICM0 and ICM1 kernels\n",
      "[Ridge T-Learner ARD Init] First 10 lengthscale scalings: [0.302 0.303 0.305 0.303 0.302 0.3   1.22  1.22  1.22  1.22 ]\n"
     ]
    },
    {
     "name": "stderr",
     "output_type": "stream",
     "text": [
      " 32%|███▏      | 32/100 [1:18:56<2:29:30, 131.92s/it]"
     ]
    },
    {
     "name": "stdout",
     "output_type": "stream",
     "text": [
      "[Hybrid Scaling] scalar ctrl=1.284, scalar treat=0.716\n",
      "First 10 per-feature ctrl ratios (debug): [0.72 1.3  1.29 1.3  1.35 1.34 1.3  1.3  1.3  1.3 ]\n",
      "First 10 per-feature treat ratios (debug): [1.28 0.7  0.71 0.7  0.65 0.66 0.7  0.7  0.7  0.7 ]\n",
      "[Hybrid Scaling] scalar ctrl=1.284, scalar treat=0.716\n",
      "First 10 per-feature ctrl ratios (debug): [0.72 1.3  1.29 1.3  1.35 1.34 1.3  1.3  1.3  1.3 ]\n",
      "First 10 per-feature treat ratios (debug): [1.28 0.7  0.71 0.7  0.65 0.66 0.7  0.7  0.7  0.7 ]\n",
      "[Covariate Scaling] Applied per-dim scaling to ICM0 and ICM1 kernels\n",
      "[Ridge T-Learner ARD Init] First 10 lengthscale scalings: [0.301 0.301 0.301 0.306 0.301 0.3   1.329 0.3   1.329 1.329]\n",
      "[Hybrid Scaling] scalar ctrl=1.284, scalar treat=0.716\n",
      "First 10 per-feature ctrl ratios (debug): [0.72 1.3  1.29 1.3  1.35 1.34 1.3  1.3  1.3  1.3 ]\n",
      "First 10 per-feature treat ratios (debug): [1.28 0.7  0.71 0.7  0.65 0.66 0.7  0.7  0.7  0.7 ]\n",
      "[Hybrid Scaling] scalar ctrl=1.284, scalar treat=0.716\n",
      "First 10 per-feature ctrl ratios (debug): [0.72 1.3  1.29 1.3  1.35 1.34 1.3  1.3  1.3  1.3 ]\n",
      "First 10 per-feature treat ratios (debug): [1.28 0.7  0.71 0.7  0.65 0.66 0.7  0.7  0.7  0.7 ]\n",
      "[Covariate Scaling] Applied per-dim scaling to ICM0 and ICM1 kernels\n",
      "[Ridge T-Learner ARD Init] First 10 lengthscale scalings: [0.301 0.301 0.301 0.306 0.301 0.3   1.329 0.3   1.329 1.329]\n"
     ]
    },
    {
     "name": "stderr",
     "output_type": "stream",
     "text": [
      " 33%|███▎      | 33/100 [1:21:06<2:26:38, 131.32s/it]"
     ]
    },
    {
     "name": "stdout",
     "output_type": "stream",
     "text": [
      "[Hybrid Scaling] scalar ctrl=1.306, scalar treat=0.694\n",
      "First 10 per-feature ctrl ratios (debug): [1.14 1.31 1.28 1.31 1.33 1.34 1.31 1.31 1.31 1.31]\n",
      "First 10 per-feature treat ratios (debug): [0.86 0.69 0.72 0.69 0.67 0.66 0.69 0.69 0.69 0.69]\n",
      "[Hybrid Scaling] scalar ctrl=1.306, scalar treat=0.694\n",
      "First 10 per-feature ctrl ratios (debug): [1.14 1.31 1.28 1.31 1.33 1.34 1.31 1.31 1.31 1.31]\n",
      "First 10 per-feature treat ratios (debug): [0.86 0.69 0.72 0.69 0.67 0.66 0.69 0.69 0.69 0.69]\n",
      "[Covariate Scaling] Applied per-dim scaling to ICM0 and ICM1 kernels\n",
      "[Ridge T-Learner ARD Init] First 10 lengthscale scalings: [0.301 0.301 0.301 0.306 0.301 0.3   1.221 1.221 1.221 1.221]\n",
      "[Hybrid Scaling] scalar ctrl=1.306, scalar treat=0.694\n",
      "First 10 per-feature ctrl ratios (debug): [1.14 1.31 1.28 1.31 1.33 1.34 1.31 1.31 1.31 1.31]\n",
      "First 10 per-feature treat ratios (debug): [0.86 0.69 0.72 0.69 0.67 0.66 0.69 0.69 0.69 0.69]\n",
      "[Hybrid Scaling] scalar ctrl=1.306, scalar treat=0.694\n",
      "First 10 per-feature ctrl ratios (debug): [1.14 1.31 1.28 1.31 1.33 1.34 1.31 1.31 1.31 1.31]\n",
      "First 10 per-feature treat ratios (debug): [0.86 0.69 0.72 0.69 0.67 0.66 0.69 0.69 0.69 0.69]\n",
      "[Covariate Scaling] Applied per-dim scaling to ICM0 and ICM1 kernels\n",
      "[Ridge T-Learner ARD Init] First 10 lengthscale scalings: [0.301 0.301 0.301 0.306 0.301 0.3   1.221 1.221 1.221 1.221]\n"
     ]
    },
    {
     "name": "stderr",
     "output_type": "stream",
     "text": [
      " 34%|███▍      | 34/100 [1:23:10<2:22:07, 129.20s/it]"
     ]
    },
    {
     "name": "stdout",
     "output_type": "stream",
     "text": [
      "[Hybrid Scaling] scalar ctrl=1.274, scalar treat=0.726\n",
      "First 10 per-feature ctrl ratios (debug): [0.84 1.27 1.28 1.29 1.33 1.29 1.29 1.29 1.29 1.29]\n",
      "First 10 per-feature treat ratios (debug): [1.16 0.73 0.72 0.71 0.67 0.71 0.71 0.71 0.71 0.71]\n",
      "[Hybrid Scaling] scalar ctrl=1.274, scalar treat=0.726\n",
      "First 10 per-feature ctrl ratios (debug): [0.84 1.27 1.28 1.29 1.33 1.29 1.29 1.29 1.29 1.29]\n",
      "First 10 per-feature treat ratios (debug): [1.16 0.73 0.72 0.71 0.67 0.71 0.71 0.71 0.71 0.71]\n",
      "[Covariate Scaling] Applied per-dim scaling to ICM0 and ICM1 kernels\n",
      "[Ridge T-Learner ARD Init] First 10 lengthscale scalings: [0.301 0.3   0.3   0.305 0.301 0.303 1.329 1.329 1.329 1.329]\n",
      "[Hybrid Scaling] scalar ctrl=1.274, scalar treat=0.726\n",
      "First 10 per-feature ctrl ratios (debug): [0.84 1.27 1.28 1.29 1.33 1.29 1.29 1.29 1.29 1.29]\n",
      "First 10 per-feature treat ratios (debug): [1.16 0.73 0.72 0.71 0.67 0.71 0.71 0.71 0.71 0.71]\n",
      "[Hybrid Scaling] scalar ctrl=1.274, scalar treat=0.726\n",
      "First 10 per-feature ctrl ratios (debug): [0.84 1.27 1.28 1.29 1.33 1.29 1.29 1.29 1.29 1.29]\n",
      "First 10 per-feature treat ratios (debug): [1.16 0.73 0.72 0.71 0.67 0.71 0.71 0.71 0.71 0.71]\n",
      "[Covariate Scaling] Applied per-dim scaling to ICM0 and ICM1 kernels\n",
      "[Ridge T-Learner ARD Init] First 10 lengthscale scalings: [0.301 0.3   0.3   0.305 0.301 0.303 1.329 1.329 1.329 1.329]\n"
     ]
    },
    {
     "name": "stderr",
     "output_type": "stream",
     "text": [
      " 35%|███▌      | 35/100 [1:25:13<2:17:56, 127.33s/it]"
     ]
    },
    {
     "name": "stdout",
     "output_type": "stream",
     "text": [
      "[Hybrid Scaling] scalar ctrl=1.272, scalar treat=0.728\n",
      "First 10 per-feature ctrl ratios (debug): [1.   1.27 1.26 1.28 1.31 1.31 1.28 1.28 1.28 1.28]\n",
      "First 10 per-feature treat ratios (debug): [1.   0.73 0.74 0.72 0.69 0.69 0.72 0.72 0.72 0.72]\n",
      "[Hybrid Scaling] scalar ctrl=1.272, scalar treat=0.728\n",
      "First 10 per-feature ctrl ratios (debug): [1.   1.27 1.26 1.28 1.31 1.31 1.28 1.28 1.28 1.28]\n",
      "First 10 per-feature treat ratios (debug): [1.   0.73 0.74 0.72 0.69 0.69 0.72 0.72 0.72 0.72]\n",
      "[Covariate Scaling] Applied per-dim scaling to ICM0 and ICM1 kernels\n",
      "[Ridge T-Learner ARD Init] First 10 lengthscale scalings: [0.302 0.302 0.302 0.314 0.301 0.302 1.271 1.271 1.271 1.271]\n",
      "[Hybrid Scaling] scalar ctrl=1.272, scalar treat=0.728\n",
      "First 10 per-feature ctrl ratios (debug): [1.   1.27 1.26 1.28 1.31 1.31 1.28 1.28 1.28 1.28]\n",
      "First 10 per-feature treat ratios (debug): [1.   0.73 0.74 0.72 0.69 0.69 0.72 0.72 0.72 0.72]\n",
      "[Hybrid Scaling] scalar ctrl=1.272, scalar treat=0.728\n",
      "First 10 per-feature ctrl ratios (debug): [1.   1.27 1.26 1.28 1.31 1.31 1.28 1.28 1.28 1.28]\n",
      "First 10 per-feature treat ratios (debug): [1.   0.73 0.74 0.72 0.69 0.69 0.72 0.72 0.72 0.72]\n",
      "[Covariate Scaling] Applied per-dim scaling to ICM0 and ICM1 kernels\n",
      "[Ridge T-Learner ARD Init] First 10 lengthscale scalings: [0.302 0.302 0.302 0.314 0.301 0.302 1.271 1.271 1.271 1.271]\n"
     ]
    },
    {
     "name": "stderr",
     "output_type": "stream",
     "text": [
      " 36%|███▌      | 36/100 [1:27:35<2:20:23, 131.62s/it]"
     ]
    },
    {
     "name": "stdout",
     "output_type": "stream",
     "text": [
      "[Hybrid Scaling] scalar ctrl=1.267, scalar treat=0.733\n",
      "First 10 per-feature ctrl ratios (debug): [0.9  1.26 1.25 1.28 1.32 1.34 1.28 1.28 1.28 1.28]\n",
      "First 10 per-feature treat ratios (debug): [1.1  0.74 0.75 0.72 0.68 0.66 0.72 0.72 0.72 0.72]\n",
      "[Hybrid Scaling] scalar ctrl=1.267, scalar treat=0.733\n",
      "First 10 per-feature ctrl ratios (debug): [0.9  1.26 1.25 1.28 1.32 1.34 1.28 1.28 1.28 1.28]\n",
      "First 10 per-feature treat ratios (debug): [1.1  0.74 0.75 0.72 0.68 0.66 0.72 0.72 0.72 0.72]\n",
      "[Covariate Scaling] Applied per-dim scaling to ICM0 and ICM1 kernels\n",
      "[Ridge T-Learner ARD Init] First 10 lengthscale scalings: [0.302 0.301 0.305 0.3   0.302 0.3   1.328 1.328 0.306 1.328]\n",
      "[Hybrid Scaling] scalar ctrl=1.267, scalar treat=0.733\n",
      "First 10 per-feature ctrl ratios (debug): [0.9  1.26 1.25 1.28 1.32 1.34 1.28 1.28 1.28 1.28]\n",
      "First 10 per-feature treat ratios (debug): [1.1  0.74 0.75 0.72 0.68 0.66 0.72 0.72 0.72 0.72]\n",
      "[Hybrid Scaling] scalar ctrl=1.267, scalar treat=0.733\n",
      "First 10 per-feature ctrl ratios (debug): [0.9  1.26 1.25 1.28 1.32 1.34 1.28 1.28 1.28 1.28]\n",
      "First 10 per-feature treat ratios (debug): [1.1  0.74 0.75 0.72 0.68 0.66 0.72 0.72 0.72 0.72]\n",
      "[Covariate Scaling] Applied per-dim scaling to ICM0 and ICM1 kernels\n",
      "[Ridge T-Learner ARD Init] First 10 lengthscale scalings: [0.302 0.301 0.305 0.3   0.302 0.3   1.328 1.328 0.306 1.328]\n"
     ]
    },
    {
     "name": "stderr",
     "output_type": "stream",
     "text": [
      " 37%|███▋      | 37/100 [1:29:58<2:21:54, 135.16s/it]"
     ]
    },
    {
     "name": "stdout",
     "output_type": "stream",
     "text": [
      "[Hybrid Scaling] scalar ctrl=1.264, scalar treat=0.736\n",
      "First 10 per-feature ctrl ratios (debug): [0.89 1.27 1.22 1.28 1.28 1.28 1.28 1.28 1.28 1.28]\n",
      "First 10 per-feature treat ratios (debug): [1.11 0.73 0.78 0.72 0.72 0.72 0.72 0.72 0.72 0.72]\n",
      "[Hybrid Scaling] scalar ctrl=1.264, scalar treat=0.736\n",
      "First 10 per-feature ctrl ratios (debug): [0.89 1.27 1.22 1.28 1.28 1.28 1.28 1.28 1.28 1.28]\n",
      "First 10 per-feature treat ratios (debug): [1.11 0.73 0.78 0.72 0.72 0.72 0.72 0.72 0.72 0.72]\n",
      "[Covariate Scaling] Applied per-dim scaling to ICM0 and ICM1 kernels\n",
      "[Ridge T-Learner ARD Init] First 10 lengthscale scalings: [0.3   0.3   0.3   0.306 0.3   0.301 1.221 1.221 1.221 1.221]\n",
      "[Hybrid Scaling] scalar ctrl=1.264, scalar treat=0.736\n",
      "First 10 per-feature ctrl ratios (debug): [0.89 1.27 1.22 1.28 1.28 1.28 1.28 1.28 1.28 1.28]\n",
      "First 10 per-feature treat ratios (debug): [1.11 0.73 0.78 0.72 0.72 0.72 0.72 0.72 0.72 0.72]\n",
      "[Hybrid Scaling] scalar ctrl=1.264, scalar treat=0.736\n",
      "First 10 per-feature ctrl ratios (debug): [0.89 1.27 1.22 1.28 1.28 1.28 1.28 1.28 1.28 1.28]\n",
      "First 10 per-feature treat ratios (debug): [1.11 0.73 0.78 0.72 0.72 0.72 0.72 0.72 0.72 0.72]\n",
      "[Covariate Scaling] Applied per-dim scaling to ICM0 and ICM1 kernels\n",
      "[Ridge T-Learner ARD Init] First 10 lengthscale scalings: [0.3   0.3   0.3   0.306 0.3   0.301 1.221 1.221 1.221 1.221]\n"
     ]
    },
    {
     "name": "stderr",
     "output_type": "stream",
     "text": [
      " 38%|███▊      | 38/100 [1:32:16<2:20:36, 136.07s/it]"
     ]
    },
    {
     "name": "stdout",
     "output_type": "stream",
     "text": [
      "[Hybrid Scaling] scalar ctrl=1.320, scalar treat=0.680\n",
      "First 10 per-feature ctrl ratios (debug): [1.14 1.3  1.34 1.33 1.34 1.38 1.33 1.33 1.33 1.33]\n",
      "First 10 per-feature treat ratios (debug): [0.86 0.7  0.66 0.67 0.66 0.62 0.67 0.67 0.67 0.67]\n",
      "[Hybrid Scaling] scalar ctrl=1.320, scalar treat=0.680\n",
      "First 10 per-feature ctrl ratios (debug): [1.14 1.3  1.34 1.33 1.34 1.38 1.33 1.33 1.33 1.33]\n",
      "First 10 per-feature treat ratios (debug): [0.86 0.7  0.66 0.67 0.66 0.62 0.67 0.67 0.67 0.67]\n",
      "[Covariate Scaling] Applied per-dim scaling to ICM0 and ICM1 kernels\n",
      "[Ridge T-Learner ARD Init] First 10 lengthscale scalings: [0.301 0.301 0.302 0.305 0.301 0.3   1.272 1.272 1.272 1.272]\n",
      "[Hybrid Scaling] scalar ctrl=1.320, scalar treat=0.680\n",
      "First 10 per-feature ctrl ratios (debug): [1.14 1.3  1.34 1.33 1.34 1.38 1.33 1.33 1.33 1.33]\n",
      "First 10 per-feature treat ratios (debug): [0.86 0.7  0.66 0.67 0.66 0.62 0.67 0.67 0.67 0.67]\n",
      "[Hybrid Scaling] scalar ctrl=1.320, scalar treat=0.680\n",
      "First 10 per-feature ctrl ratios (debug): [1.14 1.3  1.34 1.33 1.34 1.38 1.33 1.33 1.33 1.33]\n",
      "First 10 per-feature treat ratios (debug): [0.86 0.7  0.66 0.67 0.66 0.62 0.67 0.67 0.67 0.67]\n",
      "[Covariate Scaling] Applied per-dim scaling to ICM0 and ICM1 kernels\n",
      "[Ridge T-Learner ARD Init] First 10 lengthscale scalings: [0.301 0.301 0.302 0.305 0.301 0.3   1.272 1.272 1.272 1.272]\n"
     ]
    },
    {
     "name": "stderr",
     "output_type": "stream",
     "text": [
      " 39%|███▉      | 39/100 [1:34:40<2:20:32, 138.24s/it]"
     ]
    },
    {
     "name": "stdout",
     "output_type": "stream",
     "text": [
      "[Hybrid Scaling] scalar ctrl=1.312, scalar treat=0.688\n",
      "First 10 per-feature ctrl ratios (debug): [1.32 1.32 1.26 1.31 1.3  1.34 1.31 1.31 1.31 1.31]\n",
      "First 10 per-feature treat ratios (debug): [0.68 0.68 0.74 0.69 0.7  0.66 0.69 0.69 0.69 0.69]\n",
      "[Hybrid Scaling] scalar ctrl=1.312, scalar treat=0.688\n",
      "First 10 per-feature ctrl ratios (debug): [1.32 1.32 1.26 1.31 1.3  1.34 1.31 1.31 1.31 1.31]\n",
      "First 10 per-feature treat ratios (debug): [0.68 0.68 0.74 0.69 0.7  0.66 0.69 0.69 0.69 0.69]\n",
      "[Covariate Scaling] Applied per-dim scaling to ICM0 and ICM1 kernels\n",
      "[Ridge T-Learner ARD Init] First 10 lengthscale scalings: [0.301 0.3   0.304 0.3   0.301 0.3   1.327 1.327 1.327 1.327]\n",
      "[Hybrid Scaling] scalar ctrl=1.312, scalar treat=0.688\n",
      "First 10 per-feature ctrl ratios (debug): [1.32 1.32 1.26 1.31 1.3  1.34 1.31 1.31 1.31 1.31]\n",
      "First 10 per-feature treat ratios (debug): [0.68 0.68 0.74 0.69 0.7  0.66 0.69 0.69 0.69 0.69]\n",
      "[Hybrid Scaling] scalar ctrl=1.312, scalar treat=0.688\n",
      "First 10 per-feature ctrl ratios (debug): [1.32 1.32 1.26 1.31 1.3  1.34 1.31 1.31 1.31 1.31]\n",
      "First 10 per-feature treat ratios (debug): [0.68 0.68 0.74 0.69 0.7  0.66 0.69 0.69 0.69 0.69]\n",
      "[Covariate Scaling] Applied per-dim scaling to ICM0 and ICM1 kernels\n",
      "[Ridge T-Learner ARD Init] First 10 lengthscale scalings: [0.301 0.3   0.304 0.3   0.301 0.3   1.327 1.327 1.327 1.327]\n"
     ]
    },
    {
     "name": "stderr",
     "output_type": "stream",
     "text": [
      " 40%|████      | 40/100 [1:36:42<2:13:23, 133.39s/it]"
     ]
    },
    {
     "name": "stdout",
     "output_type": "stream",
     "text": [
      "[Hybrid Scaling] scalar ctrl=1.305, scalar treat=0.695\n",
      "First 10 per-feature ctrl ratios (debug): [1.13 1.31 1.29 1.31 1.3  1.38 1.31 1.31 1.31 1.31]\n",
      "First 10 per-feature treat ratios (debug): [0.87 0.69 0.71 0.69 0.7  0.62 0.69 0.69 0.69 0.69]\n",
      "[Hybrid Scaling] scalar ctrl=1.305, scalar treat=0.695\n",
      "First 10 per-feature ctrl ratios (debug): [1.13 1.31 1.29 1.31 1.3  1.38 1.31 1.31 1.31 1.31]\n",
      "First 10 per-feature treat ratios (debug): [0.87 0.69 0.71 0.69 0.7  0.62 0.69 0.69 0.69 0.69]\n",
      "[Covariate Scaling] Applied per-dim scaling to ICM0 and ICM1 kernels\n",
      "[Ridge T-Learner ARD Init] First 10 lengthscale scalings: [0.3   0.3   0.3   0.324 0.302 0.3   0.306 1.463 1.463 1.463]\n",
      "[Hybrid Scaling] scalar ctrl=1.305, scalar treat=0.695\n",
      "First 10 per-feature ctrl ratios (debug): [1.13 1.31 1.29 1.31 1.3  1.38 1.31 1.31 1.31 1.31]\n",
      "First 10 per-feature treat ratios (debug): [0.87 0.69 0.71 0.69 0.7  0.62 0.69 0.69 0.69 0.69]\n",
      "[Hybrid Scaling] scalar ctrl=1.305, scalar treat=0.695\n",
      "First 10 per-feature ctrl ratios (debug): [1.13 1.31 1.29 1.31 1.3  1.38 1.31 1.31 1.31 1.31]\n",
      "First 10 per-feature treat ratios (debug): [0.87 0.69 0.71 0.69 0.7  0.62 0.69 0.69 0.69 0.69]\n",
      "[Covariate Scaling] Applied per-dim scaling to ICM0 and ICM1 kernels\n",
      "[Ridge T-Learner ARD Init] First 10 lengthscale scalings: [0.3   0.3   0.3   0.324 0.302 0.3   0.306 1.463 1.463 1.463]\n"
     ]
    },
    {
     "name": "stderr",
     "output_type": "stream",
     "text": [
      " 41%|████      | 41/100 [1:38:44<2:07:53, 130.06s/it]"
     ]
    },
    {
     "name": "stdout",
     "output_type": "stream",
     "text": [
      "[Hybrid Scaling] scalar ctrl=1.289, scalar treat=0.711\n",
      "First 10 per-feature ctrl ratios (debug): [0.93 1.31 1.28 1.3  1.32 1.34 1.3  1.3  1.3  1.3 ]\n",
      "First 10 per-feature treat ratios (debug): [1.07 0.69 0.72 0.7  0.68 0.66 0.7  0.7  0.7  0.7 ]\n",
      "[Hybrid Scaling] scalar ctrl=1.289, scalar treat=0.711\n",
      "First 10 per-feature ctrl ratios (debug): [0.93 1.31 1.28 1.3  1.32 1.34 1.3  1.3  1.3  1.3 ]\n",
      "First 10 per-feature treat ratios (debug): [1.07 0.69 0.72 0.7  0.68 0.66 0.7  0.7  0.7  0.7 ]\n",
      "[Covariate Scaling] Applied per-dim scaling to ICM0 and ICM1 kernels\n",
      "[Ridge T-Learner ARD Init] First 10 lengthscale scalings: [0.301 0.301 0.303 0.308 0.301 0.3   1.22  1.22  1.22  1.22 ]\n",
      "[Hybrid Scaling] scalar ctrl=1.289, scalar treat=0.711\n",
      "First 10 per-feature ctrl ratios (debug): [0.93 1.31 1.28 1.3  1.32 1.34 1.3  1.3  1.3  1.3 ]\n",
      "First 10 per-feature treat ratios (debug): [1.07 0.69 0.72 0.7  0.68 0.66 0.7  0.7  0.7  0.7 ]\n",
      "[Hybrid Scaling] scalar ctrl=1.289, scalar treat=0.711\n",
      "First 10 per-feature ctrl ratios (debug): [0.93 1.31 1.28 1.3  1.32 1.34 1.3  1.3  1.3  1.3 ]\n",
      "First 10 per-feature treat ratios (debug): [1.07 0.69 0.72 0.7  0.68 0.66 0.7  0.7  0.7  0.7 ]\n",
      "[Covariate Scaling] Applied per-dim scaling to ICM0 and ICM1 kernels\n",
      "[Ridge T-Learner ARD Init] First 10 lengthscale scalings: [0.301 0.301 0.303 0.308 0.301 0.3   1.22  1.22  1.22  1.22 ]\n"
     ]
    },
    {
     "name": "stderr",
     "output_type": "stream",
     "text": [
      " 42%|████▏     | 42/100 [1:40:50<2:04:31, 128.82s/it]"
     ]
    },
    {
     "name": "stdout",
     "output_type": "stream",
     "text": [
      "[Hybrid Scaling] scalar ctrl=1.290, scalar treat=0.710\n",
      "First 10 per-feature ctrl ratios (debug): [0.97 1.31 1.29 1.3  1.35 1.33 1.3  1.3  1.3  1.3 ]\n",
      "First 10 per-feature treat ratios (debug): [1.03 0.69 0.71 0.7  0.65 0.67 0.7  0.7  0.7  0.7 ]\n",
      "[Hybrid Scaling] scalar ctrl=1.290, scalar treat=0.710\n",
      "First 10 per-feature ctrl ratios (debug): [0.97 1.31 1.29 1.3  1.35 1.33 1.3  1.3  1.3  1.3 ]\n",
      "First 10 per-feature treat ratios (debug): [1.03 0.69 0.71 0.7  0.65 0.67 0.7  0.7  0.7  0.7 ]\n",
      "[Covariate Scaling] Applied per-dim scaling to ICM0 and ICM1 kernels\n",
      "[Ridge T-Learner ARD Init] First 10 lengthscale scalings: [0.301 0.301 0.301 0.301 0.301 0.302 1.221 1.221 1.221 1.221]\n",
      "[Hybrid Scaling] scalar ctrl=1.290, scalar treat=0.710\n",
      "First 10 per-feature ctrl ratios (debug): [0.97 1.31 1.29 1.3  1.35 1.33 1.3  1.3  1.3  1.3 ]\n",
      "First 10 per-feature treat ratios (debug): [1.03 0.69 0.71 0.7  0.65 0.67 0.7  0.7  0.7  0.7 ]\n",
      "[Hybrid Scaling] scalar ctrl=1.290, scalar treat=0.710\n",
      "First 10 per-feature ctrl ratios (debug): [0.97 1.31 1.29 1.3  1.35 1.33 1.3  1.3  1.3  1.3 ]\n",
      "First 10 per-feature treat ratios (debug): [1.03 0.69 0.71 0.7  0.65 0.67 0.7  0.7  0.7  0.7 ]\n",
      "[Covariate Scaling] Applied per-dim scaling to ICM0 and ICM1 kernels\n",
      "[Ridge T-Learner ARD Init] First 10 lengthscale scalings: [0.301 0.301 0.301 0.301 0.301 0.302 1.221 1.221 1.221 1.221]\n"
     ]
    },
    {
     "name": "stderr",
     "output_type": "stream",
     "text": [
      " 43%|████▎     | 43/100 [1:43:04<2:03:58, 130.50s/it]"
     ]
    },
    {
     "name": "stdout",
     "output_type": "stream",
     "text": [
      "[Hybrid Scaling] scalar ctrl=1.267, scalar treat=0.733\n",
      "First 10 per-feature ctrl ratios (debug): [0.88 1.28 1.27 1.28 1.34 1.3  1.28 1.28 1.28 1.28]\n",
      "First 10 per-feature treat ratios (debug): [1.12 0.72 0.73 0.72 0.66 0.7  0.72 0.72 0.72 0.72]\n",
      "[Hybrid Scaling] scalar ctrl=1.267, scalar treat=0.733\n",
      "First 10 per-feature ctrl ratios (debug): [0.88 1.28 1.27 1.28 1.34 1.3  1.28 1.28 1.28 1.28]\n",
      "First 10 per-feature treat ratios (debug): [1.12 0.72 0.73 0.72 0.66 0.7  0.72 0.72 0.72 0.72]\n",
      "[Covariate Scaling] Applied per-dim scaling to ICM0 and ICM1 kernels\n",
      "[Ridge T-Learner ARD Init] First 10 lengthscale scalings: [0.3   0.3   0.3   0.312 0.301 0.301 1.22  1.22  1.22  1.22 ]\n",
      "[Hybrid Scaling] scalar ctrl=1.267, scalar treat=0.733\n",
      "First 10 per-feature ctrl ratios (debug): [0.88 1.28 1.27 1.28 1.34 1.3  1.28 1.28 1.28 1.28]\n",
      "First 10 per-feature treat ratios (debug): [1.12 0.72 0.73 0.72 0.66 0.7  0.72 0.72 0.72 0.72]\n",
      "[Hybrid Scaling] scalar ctrl=1.267, scalar treat=0.733\n",
      "First 10 per-feature ctrl ratios (debug): [0.88 1.28 1.27 1.28 1.34 1.3  1.28 1.28 1.28 1.28]\n",
      "First 10 per-feature treat ratios (debug): [1.12 0.72 0.73 0.72 0.66 0.7  0.72 0.72 0.72 0.72]\n",
      "[Covariate Scaling] Applied per-dim scaling to ICM0 and ICM1 kernels\n",
      "[Ridge T-Learner ARD Init] First 10 lengthscale scalings: [0.3   0.3   0.3   0.312 0.301 0.301 1.22  1.22  1.22  1.22 ]\n"
     ]
    },
    {
     "name": "stderr",
     "output_type": "stream",
     "text": [
      " 44%|████▍     | 44/100 [1:45:14<2:01:36, 130.30s/it]"
     ]
    },
    {
     "name": "stdout",
     "output_type": "stream",
     "text": [
      "[Hybrid Scaling] scalar ctrl=1.304, scalar treat=0.696\n",
      "First 10 per-feature ctrl ratios (debug): [1.08 1.31 1.3  1.31 1.33 1.33 1.31 1.31 1.31 1.31]\n",
      "First 10 per-feature treat ratios (debug): [0.92 0.69 0.7  0.69 0.67 0.67 0.69 0.69 0.69 0.69]\n",
      "[Hybrid Scaling] scalar ctrl=1.304, scalar treat=0.696\n",
      "First 10 per-feature ctrl ratios (debug): [1.08 1.31 1.3  1.31 1.33 1.33 1.31 1.31 1.31 1.31]\n",
      "First 10 per-feature treat ratios (debug): [0.92 0.69 0.7  0.69 0.67 0.67 0.69 0.69 0.69 0.69]\n",
      "[Covariate Scaling] Applied per-dim scaling to ICM0 and ICM1 kernels\n",
      "[Ridge T-Learner ARD Init] First 10 lengthscale scalings: [0.302 0.3   0.303 0.3   0.301 0.3   1.272 1.272 1.272 1.272]\n",
      "[Hybrid Scaling] scalar ctrl=1.304, scalar treat=0.696\n",
      "First 10 per-feature ctrl ratios (debug): [1.08 1.31 1.3  1.31 1.33 1.33 1.31 1.31 1.31 1.31]\n",
      "First 10 per-feature treat ratios (debug): [0.92 0.69 0.7  0.69 0.67 0.67 0.69 0.69 0.69 0.69]\n",
      "[Hybrid Scaling] scalar ctrl=1.304, scalar treat=0.696\n",
      "First 10 per-feature ctrl ratios (debug): [1.08 1.31 1.3  1.31 1.33 1.33 1.31 1.31 1.31 1.31]\n",
      "First 10 per-feature treat ratios (debug): [0.92 0.69 0.7  0.69 0.67 0.67 0.69 0.69 0.69 0.69]\n",
      "[Covariate Scaling] Applied per-dim scaling to ICM0 and ICM1 kernels\n",
      "[Ridge T-Learner ARD Init] First 10 lengthscale scalings: [0.302 0.3   0.303 0.3   0.301 0.3   1.272 1.272 1.272 1.272]\n"
     ]
    },
    {
     "name": "stderr",
     "output_type": "stream",
     "text": [
      " 45%|████▌     | 45/100 [1:47:22<1:58:50, 129.64s/it]"
     ]
    },
    {
     "name": "stdout",
     "output_type": "stream",
     "text": [
      "[Hybrid Scaling] scalar ctrl=1.293, scalar treat=0.707\n",
      "First 10 per-feature ctrl ratios (debug): [0.92 1.29 1.29 1.31 1.34 1.35 1.31 1.31 1.31 1.31]\n",
      "First 10 per-feature treat ratios (debug): [1.08 0.71 0.71 0.69 0.66 0.65 0.69 0.69 0.69 0.69]\n",
      "[Hybrid Scaling] scalar ctrl=1.293, scalar treat=0.707\n",
      "First 10 per-feature ctrl ratios (debug): [0.92 1.29 1.29 1.31 1.34 1.35 1.31 1.31 1.31 1.31]\n",
      "First 10 per-feature treat ratios (debug): [1.08 0.71 0.71 0.69 0.66 0.65 0.69 0.69 0.69 0.69]\n",
      "[Covariate Scaling] Applied per-dim scaling to ICM0 and ICM1 kernels\n",
      "[Ridge T-Learner ARD Init] First 10 lengthscale scalings: [0.3   0.3   0.3   0.301 0.303 0.302 1.272 1.272 0.301 1.272]\n",
      "[Hybrid Scaling] scalar ctrl=1.293, scalar treat=0.707\n",
      "First 10 per-feature ctrl ratios (debug): [0.92 1.29 1.29 1.31 1.34 1.35 1.31 1.31 1.31 1.31]\n",
      "First 10 per-feature treat ratios (debug): [1.08 0.71 0.71 0.69 0.66 0.65 0.69 0.69 0.69 0.69]\n",
      "[Hybrid Scaling] scalar ctrl=1.293, scalar treat=0.707\n",
      "First 10 per-feature ctrl ratios (debug): [0.92 1.29 1.29 1.31 1.34 1.35 1.31 1.31 1.31 1.31]\n",
      "First 10 per-feature treat ratios (debug): [1.08 0.71 0.71 0.69 0.66 0.65 0.69 0.69 0.69 0.69]\n",
      "[Covariate Scaling] Applied per-dim scaling to ICM0 and ICM1 kernels\n",
      "[Ridge T-Learner ARD Init] First 10 lengthscale scalings: [0.3   0.3   0.3   0.301 0.303 0.302 1.272 1.272 0.301 1.272]\n"
     ]
    },
    {
     "name": "stderr",
     "output_type": "stream",
     "text": [
      " 46%|████▌     | 46/100 [1:49:42<1:59:20, 132.59s/it]"
     ]
    },
    {
     "name": "stdout",
     "output_type": "stream",
     "text": [
      "[Hybrid Scaling] scalar ctrl=1.295, scalar treat=0.705\n",
      "First 10 per-feature ctrl ratios (debug): [0.92 1.31 1.31 1.31 1.32 1.34 1.31 1.31 1.31 1.31]\n",
      "First 10 per-feature treat ratios (debug): [1.08 0.69 0.69 0.69 0.68 0.66 0.69 0.69 0.69 0.69]\n",
      "[Hybrid Scaling] scalar ctrl=1.295, scalar treat=0.705\n",
      "First 10 per-feature ctrl ratios (debug): [0.92 1.31 1.31 1.31 1.32 1.34 1.31 1.31 1.31 1.31]\n",
      "First 10 per-feature treat ratios (debug): [1.08 0.69 0.69 0.69 0.68 0.66 0.69 0.69 0.69 0.69]\n",
      "[Covariate Scaling] Applied per-dim scaling to ICM0 and ICM1 kernels\n",
      "[Ridge T-Learner ARD Init] First 10 lengthscale scalings: [0.302 0.301 0.304 0.305 0.302 0.3   1.271 1.271 0.301 1.271]\n",
      "[Hybrid Scaling] scalar ctrl=1.295, scalar treat=0.705\n",
      "First 10 per-feature ctrl ratios (debug): [0.92 1.31 1.31 1.31 1.32 1.34 1.31 1.31 1.31 1.31]\n",
      "First 10 per-feature treat ratios (debug): [1.08 0.69 0.69 0.69 0.68 0.66 0.69 0.69 0.69 0.69]\n",
      "[Hybrid Scaling] scalar ctrl=1.295, scalar treat=0.705\n",
      "First 10 per-feature ctrl ratios (debug): [0.92 1.31 1.31 1.31 1.32 1.34 1.31 1.31 1.31 1.31]\n",
      "First 10 per-feature treat ratios (debug): [1.08 0.69 0.69 0.69 0.68 0.66 0.69 0.69 0.69 0.69]\n",
      "[Covariate Scaling] Applied per-dim scaling to ICM0 and ICM1 kernels\n",
      "[Ridge T-Learner ARD Init] First 10 lengthscale scalings: [0.302 0.301 0.304 0.305 0.302 0.3   1.271 1.271 0.301 1.271]\n"
     ]
    },
    {
     "name": "stderr",
     "output_type": "stream",
     "text": [
      " 47%|████▋     | 47/100 [1:52:14<2:02:29, 138.66s/it]"
     ]
    },
    {
     "name": "stdout",
     "output_type": "stream",
     "text": [
      "[Hybrid Scaling] scalar ctrl=1.316, scalar treat=0.684\n",
      "First 10 per-feature ctrl ratios (debug): [0.91 1.3  1.28 1.33 1.37 1.37 1.33 1.33 1.33 1.33]\n",
      "First 10 per-feature treat ratios (debug): [1.09 0.7  0.72 0.67 0.63 0.63 0.67 0.67 0.67 0.67]\n",
      "[Hybrid Scaling] scalar ctrl=1.316, scalar treat=0.684\n",
      "First 10 per-feature ctrl ratios (debug): [0.91 1.3  1.28 1.33 1.37 1.37 1.33 1.33 1.33 1.33]\n",
      "First 10 per-feature treat ratios (debug): [1.09 0.7  0.72 0.67 0.63 0.63 0.67 0.67 0.67 0.67]\n",
      "[Covariate Scaling] Applied per-dim scaling to ICM0 and ICM1 kernels\n",
      "[Ridge T-Learner ARD Init] First 10 lengthscale scalings: [0.301 0.301 0.302 0.3   0.301 0.301 1.221 1.221 1.221 1.221]\n",
      "[Hybrid Scaling] scalar ctrl=1.316, scalar treat=0.684\n",
      "First 10 per-feature ctrl ratios (debug): [0.91 1.3  1.28 1.33 1.37 1.37 1.33 1.33 1.33 1.33]\n",
      "First 10 per-feature treat ratios (debug): [1.09 0.7  0.72 0.67 0.63 0.63 0.67 0.67 0.67 0.67]\n",
      "[Hybrid Scaling] scalar ctrl=1.316, scalar treat=0.684\n",
      "First 10 per-feature ctrl ratios (debug): [0.91 1.3  1.28 1.33 1.37 1.37 1.33 1.33 1.33 1.33]\n",
      "First 10 per-feature treat ratios (debug): [1.09 0.7  0.72 0.67 0.63 0.63 0.67 0.67 0.67 0.67]\n",
      "[Covariate Scaling] Applied per-dim scaling to ICM0 and ICM1 kernels\n",
      "[Ridge T-Learner ARD Init] First 10 lengthscale scalings: [0.301 0.301 0.302 0.3   0.301 0.301 1.221 1.221 1.221 1.221]\n"
     ]
    },
    {
     "name": "stderr",
     "output_type": "stream",
     "text": [
      " 48%|████▊     | 48/100 [1:54:41<2:02:17, 141.11s/it]"
     ]
    },
    {
     "name": "stdout",
     "output_type": "stream",
     "text": [
      "[Hybrid Scaling] scalar ctrl=1.319, scalar treat=0.681\n",
      "First 10 per-feature ctrl ratios (debug): [1.32 1.31 1.31 1.32 1.29 1.36 1.32 1.32 1.32 1.32]\n",
      "First 10 per-feature treat ratios (debug): [0.68 0.69 0.69 0.68 0.71 0.64 0.68 0.68 0.68 0.68]\n",
      "[Hybrid Scaling] scalar ctrl=1.319, scalar treat=0.681\n",
      "First 10 per-feature ctrl ratios (debug): [1.32 1.31 1.31 1.32 1.29 1.36 1.32 1.32 1.32 1.32]\n",
      "First 10 per-feature treat ratios (debug): [0.68 0.69 0.69 0.68 0.71 0.64 0.68 0.68 0.68 0.68]\n",
      "[Covariate Scaling] Applied per-dim scaling to ICM0 and ICM1 kernels\n",
      "[Ridge T-Learner ARD Init] First 10 lengthscale scalings: [0.301 0.301 0.301 0.3   0.301 0.302 1.272 1.272 0.301 1.272]\n",
      "[Hybrid Scaling] scalar ctrl=1.319, scalar treat=0.681\n",
      "First 10 per-feature ctrl ratios (debug): [1.32 1.31 1.31 1.32 1.29 1.36 1.32 1.32 1.32 1.32]\n",
      "First 10 per-feature treat ratios (debug): [0.68 0.69 0.69 0.68 0.71 0.64 0.68 0.68 0.68 0.68]\n",
      "[Hybrid Scaling] scalar ctrl=1.319, scalar treat=0.681\n",
      "First 10 per-feature ctrl ratios (debug): [1.32 1.31 1.31 1.32 1.29 1.36 1.32 1.32 1.32 1.32]\n",
      "First 10 per-feature treat ratios (debug): [0.68 0.69 0.69 0.68 0.71 0.64 0.68 0.68 0.68 0.68]\n",
      "[Covariate Scaling] Applied per-dim scaling to ICM0 and ICM1 kernels\n",
      "[Ridge T-Learner ARD Init] First 10 lengthscale scalings: [0.301 0.301 0.301 0.3   0.301 0.302 1.272 1.272 0.301 1.272]\n"
     ]
    },
    {
     "name": "stderr",
     "output_type": "stream",
     "text": [
      " 49%|████▉     | 49/100 [1:57:41<2:09:43, 152.61s/it]"
     ]
    },
    {
     "name": "stdout",
     "output_type": "stream",
     "text": [
      "[Hybrid Scaling] scalar ctrl=1.274, scalar treat=0.726\n",
      "First 10 per-feature ctrl ratios (debug): [0.98 1.25 1.28 1.29 1.31 1.29 1.29 1.29 1.29 1.29]\n",
      "First 10 per-feature treat ratios (debug): [1.02 0.75 0.72 0.71 0.69 0.71 0.71 0.71 0.71 0.71]\n",
      "[Hybrid Scaling] scalar ctrl=1.274, scalar treat=0.726\n",
      "First 10 per-feature ctrl ratios (debug): [0.98 1.25 1.28 1.29 1.31 1.29 1.29 1.29 1.29 1.29]\n",
      "First 10 per-feature treat ratios (debug): [1.02 0.75 0.72 0.71 0.69 0.71 0.71 0.71 0.71 0.71]\n",
      "[Covariate Scaling] Applied per-dim scaling to ICM0 and ICM1 kernels\n",
      "[Ridge T-Learner ARD Init] First 10 lengthscale scalings: [0.3   0.3   0.3   0.301 0.301 0.301 1.221 1.221 1.221 1.221]\n",
      "[Hybrid Scaling] scalar ctrl=1.274, scalar treat=0.726\n",
      "First 10 per-feature ctrl ratios (debug): [0.98 1.25 1.28 1.29 1.31 1.29 1.29 1.29 1.29 1.29]\n",
      "First 10 per-feature treat ratios (debug): [1.02 0.75 0.72 0.71 0.69 0.71 0.71 0.71 0.71 0.71]\n",
      "[Hybrid Scaling] scalar ctrl=1.274, scalar treat=0.726\n",
      "First 10 per-feature ctrl ratios (debug): [0.98 1.25 1.28 1.29 1.31 1.29 1.29 1.29 1.29 1.29]\n",
      "First 10 per-feature treat ratios (debug): [1.02 0.75 0.72 0.71 0.69 0.71 0.71 0.71 0.71 0.71]\n",
      "[Covariate Scaling] Applied per-dim scaling to ICM0 and ICM1 kernels\n",
      "[Ridge T-Learner ARD Init] First 10 lengthscale scalings: [0.3   0.3   0.3   0.301 0.301 0.301 1.221 1.221 1.221 1.221]\n"
     ]
    },
    {
     "name": "stderr",
     "output_type": "stream",
     "text": [
      " 50%|█████     | 50/100 [2:00:58<2:18:12, 165.86s/it]"
     ]
    },
    {
     "name": "stdout",
     "output_type": "stream",
     "text": [
      "[Hybrid Scaling] scalar ctrl=1.299, scalar treat=0.701\n",
      "First 10 per-feature ctrl ratios (debug): [1.16 1.31 1.27 1.3  1.32 1.32 1.3  1.3  1.3  1.3 ]\n",
      "First 10 per-feature treat ratios (debug): [0.84 0.69 0.73 0.7  0.68 0.68 0.7  0.7  0.7  0.7 ]\n",
      "[Hybrid Scaling] scalar ctrl=1.299, scalar treat=0.701\n",
      "First 10 per-feature ctrl ratios (debug): [1.16 1.31 1.27 1.3  1.32 1.32 1.3  1.3  1.3  1.3 ]\n",
      "First 10 per-feature treat ratios (debug): [0.84 0.69 0.73 0.7  0.68 0.68 0.7  0.7  0.7  0.7 ]\n",
      "[Covariate Scaling] Applied per-dim scaling to ICM0 and ICM1 kernels\n",
      "[Ridge T-Learner ARD Init] First 10 lengthscale scalings: [0.3   0.3   0.301 0.311 0.301 0.301 1.328 1.328 0.301 1.328]\n",
      "[Hybrid Scaling] scalar ctrl=1.299, scalar treat=0.701\n",
      "First 10 per-feature ctrl ratios (debug): [1.16 1.31 1.27 1.3  1.32 1.32 1.3  1.3  1.3  1.3 ]\n",
      "First 10 per-feature treat ratios (debug): [0.84 0.69 0.73 0.7  0.68 0.68 0.7  0.7  0.7  0.7 ]\n",
      "[Hybrid Scaling] scalar ctrl=1.299, scalar treat=0.701\n",
      "First 10 per-feature ctrl ratios (debug): [1.16 1.31 1.27 1.3  1.32 1.32 1.3  1.3  1.3  1.3 ]\n",
      "First 10 per-feature treat ratios (debug): [0.84 0.69 0.73 0.7  0.68 0.68 0.7  0.7  0.7  0.7 ]\n",
      "[Covariate Scaling] Applied per-dim scaling to ICM0 and ICM1 kernels\n",
      "[Ridge T-Learner ARD Init] First 10 lengthscale scalings: [0.3   0.3   0.301 0.311 0.301 0.301 1.328 1.328 0.301 1.328]\n"
     ]
    },
    {
     "name": "stderr",
     "output_type": "stream",
     "text": [
      " 51%|█████     | 51/100 [2:04:40<2:29:26, 182.98s/it]"
     ]
    },
    {
     "name": "stdout",
     "output_type": "stream",
     "text": [
      "[Hybrid Scaling] scalar ctrl=1.273, scalar treat=0.727\n",
      "First 10 per-feature ctrl ratios (debug): [1.2  1.26 1.23 1.28 1.31 1.27 1.28 1.28 1.28 1.28]\n",
      "First 10 per-feature treat ratios (debug): [0.8  0.74 0.77 0.72 0.69 0.73 0.72 0.72 0.72 0.72]\n",
      "[Hybrid Scaling] scalar ctrl=1.273, scalar treat=0.727\n",
      "First 10 per-feature ctrl ratios (debug): [1.2  1.26 1.23 1.28 1.31 1.27 1.28 1.28 1.28 1.28]\n",
      "First 10 per-feature treat ratios (debug): [0.8  0.74 0.77 0.72 0.69 0.73 0.72 0.72 0.72 0.72]\n",
      "[Covariate Scaling] Applied per-dim scaling to ICM0 and ICM1 kernels\n",
      "[Ridge T-Learner ARD Init] First 10 lengthscale scalings: [0.3   0.3   0.3   0.304 0.301 0.301 1.271 1.271 1.271 1.271]\n",
      "[Hybrid Scaling] scalar ctrl=1.273, scalar treat=0.727\n",
      "First 10 per-feature ctrl ratios (debug): [1.2  1.26 1.23 1.28 1.31 1.27 1.28 1.28 1.28 1.28]\n",
      "First 10 per-feature treat ratios (debug): [0.8  0.74 0.77 0.72 0.69 0.73 0.72 0.72 0.72 0.72]\n",
      "[Hybrid Scaling] scalar ctrl=1.273, scalar treat=0.727\n",
      "First 10 per-feature ctrl ratios (debug): [1.2  1.26 1.23 1.28 1.31 1.27 1.28 1.28 1.28 1.28]\n",
      "First 10 per-feature treat ratios (debug): [0.8  0.74 0.77 0.72 0.69 0.73 0.72 0.72 0.72 0.72]\n",
      "[Covariate Scaling] Applied per-dim scaling to ICM0 and ICM1 kernels\n",
      "[Ridge T-Learner ARD Init] First 10 lengthscale scalings: [0.3   0.3   0.3   0.304 0.301 0.301 1.271 1.271 1.271 1.271]\n"
     ]
    },
    {
     "name": "stderr",
     "output_type": "stream",
     "text": [
      " 52%|█████▏    | 52/100 [2:07:48<2:27:32, 184.42s/it]"
     ]
    },
    {
     "name": "stdout",
     "output_type": "stream",
     "text": [
      "[Hybrid Scaling] scalar ctrl=1.286, scalar treat=0.714\n",
      "First 10 per-feature ctrl ratios (debug): [1.18 1.27 1.26 1.29 1.34 1.32 1.29 1.29 1.29 1.29]\n",
      "First 10 per-feature treat ratios (debug): [0.82 0.73 0.74 0.71 0.66 0.68 0.71 0.71 0.71 0.71]\n",
      "[Hybrid Scaling] scalar ctrl=1.286, scalar treat=0.714\n",
      "First 10 per-feature ctrl ratios (debug): [1.18 1.27 1.26 1.29 1.34 1.32 1.29 1.29 1.29 1.29]\n",
      "First 10 per-feature treat ratios (debug): [0.82 0.73 0.74 0.71 0.66 0.68 0.71 0.71 0.71 0.71]\n",
      "[Covariate Scaling] Applied per-dim scaling to ICM0 and ICM1 kernels\n",
      "[Ridge T-Learner ARD Init] First 10 lengthscale scalings: [0.3   0.3   0.3   0.302 0.301 0.301 1.221 1.221 1.221 1.221]\n",
      "[Hybrid Scaling] scalar ctrl=1.286, scalar treat=0.714\n",
      "First 10 per-feature ctrl ratios (debug): [1.18 1.27 1.26 1.29 1.34 1.32 1.29 1.29 1.29 1.29]\n",
      "First 10 per-feature treat ratios (debug): [0.82 0.73 0.74 0.71 0.66 0.68 0.71 0.71 0.71 0.71]\n",
      "[Hybrid Scaling] scalar ctrl=1.286, scalar treat=0.714\n",
      "First 10 per-feature ctrl ratios (debug): [1.18 1.27 1.26 1.29 1.34 1.32 1.29 1.29 1.29 1.29]\n",
      "First 10 per-feature treat ratios (debug): [0.82 0.73 0.74 0.71 0.66 0.68 0.71 0.71 0.71 0.71]\n",
      "[Covariate Scaling] Applied per-dim scaling to ICM0 and ICM1 kernels\n",
      "[Ridge T-Learner ARD Init] First 10 lengthscale scalings: [0.3   0.3   0.3   0.302 0.301 0.301 1.221 1.221 1.221 1.221]\n"
     ]
    },
    {
     "name": "stderr",
     "output_type": "stream",
     "text": [
      " 53%|█████▎    | 53/100 [2:10:27<2:18:33, 176.88s/it]"
     ]
    },
    {
     "name": "stdout",
     "output_type": "stream",
     "text": [
      "[Hybrid Scaling] scalar ctrl=1.308, scalar treat=0.692\n",
      "First 10 per-feature ctrl ratios (debug): [1.45 1.28 1.32 1.3  1.32 1.32 1.3  1.3  1.3  1.3 ]\n",
      "First 10 per-feature treat ratios (debug): [0.55 0.72 0.68 0.7  0.68 0.68 0.7  0.7  0.7  0.7 ]\n",
      "[Hybrid Scaling] scalar ctrl=1.308, scalar treat=0.692\n",
      "First 10 per-feature ctrl ratios (debug): [1.45 1.28 1.32 1.3  1.32 1.32 1.3  1.3  1.3  1.3 ]\n",
      "First 10 per-feature treat ratios (debug): [0.55 0.72 0.68 0.7  0.68 0.68 0.7  0.7  0.7  0.7 ]\n",
      "[Covariate Scaling] Applied per-dim scaling to ICM0 and ICM1 kernels\n",
      "[Ridge T-Learner ARD Init] First 10 lengthscale scalings: [0.301 0.301 0.304 0.3   0.301 0.301 1.221 1.221 1.221 1.221]\n",
      "[Hybrid Scaling] scalar ctrl=1.308, scalar treat=0.692\n",
      "First 10 per-feature ctrl ratios (debug): [1.45 1.28 1.32 1.3  1.32 1.32 1.3  1.3  1.3  1.3 ]\n",
      "First 10 per-feature treat ratios (debug): [0.55 0.72 0.68 0.7  0.68 0.68 0.7  0.7  0.7  0.7 ]\n",
      "[Hybrid Scaling] scalar ctrl=1.308, scalar treat=0.692\n",
      "First 10 per-feature ctrl ratios (debug): [1.45 1.28 1.32 1.3  1.32 1.32 1.3  1.3  1.3  1.3 ]\n",
      "First 10 per-feature treat ratios (debug): [0.55 0.72 0.68 0.7  0.68 0.68 0.7  0.7  0.7  0.7 ]\n",
      "[Covariate Scaling] Applied per-dim scaling to ICM0 and ICM1 kernels\n",
      "[Ridge T-Learner ARD Init] First 10 lengthscale scalings: [0.301 0.301 0.304 0.3   0.301 0.301 1.221 1.221 1.221 1.221]\n"
     ]
    },
    {
     "name": "stderr",
     "output_type": "stream",
     "text": [
      " 54%|█████▍    | 54/100 [2:12:52<2:08:05, 167.07s/it]"
     ]
    },
    {
     "name": "stdout",
     "output_type": "stream",
     "text": [
      "[Hybrid Scaling] scalar ctrl=1.257, scalar treat=0.743\n",
      "First 10 per-feature ctrl ratios (debug): [0.93 1.25 1.26 1.27 1.27 1.3  1.27 1.27 1.27 1.27]\n",
      "First 10 per-feature treat ratios (debug): [1.07 0.75 0.74 0.73 0.73 0.7  0.73 0.73 0.73 0.73]\n",
      "[Hybrid Scaling] scalar ctrl=1.257, scalar treat=0.743\n",
      "First 10 per-feature ctrl ratios (debug): [0.93 1.25 1.26 1.27 1.27 1.3  1.27 1.27 1.27 1.27]\n",
      "First 10 per-feature treat ratios (debug): [1.07 0.75 0.74 0.73 0.73 0.7  0.73 0.73 0.73 0.73]\n",
      "[Covariate Scaling] Applied per-dim scaling to ICM0 and ICM1 kernels\n",
      "[Ridge T-Learner ARD Init] First 10 lengthscale scalings: [0.3   0.3   0.3   0.306 0.301 0.301 1.221 1.221 1.221 1.221]\n",
      "[Hybrid Scaling] scalar ctrl=1.257, scalar treat=0.743\n",
      "First 10 per-feature ctrl ratios (debug): [0.93 1.25 1.26 1.27 1.27 1.3  1.27 1.27 1.27 1.27]\n",
      "First 10 per-feature treat ratios (debug): [1.07 0.75 0.74 0.73 0.73 0.7  0.73 0.73 0.73 0.73]\n",
      "[Hybrid Scaling] scalar ctrl=1.257, scalar treat=0.743\n",
      "First 10 per-feature ctrl ratios (debug): [0.93 1.25 1.26 1.27 1.27 1.3  1.27 1.27 1.27 1.27]\n",
      "First 10 per-feature treat ratios (debug): [1.07 0.75 0.74 0.73 0.73 0.7  0.73 0.73 0.73 0.73]\n",
      "[Covariate Scaling] Applied per-dim scaling to ICM0 and ICM1 kernels\n",
      "[Ridge T-Learner ARD Init] First 10 lengthscale scalings: [0.3   0.3   0.3   0.306 0.301 0.301 1.221 1.221 1.221 1.221]\n"
     ]
    },
    {
     "name": "stderr",
     "output_type": "stream",
     "text": [
      " 55%|█████▌    | 55/100 [2:15:28<2:02:46, 163.71s/it]"
     ]
    },
    {
     "name": "stdout",
     "output_type": "stream",
     "text": [
      "[Hybrid Scaling] scalar ctrl=1.315, scalar treat=0.685\n",
      "First 10 per-feature ctrl ratios (debug): [1.23 1.31 1.31 1.32 1.33 1.36 1.32 1.32 1.32 1.32]\n",
      "First 10 per-feature treat ratios (debug): [0.77 0.69 0.69 0.68 0.67 0.64 0.68 0.68 0.68 0.68]\n",
      "[Hybrid Scaling] scalar ctrl=1.315, scalar treat=0.685\n",
      "First 10 per-feature ctrl ratios (debug): [1.23 1.31 1.31 1.32 1.33 1.36 1.32 1.32 1.32 1.32]\n",
      "First 10 per-feature treat ratios (debug): [0.77 0.69 0.69 0.68 0.67 0.64 0.68 0.68 0.68 0.68]\n",
      "[Covariate Scaling] Applied per-dim scaling to ICM0 and ICM1 kernels\n",
      "[Ridge T-Learner ARD Init] First 10 lengthscale scalings: [0.31  0.308 0.307 0.38  0.319 0.304 1.368 1.368 0.322 1.368]\n",
      "[Hybrid Scaling] scalar ctrl=1.315, scalar treat=0.685\n",
      "First 10 per-feature ctrl ratios (debug): [1.23 1.31 1.31 1.32 1.33 1.36 1.32 1.32 1.32 1.32]\n",
      "First 10 per-feature treat ratios (debug): [0.77 0.69 0.69 0.68 0.67 0.64 0.68 0.68 0.68 0.68]\n",
      "[Hybrid Scaling] scalar ctrl=1.315, scalar treat=0.685\n",
      "First 10 per-feature ctrl ratios (debug): [1.23 1.31 1.31 1.32 1.33 1.36 1.32 1.32 1.32 1.32]\n",
      "First 10 per-feature treat ratios (debug): [0.77 0.69 0.69 0.68 0.67 0.64 0.68 0.68 0.68 0.68]\n",
      "[Covariate Scaling] Applied per-dim scaling to ICM0 and ICM1 kernels\n",
      "[Ridge T-Learner ARD Init] First 10 lengthscale scalings: [0.31  0.308 0.307 0.38  0.319 0.304 1.368 1.368 0.322 1.368]\n"
     ]
    },
    {
     "name": "stderr",
     "output_type": "stream",
     "text": [
      " 56%|█████▌    | 56/100 [2:18:08<1:59:21, 162.75s/it]"
     ]
    },
    {
     "name": "stdout",
     "output_type": "stream",
     "text": [
      "[Hybrid Scaling] scalar ctrl=1.278, scalar treat=0.722\n",
      "First 10 per-feature ctrl ratios (debug): [1.22 1.28 1.27 1.28 1.29 1.28 1.28 1.28 1.28 1.28]\n",
      "First 10 per-feature treat ratios (debug): [0.78 0.72 0.73 0.72 0.71 0.72 0.72 0.72 0.72 0.72]\n",
      "[Hybrid Scaling] scalar ctrl=1.278, scalar treat=0.722\n",
      "First 10 per-feature ctrl ratios (debug): [1.22 1.28 1.27 1.28 1.29 1.28 1.28 1.28 1.28 1.28]\n",
      "First 10 per-feature treat ratios (debug): [0.78 0.72 0.73 0.72 0.71 0.72 0.72 0.72 0.72 0.72]\n",
      "[Covariate Scaling] Applied per-dim scaling to ICM0 and ICM1 kernels\n",
      "[Ridge T-Learner ARD Init] First 10 lengthscale scalings: [0.3   0.3   0.3   0.301 0.303 0.302 1.221 1.221 1.221 1.221]\n",
      "[Hybrid Scaling] scalar ctrl=1.278, scalar treat=0.722\n",
      "First 10 per-feature ctrl ratios (debug): [1.22 1.28 1.27 1.28 1.29 1.28 1.28 1.28 1.28 1.28]\n",
      "First 10 per-feature treat ratios (debug): [0.78 0.72 0.73 0.72 0.71 0.72 0.72 0.72 0.72 0.72]\n",
      "[Hybrid Scaling] scalar ctrl=1.278, scalar treat=0.722\n",
      "First 10 per-feature ctrl ratios (debug): [1.22 1.28 1.27 1.28 1.29 1.28 1.28 1.28 1.28 1.28]\n",
      "First 10 per-feature treat ratios (debug): [0.78 0.72 0.73 0.72 0.71 0.72 0.72 0.72 0.72 0.72]\n",
      "[Covariate Scaling] Applied per-dim scaling to ICM0 and ICM1 kernels\n",
      "[Ridge T-Learner ARD Init] First 10 lengthscale scalings: [0.3   0.3   0.3   0.301 0.303 0.302 1.221 1.221 1.221 1.221]\n"
     ]
    },
    {
     "name": "stderr",
     "output_type": "stream",
     "text": [
      " 57%|█████▋    | 57/100 [2:21:09<2:00:31, 168.18s/it]"
     ]
    },
    {
     "name": "stdout",
     "output_type": "stream",
     "text": [
      "[Hybrid Scaling] scalar ctrl=1.291, scalar treat=0.709\n",
      "First 10 per-feature ctrl ratios (debug): [1.17 1.27 1.26 1.3  1.34 1.3  1.3  1.3  1.3  1.3 ]\n",
      "First 10 per-feature treat ratios (debug): [0.83 0.73 0.74 0.7  0.66 0.7  0.7  0.7  0.7  0.7 ]\n",
      "[Hybrid Scaling] scalar ctrl=1.291, scalar treat=0.709\n",
      "First 10 per-feature ctrl ratios (debug): [1.17 1.27 1.26 1.3  1.34 1.3  1.3  1.3  1.3  1.3 ]\n",
      "First 10 per-feature treat ratios (debug): [0.83 0.73 0.74 0.7  0.66 0.7  0.7  0.7  0.7  0.7 ]\n",
      "[Covariate Scaling] Applied per-dim scaling to ICM0 and ICM1 kernels\n",
      "[Ridge T-Learner ARD Init] First 10 lengthscale scalings: [0.301 0.3   0.304 0.301 0.302 0.3   1.272 1.272 1.272 1.272]\n",
      "[Hybrid Scaling] scalar ctrl=1.291, scalar treat=0.709\n",
      "First 10 per-feature ctrl ratios (debug): [1.17 1.27 1.26 1.3  1.34 1.3  1.3  1.3  1.3  1.3 ]\n",
      "First 10 per-feature treat ratios (debug): [0.83 0.73 0.74 0.7  0.66 0.7  0.7  0.7  0.7  0.7 ]\n",
      "[Hybrid Scaling] scalar ctrl=1.291, scalar treat=0.709\n",
      "First 10 per-feature ctrl ratios (debug): [1.17 1.27 1.26 1.3  1.34 1.3  1.3  1.3  1.3  1.3 ]\n",
      "First 10 per-feature treat ratios (debug): [0.83 0.73 0.74 0.7  0.66 0.7  0.7  0.7  0.7  0.7 ]\n",
      "[Covariate Scaling] Applied per-dim scaling to ICM0 and ICM1 kernels\n",
      "[Ridge T-Learner ARD Init] First 10 lengthscale scalings: [0.301 0.3   0.304 0.301 0.302 0.3   1.272 1.272 1.272 1.272]\n"
     ]
    },
    {
     "name": "stderr",
     "output_type": "stream",
     "text": [
      " 58%|█████▊    | 58/100 [2:24:10<2:00:23, 171.99s/it]"
     ]
    },
    {
     "name": "stdout",
     "output_type": "stream",
     "text": [
      "[Hybrid Scaling] scalar ctrl=1.293, scalar treat=0.707\n",
      "First 10 per-feature ctrl ratios (debug): [1.2  1.3  1.27 1.3  1.28 1.3  1.3  1.3  1.3  1.3 ]\n",
      "First 10 per-feature treat ratios (debug): [0.8  0.7  0.73 0.7  0.72 0.7  0.7  0.7  0.7  0.7 ]\n",
      "[Hybrid Scaling] scalar ctrl=1.293, scalar treat=0.707\n",
      "First 10 per-feature ctrl ratios (debug): [1.2  1.3  1.27 1.3  1.28 1.3  1.3  1.3  1.3  1.3 ]\n",
      "First 10 per-feature treat ratios (debug): [0.8  0.7  0.73 0.7  0.72 0.7  0.7  0.7  0.7  0.7 ]\n",
      "[Covariate Scaling] Applied per-dim scaling to ICM0 and ICM1 kernels\n",
      "[Ridge T-Learner ARD Init] First 10 lengthscale scalings: [0.302 0.301 0.305 0.3   0.302 0.301 1.249 1.249 1.249 1.249]\n",
      "[Hybrid Scaling] scalar ctrl=1.293, scalar treat=0.707\n",
      "First 10 per-feature ctrl ratios (debug): [1.2  1.3  1.27 1.3  1.28 1.3  1.3  1.3  1.3  1.3 ]\n",
      "First 10 per-feature treat ratios (debug): [0.8  0.7  0.73 0.7  0.72 0.7  0.7  0.7  0.7  0.7 ]\n",
      "[Hybrid Scaling] scalar ctrl=1.293, scalar treat=0.707\n",
      "First 10 per-feature ctrl ratios (debug): [1.2  1.3  1.27 1.3  1.28 1.3  1.3  1.3  1.3  1.3 ]\n",
      "First 10 per-feature treat ratios (debug): [0.8  0.7  0.73 0.7  0.72 0.7  0.7  0.7  0.7  0.7 ]\n",
      "[Covariate Scaling] Applied per-dim scaling to ICM0 and ICM1 kernels\n",
      "[Ridge T-Learner ARD Init] First 10 lengthscale scalings: [0.302 0.301 0.305 0.3   0.302 0.301 1.249 1.249 1.249 1.249]\n"
     ]
    },
    {
     "name": "stderr",
     "output_type": "stream",
     "text": [
      " 59%|█████▉    | 59/100 [2:27:18<2:00:49, 176.81s/it]"
     ]
    },
    {
     "name": "stdout",
     "output_type": "stream",
     "text": [
      "[Hybrid Scaling] scalar ctrl=1.294, scalar treat=0.706\n",
      "First 10 per-feature ctrl ratios (debug): [1.08 1.3  1.27 1.3  1.35 1.31 1.3  1.3  1.3  1.3 ]\n",
      "First 10 per-feature treat ratios (debug): [0.92 0.7  0.73 0.7  0.65 0.69 0.7  0.7  0.7  0.7 ]\n",
      "[Hybrid Scaling] scalar ctrl=1.294, scalar treat=0.706\n",
      "First 10 per-feature ctrl ratios (debug): [1.08 1.3  1.27 1.3  1.35 1.31 1.3  1.3  1.3  1.3 ]\n",
      "First 10 per-feature treat ratios (debug): [0.92 0.7  0.73 0.7  0.65 0.69 0.7  0.7  0.7  0.7 ]\n",
      "[Covariate Scaling] Applied per-dim scaling to ICM0 and ICM1 kernels\n",
      "[Ridge T-Learner ARD Init] First 10 lengthscale scalings: [0.3   0.3   0.3   0.303 0.301 0.302 1.221 1.221 1.221 1.221]\n",
      "[Hybrid Scaling] scalar ctrl=1.294, scalar treat=0.706\n",
      "First 10 per-feature ctrl ratios (debug): [1.08 1.3  1.27 1.3  1.35 1.31 1.3  1.3  1.3  1.3 ]\n",
      "First 10 per-feature treat ratios (debug): [0.92 0.7  0.73 0.7  0.65 0.69 0.7  0.7  0.7  0.7 ]\n",
      "[Hybrid Scaling] scalar ctrl=1.294, scalar treat=0.706\n",
      "First 10 per-feature ctrl ratios (debug): [1.08 1.3  1.27 1.3  1.35 1.31 1.3  1.3  1.3  1.3 ]\n",
      "First 10 per-feature treat ratios (debug): [0.92 0.7  0.73 0.7  0.65 0.69 0.7  0.7  0.7  0.7 ]\n",
      "[Covariate Scaling] Applied per-dim scaling to ICM0 and ICM1 kernels\n",
      "[Ridge T-Learner ARD Init] First 10 lengthscale scalings: [0.3   0.3   0.3   0.303 0.301 0.302 1.221 1.221 1.221 1.221]\n"
     ]
    },
    {
     "name": "stderr",
     "output_type": "stream",
     "text": [
      " 60%|██████    | 60/100 [2:30:04<1:55:41, 173.53s/it]"
     ]
    },
    {
     "name": "stdout",
     "output_type": "stream",
     "text": [
      "[Hybrid Scaling] scalar ctrl=1.292, scalar treat=0.708\n",
      "First 10 per-feature ctrl ratios (debug): [1.11 1.3  1.27 1.3  1.3  1.34 1.3  1.3  1.3  1.3 ]\n",
      "First 10 per-feature treat ratios (debug): [0.89 0.7  0.73 0.7  0.7  0.66 0.7  0.7  0.7  0.7 ]\n",
      "[Hybrid Scaling] scalar ctrl=1.292, scalar treat=0.708\n",
      "First 10 per-feature ctrl ratios (debug): [1.11 1.3  1.27 1.3  1.3  1.34 1.3  1.3  1.3  1.3 ]\n",
      "First 10 per-feature treat ratios (debug): [0.89 0.7  0.73 0.7  0.7  0.66 0.7  0.7  0.7  0.7 ]\n",
      "[Covariate Scaling] Applied per-dim scaling to ICM0 and ICM1 kernels\n",
      "[Ridge T-Learner ARD Init] First 10 lengthscale scalings: [0.301 0.301 0.303 0.301 0.301 0.3   1.272 1.272 1.272 1.272]\n",
      "[Hybrid Scaling] scalar ctrl=1.292, scalar treat=0.708\n",
      "First 10 per-feature ctrl ratios (debug): [1.11 1.3  1.27 1.3  1.3  1.34 1.3  1.3  1.3  1.3 ]\n",
      "First 10 per-feature treat ratios (debug): [0.89 0.7  0.73 0.7  0.7  0.66 0.7  0.7  0.7  0.7 ]\n",
      "[Hybrid Scaling] scalar ctrl=1.292, scalar treat=0.708\n",
      "First 10 per-feature ctrl ratios (debug): [1.11 1.3  1.27 1.3  1.3  1.34 1.3  1.3  1.3  1.3 ]\n",
      "First 10 per-feature treat ratios (debug): [0.89 0.7  0.73 0.7  0.7  0.66 0.7  0.7  0.7  0.7 ]\n",
      "[Covariate Scaling] Applied per-dim scaling to ICM0 and ICM1 kernels\n",
      "[Ridge T-Learner ARD Init] First 10 lengthscale scalings: [0.301 0.301 0.303 0.301 0.301 0.3   1.272 1.272 1.272 1.272]\n"
     ]
    },
    {
     "name": "stderr",
     "output_type": "stream",
     "text": [
      " 61%|██████    | 61/100 [2:32:42<1:49:48, 168.95s/it]"
     ]
    },
    {
     "name": "stdout",
     "output_type": "stream",
     "text": [
      "[Hybrid Scaling] scalar ctrl=1.306, scalar treat=0.694\n",
      "First 10 per-feature ctrl ratios (debug): [0.91 1.31 1.3  1.32 1.32 1.33 1.32 1.32 1.32 1.32]\n",
      "First 10 per-feature treat ratios (debug): [1.09 0.69 0.7  0.68 0.68 0.67 0.68 0.68 0.68 0.68]\n",
      "[Hybrid Scaling] scalar ctrl=1.306, scalar treat=0.694\n",
      "First 10 per-feature ctrl ratios (debug): [0.91 1.31 1.3  1.32 1.32 1.33 1.32 1.32 1.32 1.32]\n",
      "First 10 per-feature treat ratios (debug): [1.09 0.69 0.7  0.68 0.68 0.67 0.68 0.68 0.68 0.68]\n",
      "[Covariate Scaling] Applied per-dim scaling to ICM0 and ICM1 kernels\n",
      "[Ridge T-Learner ARD Init] First 10 lengthscale scalings: [0.3   0.3   0.3   0.301 0.301 0.302 1.221 1.221 1.221 1.221]\n",
      "[Hybrid Scaling] scalar ctrl=1.306, scalar treat=0.694\n",
      "First 10 per-feature ctrl ratios (debug): [0.91 1.31 1.3  1.32 1.32 1.33 1.32 1.32 1.32 1.32]\n",
      "First 10 per-feature treat ratios (debug): [1.09 0.69 0.7  0.68 0.68 0.67 0.68 0.68 0.68 0.68]\n",
      "[Hybrid Scaling] scalar ctrl=1.306, scalar treat=0.694\n",
      "First 10 per-feature ctrl ratios (debug): [0.91 1.31 1.3  1.32 1.32 1.33 1.32 1.32 1.32 1.32]\n",
      "First 10 per-feature treat ratios (debug): [1.09 0.69 0.7  0.68 0.68 0.67 0.68 0.68 0.68 0.68]\n",
      "[Covariate Scaling] Applied per-dim scaling to ICM0 and ICM1 kernels\n",
      "[Ridge T-Learner ARD Init] First 10 lengthscale scalings: [0.3   0.3   0.3   0.301 0.301 0.302 1.221 1.221 1.221 1.221]\n"
     ]
    },
    {
     "name": "stderr",
     "output_type": "stream",
     "text": [
      " 62%|██████▏   | 62/100 [2:35:18<1:44:37, 165.20s/it]"
     ]
    },
    {
     "name": "stdout",
     "output_type": "stream",
     "text": [
      "[Hybrid Scaling] scalar ctrl=1.278, scalar treat=0.722\n",
      "First 10 per-feature ctrl ratios (debug): [0.86 1.29 1.26 1.3  1.31 1.34 1.3  1.3  1.3  1.3 ]\n",
      "First 10 per-feature treat ratios (debug): [1.14 0.71 0.74 0.7  0.69 0.66 0.7  0.7  0.7  0.7 ]\n",
      "[Hybrid Scaling] scalar ctrl=1.278, scalar treat=0.722\n",
      "First 10 per-feature ctrl ratios (debug): [0.86 1.29 1.26 1.3  1.31 1.34 1.3  1.3  1.3  1.3 ]\n",
      "First 10 per-feature treat ratios (debug): [1.14 0.71 0.74 0.7  0.69 0.66 0.7  0.7  0.7  0.7 ]\n",
      "[Covariate Scaling] Applied per-dim scaling to ICM0 and ICM1 kernels\n",
      "[Ridge T-Learner ARD Init] First 10 lengthscale scalings: [0.3   0.301 0.3   0.3   0.303 0.301 1.221 1.221 1.221 1.221]\n",
      "[Hybrid Scaling] scalar ctrl=1.278, scalar treat=0.722\n",
      "First 10 per-feature ctrl ratios (debug): [0.86 1.29 1.26 1.3  1.31 1.34 1.3  1.3  1.3  1.3 ]\n",
      "First 10 per-feature treat ratios (debug): [1.14 0.71 0.74 0.7  0.69 0.66 0.7  0.7  0.7  0.7 ]\n",
      "[Hybrid Scaling] scalar ctrl=1.278, scalar treat=0.722\n",
      "First 10 per-feature ctrl ratios (debug): [0.86 1.29 1.26 1.3  1.31 1.34 1.3  1.3  1.3  1.3 ]\n",
      "First 10 per-feature treat ratios (debug): [1.14 0.71 0.74 0.7  0.69 0.66 0.7  0.7  0.7  0.7 ]\n",
      "[Covariate Scaling] Applied per-dim scaling to ICM0 and ICM1 kernels\n",
      "[Ridge T-Learner ARD Init] First 10 lengthscale scalings: [0.3   0.301 0.3   0.3   0.303 0.301 1.221 1.221 1.221 1.221]\n"
     ]
    },
    {
     "name": "stderr",
     "output_type": "stream",
     "text": [
      " 63%|██████▎   | 63/100 [2:37:49<1:39:13, 160.89s/it]"
     ]
    },
    {
     "name": "stdout",
     "output_type": "stream",
     "text": [
      "[Hybrid Scaling] scalar ctrl=1.290, scalar treat=0.710\n",
      "First 10 per-feature ctrl ratios (debug): [0.96 1.27 1.3  1.3  1.34 1.34 1.3  1.3  1.3  1.3 ]\n",
      "First 10 per-feature treat ratios (debug): [1.04 0.73 0.7  0.7  0.66 0.66 0.7  0.7  0.7  0.7 ]\n",
      "[Hybrid Scaling] scalar ctrl=1.290, scalar treat=0.710\n",
      "First 10 per-feature ctrl ratios (debug): [0.96 1.27 1.3  1.3  1.34 1.34 1.3  1.3  1.3  1.3 ]\n",
      "First 10 per-feature treat ratios (debug): [1.04 0.73 0.7  0.7  0.66 0.66 0.7  0.7  0.7  0.7 ]\n",
      "[Covariate Scaling] Applied per-dim scaling to ICM0 and ICM1 kernels\n",
      "[Ridge T-Learner ARD Init] First 10 lengthscale scalings: [0.301 0.301 0.301 0.3   0.301 0.301 1.221 1.221 1.221 1.221]\n",
      "[Hybrid Scaling] scalar ctrl=1.290, scalar treat=0.710\n",
      "First 10 per-feature ctrl ratios (debug): [0.96 1.27 1.3  1.3  1.34 1.34 1.3  1.3  1.3  1.3 ]\n",
      "First 10 per-feature treat ratios (debug): [1.04 0.73 0.7  0.7  0.66 0.66 0.7  0.7  0.7  0.7 ]\n",
      "[Hybrid Scaling] scalar ctrl=1.290, scalar treat=0.710\n",
      "First 10 per-feature ctrl ratios (debug): [0.96 1.27 1.3  1.3  1.34 1.34 1.3  1.3  1.3  1.3 ]\n",
      "First 10 per-feature treat ratios (debug): [1.04 0.73 0.7  0.7  0.66 0.66 0.7  0.7  0.7  0.7 ]\n",
      "[Covariate Scaling] Applied per-dim scaling to ICM0 and ICM1 kernels\n",
      "[Ridge T-Learner ARD Init] First 10 lengthscale scalings: [0.301 0.301 0.301 0.3   0.301 0.301 1.221 1.221 1.221 1.221]\n"
     ]
    },
    {
     "name": "stderr",
     "output_type": "stream",
     "text": [
      " 64%|██████▍   | 64/100 [2:40:23<1:35:14, 158.73s/it]"
     ]
    },
    {
     "name": "stdout",
     "output_type": "stream",
     "text": [
      "[Hybrid Scaling] scalar ctrl=1.282, scalar treat=0.718\n",
      "First 10 per-feature ctrl ratios (debug): [0.88 1.28 1.27 1.3  1.29 1.35 1.3  1.3  1.3  1.3 ]\n",
      "First 10 per-feature treat ratios (debug): [1.12 0.72 0.73 0.7  0.71 0.65 0.7  0.7  0.7  0.7 ]\n",
      "[Hybrid Scaling] scalar ctrl=1.282, scalar treat=0.718\n",
      "First 10 per-feature ctrl ratios (debug): [0.88 1.28 1.27 1.3  1.29 1.35 1.3  1.3  1.3  1.3 ]\n",
      "First 10 per-feature treat ratios (debug): [1.12 0.72 0.73 0.7  0.71 0.65 0.7  0.7  0.7  0.7 ]\n",
      "[Covariate Scaling] Applied per-dim scaling to ICM0 and ICM1 kernels\n",
      "[Ridge T-Learner ARD Init] First 10 lengthscale scalings: [0.3   0.3   0.3   0.3   0.301 0.301 1.221 1.221 1.221 1.221]\n",
      "[Hybrid Scaling] scalar ctrl=1.282, scalar treat=0.718\n",
      "First 10 per-feature ctrl ratios (debug): [0.88 1.28 1.27 1.3  1.29 1.35 1.3  1.3  1.3  1.3 ]\n",
      "First 10 per-feature treat ratios (debug): [1.12 0.72 0.73 0.7  0.71 0.65 0.7  0.7  0.7  0.7 ]\n",
      "[Hybrid Scaling] scalar ctrl=1.282, scalar treat=0.718\n",
      "First 10 per-feature ctrl ratios (debug): [0.88 1.28 1.27 1.3  1.29 1.35 1.3  1.3  1.3  1.3 ]\n",
      "First 10 per-feature treat ratios (debug): [1.12 0.72 0.73 0.7  0.71 0.65 0.7  0.7  0.7  0.7 ]\n",
      "[Covariate Scaling] Applied per-dim scaling to ICM0 and ICM1 kernels\n",
      "[Ridge T-Learner ARD Init] First 10 lengthscale scalings: [0.3   0.3   0.3   0.3   0.301 0.301 1.221 1.221 1.221 1.221]\n"
     ]
    },
    {
     "name": "stderr",
     "output_type": "stream",
     "text": [
      " 65%|██████▌   | 65/100 [2:42:52<1:30:56, 155.90s/it]"
     ]
    },
    {
     "name": "stdout",
     "output_type": "stream",
     "text": [
      "[Hybrid Scaling] scalar ctrl=1.277, scalar treat=0.723\n",
      "First 10 per-feature ctrl ratios (debug): [0.92 1.29 1.27 1.29 1.3  1.32 1.29 1.29 1.29 1.29]\n",
      "First 10 per-feature treat ratios (debug): [1.08 0.71 0.73 0.71 0.7  0.68 0.71 0.71 0.71 0.71]\n",
      "[Hybrid Scaling] scalar ctrl=1.277, scalar treat=0.723\n",
      "First 10 per-feature ctrl ratios (debug): [0.92 1.29 1.27 1.29 1.3  1.32 1.29 1.29 1.29 1.29]\n",
      "First 10 per-feature treat ratios (debug): [1.08 0.71 0.73 0.71 0.7  0.68 0.71 0.71 0.71 0.71]\n",
      "[Covariate Scaling] Applied per-dim scaling to ICM0 and ICM1 kernels\n",
      "[Ridge T-Learner ARD Init] First 10 lengthscale scalings: [0.301 0.301 0.3   0.302 0.301 0.3   1.221 1.221 1.221 1.221]\n",
      "[Hybrid Scaling] scalar ctrl=1.277, scalar treat=0.723\n",
      "First 10 per-feature ctrl ratios (debug): [0.92 1.29 1.27 1.29 1.3  1.32 1.29 1.29 1.29 1.29]\n",
      "First 10 per-feature treat ratios (debug): [1.08 0.71 0.73 0.71 0.7  0.68 0.71 0.71 0.71 0.71]\n",
      "[Hybrid Scaling] scalar ctrl=1.277, scalar treat=0.723\n",
      "First 10 per-feature ctrl ratios (debug): [0.92 1.29 1.27 1.29 1.3  1.32 1.29 1.29 1.29 1.29]\n",
      "First 10 per-feature treat ratios (debug): [1.08 0.71 0.73 0.71 0.7  0.68 0.71 0.71 0.71 0.71]\n",
      "[Covariate Scaling] Applied per-dim scaling to ICM0 and ICM1 kernels\n",
      "[Ridge T-Learner ARD Init] First 10 lengthscale scalings: [0.301 0.301 0.3   0.302 0.301 0.3   1.221 1.221 1.221 1.221]\n"
     ]
    },
    {
     "name": "stderr",
     "output_type": "stream",
     "text": [
      " 66%|██████▌   | 66/100 [2:45:41<1:30:28, 159.66s/it]"
     ]
    },
    {
     "name": "stdout",
     "output_type": "stream",
     "text": [
      "[Hybrid Scaling] scalar ctrl=1.307, scalar treat=0.693\n",
      "First 10 per-feature ctrl ratios (debug): [1.19 1.3  1.3  1.31 1.32 1.4  1.31 1.31 1.31 1.31]\n",
      "First 10 per-feature treat ratios (debug): [0.81 0.7  0.7  0.69 0.68 0.6  0.69 0.69 0.69 0.69]\n",
      "[Hybrid Scaling] scalar ctrl=1.307, scalar treat=0.693\n",
      "First 10 per-feature ctrl ratios (debug): [1.19 1.3  1.3  1.31 1.32 1.4  1.31 1.31 1.31 1.31]\n",
      "First 10 per-feature treat ratios (debug): [0.81 0.7  0.7  0.69 0.68 0.6  0.69 0.69 0.69 0.69]\n",
      "[Covariate Scaling] Applied per-dim scaling to ICM0 and ICM1 kernels\n",
      "[Ridge T-Learner ARD Init] First 10 lengthscale scalings: [0.302 0.3   0.301 0.369 0.302 0.301 1.217 1.217 1.217 1.217]\n",
      "[Hybrid Scaling] scalar ctrl=1.307, scalar treat=0.693\n",
      "First 10 per-feature ctrl ratios (debug): [1.19 1.3  1.3  1.31 1.32 1.4  1.31 1.31 1.31 1.31]\n",
      "First 10 per-feature treat ratios (debug): [0.81 0.7  0.7  0.69 0.68 0.6  0.69 0.69 0.69 0.69]\n",
      "[Hybrid Scaling] scalar ctrl=1.307, scalar treat=0.693\n",
      "First 10 per-feature ctrl ratios (debug): [1.19 1.3  1.3  1.31 1.32 1.4  1.31 1.31 1.31 1.31]\n",
      "First 10 per-feature treat ratios (debug): [0.81 0.7  0.7  0.69 0.68 0.6  0.69 0.69 0.69 0.69]\n",
      "[Covariate Scaling] Applied per-dim scaling to ICM0 and ICM1 kernels\n",
      "[Ridge T-Learner ARD Init] First 10 lengthscale scalings: [0.302 0.3   0.301 0.369 0.302 0.301 1.217 1.217 1.217 1.217]\n"
     ]
    },
    {
     "name": "stderr",
     "output_type": "stream",
     "text": [
      " 67%|██████▋   | 67/100 [2:48:40<1:30:59, 165.43s/it]"
     ]
    },
    {
     "name": "stdout",
     "output_type": "stream",
     "text": [
      "[Hybrid Scaling] scalar ctrl=1.285, scalar treat=0.715\n",
      "First 10 per-feature ctrl ratios (debug): [1.17 1.28 1.26 1.29 1.31 1.33 1.29 1.29 1.29 1.29]\n",
      "First 10 per-feature treat ratios (debug): [0.83 0.72 0.74 0.71 0.69 0.67 0.71 0.71 0.71 0.71]\n",
      "[Hybrid Scaling] scalar ctrl=1.285, scalar treat=0.715\n",
      "First 10 per-feature ctrl ratios (debug): [1.17 1.28 1.26 1.29 1.31 1.33 1.29 1.29 1.29 1.29]\n",
      "First 10 per-feature treat ratios (debug): [0.83 0.72 0.74 0.71 0.69 0.67 0.71 0.71 0.71 0.71]\n",
      "[Covariate Scaling] Applied per-dim scaling to ICM0 and ICM1 kernels\n",
      "[Ridge T-Learner ARD Init] First 10 lengthscale scalings: [0.301 0.302 0.301 0.3   0.301 0.3   1.221 1.221 1.221 1.221]\n",
      "[Hybrid Scaling] scalar ctrl=1.285, scalar treat=0.715\n",
      "First 10 per-feature ctrl ratios (debug): [1.17 1.28 1.26 1.29 1.31 1.33 1.29 1.29 1.29 1.29]\n",
      "First 10 per-feature treat ratios (debug): [0.83 0.72 0.74 0.71 0.69 0.67 0.71 0.71 0.71 0.71]\n",
      "[Hybrid Scaling] scalar ctrl=1.285, scalar treat=0.715\n",
      "First 10 per-feature ctrl ratios (debug): [1.17 1.28 1.26 1.29 1.31 1.33 1.29 1.29 1.29 1.29]\n",
      "First 10 per-feature treat ratios (debug): [0.83 0.72 0.74 0.71 0.69 0.67 0.71 0.71 0.71 0.71]\n",
      "[Covariate Scaling] Applied per-dim scaling to ICM0 and ICM1 kernels\n",
      "[Ridge T-Learner ARD Init] First 10 lengthscale scalings: [0.301 0.302 0.301 0.3   0.301 0.3   1.221 1.221 1.221 1.221]\n"
     ]
    },
    {
     "name": "stderr",
     "output_type": "stream",
     "text": [
      " 68%|██████▊   | 68/100 [2:51:24<1:28:04, 165.13s/it]"
     ]
    },
    {
     "name": "stdout",
     "output_type": "stream",
     "text": [
      "[Hybrid Scaling] scalar ctrl=1.293, scalar treat=0.707\n",
      "First 10 per-feature ctrl ratios (debug): [1.11 1.28 1.29 1.3  1.34 1.33 1.3  1.3  1.3  1.3 ]\n",
      "First 10 per-feature treat ratios (debug): [0.89 0.72 0.71 0.7  0.66 0.67 0.7  0.7  0.7  0.7 ]\n",
      "[Hybrid Scaling] scalar ctrl=1.293, scalar treat=0.707\n",
      "First 10 per-feature ctrl ratios (debug): [1.11 1.28 1.29 1.3  1.34 1.33 1.3  1.3  1.3  1.3 ]\n",
      "First 10 per-feature treat ratios (debug): [0.89 0.72 0.71 0.7  0.66 0.67 0.7  0.7  0.7  0.7 ]\n",
      "[Covariate Scaling] Applied per-dim scaling to ICM0 and ICM1 kernels\n",
      "[Ridge T-Learner ARD Init] First 10 lengthscale scalings: [0.301 0.302 0.307 0.3   0.301 0.302 1.27  1.27  1.27  1.27 ]\n",
      "[Hybrid Scaling] scalar ctrl=1.293, scalar treat=0.707\n",
      "First 10 per-feature ctrl ratios (debug): [1.11 1.28 1.29 1.3  1.34 1.33 1.3  1.3  1.3  1.3 ]\n",
      "First 10 per-feature treat ratios (debug): [0.89 0.72 0.71 0.7  0.66 0.67 0.7  0.7  0.7  0.7 ]\n",
      "[Hybrid Scaling] scalar ctrl=1.293, scalar treat=0.707\n",
      "First 10 per-feature ctrl ratios (debug): [1.11 1.28 1.29 1.3  1.34 1.33 1.3  1.3  1.3  1.3 ]\n",
      "First 10 per-feature treat ratios (debug): [0.89 0.72 0.71 0.7  0.66 0.67 0.7  0.7  0.7  0.7 ]\n",
      "[Covariate Scaling] Applied per-dim scaling to ICM0 and ICM1 kernels\n",
      "[Ridge T-Learner ARD Init] First 10 lengthscale scalings: [0.301 0.302 0.307 0.3   0.301 0.302 1.27  1.27  1.27  1.27 ]\n"
     ]
    },
    {
     "name": "stderr",
     "output_type": "stream",
     "text": [
      " 69%|██████▉   | 69/100 [2:54:05<1:24:37, 163.78s/it]"
     ]
    },
    {
     "name": "stdout",
     "output_type": "stream",
     "text": [
      "[Hybrid Scaling] scalar ctrl=1.254, scalar treat=0.746\n",
      "First 10 per-feature ctrl ratios (debug): [0.72 1.28 1.26 1.28 1.28 1.3  1.28 1.28 1.28 1.28]\n",
      "First 10 per-feature treat ratios (debug): [1.28 0.72 0.74 0.72 0.72 0.7  0.72 0.72 0.72 0.72]\n",
      "[Hybrid Scaling] scalar ctrl=1.254, scalar treat=0.746\n",
      "First 10 per-feature ctrl ratios (debug): [0.72 1.28 1.26 1.28 1.28 1.3  1.28 1.28 1.28 1.28]\n",
      "First 10 per-feature treat ratios (debug): [1.28 0.72 0.74 0.72 0.72 0.7  0.72 0.72 0.72 0.72]\n",
      "[Covariate Scaling] Applied per-dim scaling to ICM0 and ICM1 kernels\n",
      "[Ridge T-Learner ARD Init] First 10 lengthscale scalings: [0.306 0.303 0.308 0.332 0.308 0.309 1.218 1.218 1.218 1.218]\n",
      "[Hybrid Scaling] scalar ctrl=1.254, scalar treat=0.746\n",
      "First 10 per-feature ctrl ratios (debug): [0.72 1.28 1.26 1.28 1.28 1.3  1.28 1.28 1.28 1.28]\n",
      "First 10 per-feature treat ratios (debug): [1.28 0.72 0.74 0.72 0.72 0.7  0.72 0.72 0.72 0.72]\n",
      "[Hybrid Scaling] scalar ctrl=1.254, scalar treat=0.746\n",
      "First 10 per-feature ctrl ratios (debug): [0.72 1.28 1.26 1.28 1.28 1.3  1.28 1.28 1.28 1.28]\n",
      "First 10 per-feature treat ratios (debug): [1.28 0.72 0.74 0.72 0.72 0.7  0.72 0.72 0.72 0.72]\n",
      "[Covariate Scaling] Applied per-dim scaling to ICM0 and ICM1 kernels\n",
      "[Ridge T-Learner ARD Init] First 10 lengthscale scalings: [0.306 0.303 0.308 0.332 0.308 0.309 1.218 1.218 1.218 1.218]\n"
     ]
    },
    {
     "name": "stderr",
     "output_type": "stream",
     "text": [
      " 70%|███████   | 70/100 [2:56:27<1:18:42, 157.41s/it]"
     ]
    },
    {
     "name": "stdout",
     "output_type": "stream",
     "text": [
      "[Hybrid Scaling] scalar ctrl=1.297, scalar treat=0.703\n",
      "First 10 per-feature ctrl ratios (debug): [1.16 1.31 1.29 1.3  1.32 1.3  1.3  1.3  1.3  1.3 ]\n",
      "First 10 per-feature treat ratios (debug): [0.84 0.69 0.71 0.7  0.68 0.7  0.7  0.7  0.7  0.7 ]\n",
      "[Hybrid Scaling] scalar ctrl=1.297, scalar treat=0.703\n",
      "First 10 per-feature ctrl ratios (debug): [1.16 1.31 1.29 1.3  1.32 1.3  1.3  1.3  1.3  1.3 ]\n",
      "First 10 per-feature treat ratios (debug): [0.84 0.69 0.71 0.7  0.68 0.7  0.7  0.7  0.7  0.7 ]\n",
      "[Covariate Scaling] Applied per-dim scaling to ICM0 and ICM1 kernels\n",
      "[Ridge T-Learner ARD Init] First 10 lengthscale scalings: [0.3   0.3   0.3   0.302 0.301 0.3   1.272 0.304 1.272 1.272]\n",
      "[Hybrid Scaling] scalar ctrl=1.297, scalar treat=0.703\n",
      "First 10 per-feature ctrl ratios (debug): [1.16 1.31 1.29 1.3  1.32 1.3  1.3  1.3  1.3  1.3 ]\n",
      "First 10 per-feature treat ratios (debug): [0.84 0.69 0.71 0.7  0.68 0.7  0.7  0.7  0.7  0.7 ]\n",
      "[Hybrid Scaling] scalar ctrl=1.297, scalar treat=0.703\n",
      "First 10 per-feature ctrl ratios (debug): [1.16 1.31 1.29 1.3  1.32 1.3  1.3  1.3  1.3  1.3 ]\n",
      "First 10 per-feature treat ratios (debug): [0.84 0.69 0.71 0.7  0.68 0.7  0.7  0.7  0.7  0.7 ]\n",
      "[Covariate Scaling] Applied per-dim scaling to ICM0 and ICM1 kernels\n",
      "[Ridge T-Learner ARD Init] First 10 lengthscale scalings: [0.3   0.3   0.3   0.302 0.301 0.3   1.272 0.304 1.272 1.272]\n"
     ]
    },
    {
     "name": "stderr",
     "output_type": "stream",
     "text": [
      " 71%|███████   | 71/100 [2:58:50<1:13:54, 152.90s/it]"
     ]
    },
    {
     "name": "stdout",
     "output_type": "stream",
     "text": [
      "[Hybrid Scaling] scalar ctrl=1.313, scalar treat=0.687\n",
      "First 10 per-feature ctrl ratios (debug): [1.28 1.31 1.3  1.32 1.28 1.35 1.32 1.32 1.32 1.32]\n",
      "First 10 per-feature treat ratios (debug): [0.72 0.69 0.7  0.68 0.72 0.65 0.68 0.68 0.68 0.68]\n",
      "[Hybrid Scaling] scalar ctrl=1.313, scalar treat=0.687\n",
      "First 10 per-feature ctrl ratios (debug): [1.28 1.31 1.3  1.32 1.28 1.35 1.32 1.32 1.32 1.32]\n",
      "First 10 per-feature treat ratios (debug): [0.72 0.69 0.7  0.68 0.72 0.65 0.68 0.68 0.68 0.68]\n",
      "[Covariate Scaling] Applied per-dim scaling to ICM0 and ICM1 kernels\n",
      "[Ridge T-Learner ARD Init] First 10 lengthscale scalings: [0.305 0.302 0.303 0.364 0.307 0.302 1.267 1.267 1.267 1.267]\n",
      "[Hybrid Scaling] scalar ctrl=1.313, scalar treat=0.687\n",
      "First 10 per-feature ctrl ratios (debug): [1.28 1.31 1.3  1.32 1.28 1.35 1.32 1.32 1.32 1.32]\n",
      "First 10 per-feature treat ratios (debug): [0.72 0.69 0.7  0.68 0.72 0.65 0.68 0.68 0.68 0.68]\n",
      "[Hybrid Scaling] scalar ctrl=1.313, scalar treat=0.687\n",
      "First 10 per-feature ctrl ratios (debug): [1.28 1.31 1.3  1.32 1.28 1.35 1.32 1.32 1.32 1.32]\n",
      "First 10 per-feature treat ratios (debug): [0.72 0.69 0.7  0.68 0.72 0.65 0.68 0.68 0.68 0.68]\n",
      "[Covariate Scaling] Applied per-dim scaling to ICM0 and ICM1 kernels\n",
      "[Ridge T-Learner ARD Init] First 10 lengthscale scalings: [0.305 0.302 0.303 0.364 0.307 0.302 1.267 1.267 1.267 1.267]\n"
     ]
    },
    {
     "name": "stderr",
     "output_type": "stream",
     "text": [
      " 72%|███████▏  | 72/100 [3:01:13<1:09:59, 149.97s/it]"
     ]
    },
    {
     "name": "stdout",
     "output_type": "stream",
     "text": [
      "[Hybrid Scaling] scalar ctrl=1.268, scalar treat=0.732\n",
      "First 10 per-feature ctrl ratios (debug): [0.91 1.27 1.25 1.28 1.3  1.3  1.28 1.28 1.28 1.28]\n",
      "First 10 per-feature treat ratios (debug): [1.09 0.73 0.75 0.72 0.7  0.7  0.72 0.72 0.72 0.72]\n",
      "[Hybrid Scaling] scalar ctrl=1.268, scalar treat=0.732\n",
      "First 10 per-feature ctrl ratios (debug): [0.91 1.27 1.25 1.28 1.3  1.3  1.28 1.28 1.28 1.28]\n",
      "First 10 per-feature treat ratios (debug): [1.09 0.73 0.75 0.72 0.7  0.7  0.72 0.72 0.72 0.72]\n",
      "[Covariate Scaling] Applied per-dim scaling to ICM0 and ICM1 kernels\n",
      "[Ridge T-Learner ARD Init] First 10 lengthscale scalings: [0.301 0.3   0.301 0.301 0.301 0.3   1.221 1.221 1.221 1.221]\n",
      "[Hybrid Scaling] scalar ctrl=1.268, scalar treat=0.732\n",
      "First 10 per-feature ctrl ratios (debug): [0.91 1.27 1.25 1.28 1.3  1.3  1.28 1.28 1.28 1.28]\n",
      "First 10 per-feature treat ratios (debug): [1.09 0.73 0.75 0.72 0.7  0.7  0.72 0.72 0.72 0.72]\n",
      "[Hybrid Scaling] scalar ctrl=1.268, scalar treat=0.732\n",
      "First 10 per-feature ctrl ratios (debug): [0.91 1.27 1.25 1.28 1.3  1.3  1.28 1.28 1.28 1.28]\n",
      "First 10 per-feature treat ratios (debug): [1.09 0.73 0.75 0.72 0.7  0.7  0.72 0.72 0.72 0.72]\n",
      "[Covariate Scaling] Applied per-dim scaling to ICM0 and ICM1 kernels\n",
      "[Ridge T-Learner ARD Init] First 10 lengthscale scalings: [0.301 0.3   0.301 0.301 0.301 0.3   1.221 1.221 1.221 1.221]\n"
     ]
    },
    {
     "name": "stderr",
     "output_type": "stream",
     "text": [
      " 73%|███████▎  | 73/100 [3:03:38<1:06:51, 148.57s/it]"
     ]
    },
    {
     "name": "stdout",
     "output_type": "stream",
     "text": [
      "[Hybrid Scaling] scalar ctrl=1.307, scalar treat=0.693\n",
      "First 10 per-feature ctrl ratios (debug): [1.35 1.3  1.28 1.31 1.31 1.3  1.31 1.31 1.31 1.31]\n",
      "First 10 per-feature treat ratios (debug): [0.65 0.7  0.72 0.69 0.69 0.7  0.69 0.69 0.69 0.69]\n",
      "[Hybrid Scaling] scalar ctrl=1.307, scalar treat=0.693\n",
      "First 10 per-feature ctrl ratios (debug): [1.35 1.3  1.28 1.31 1.31 1.3  1.31 1.31 1.31 1.31]\n",
      "First 10 per-feature treat ratios (debug): [0.65 0.7  0.72 0.69 0.69 0.7  0.69 0.69 0.69 0.69]\n",
      "[Covariate Scaling] Applied per-dim scaling to ICM0 and ICM1 kernels\n",
      "[Ridge T-Learner ARD Init] First 10 lengthscale scalings: [0.301 0.302 0.301 0.306 0.302 0.308 1.22  1.22  1.22  1.22 ]\n",
      "[Hybrid Scaling] scalar ctrl=1.307, scalar treat=0.693\n",
      "First 10 per-feature ctrl ratios (debug): [1.35 1.3  1.28 1.31 1.31 1.3  1.31 1.31 1.31 1.31]\n",
      "First 10 per-feature treat ratios (debug): [0.65 0.7  0.72 0.69 0.69 0.7  0.69 0.69 0.69 0.69]\n",
      "[Hybrid Scaling] scalar ctrl=1.307, scalar treat=0.693\n",
      "First 10 per-feature ctrl ratios (debug): [1.35 1.3  1.28 1.31 1.31 1.3  1.31 1.31 1.31 1.31]\n",
      "First 10 per-feature treat ratios (debug): [0.65 0.7  0.72 0.69 0.69 0.7  0.69 0.69 0.69 0.69]\n",
      "[Covariate Scaling] Applied per-dim scaling to ICM0 and ICM1 kernels\n",
      "[Ridge T-Learner ARD Init] First 10 lengthscale scalings: [0.301 0.302 0.301 0.306 0.302 0.308 1.22  1.22  1.22  1.22 ]\n"
     ]
    },
    {
     "name": "stderr",
     "output_type": "stream",
     "text": [
      " 74%|███████▍  | 74/100 [3:06:29<1:07:13, 155.15s/it]"
     ]
    },
    {
     "name": "stdout",
     "output_type": "stream",
     "text": [
      "[Hybrid Scaling] scalar ctrl=1.278, scalar treat=0.722\n",
      "First 10 per-feature ctrl ratios (debug): [1.38 1.26 1.24 1.27 1.3  1.29 1.27 1.27 1.27 1.27]\n",
      "First 10 per-feature treat ratios (debug): [0.62 0.74 0.76 0.73 0.7  0.71 0.73 0.73 0.73 0.73]\n",
      "[Hybrid Scaling] scalar ctrl=1.278, scalar treat=0.722\n",
      "First 10 per-feature ctrl ratios (debug): [1.38 1.26 1.24 1.27 1.3  1.29 1.27 1.27 1.27 1.27]\n",
      "First 10 per-feature treat ratios (debug): [0.62 0.74 0.76 0.73 0.7  0.71 0.73 0.73 0.73 0.73]\n",
      "[Covariate Scaling] Applied per-dim scaling to ICM0 and ICM1 kernels\n",
      "[Ridge T-Learner ARD Init] First 10 lengthscale scalings: [0.302 0.303 0.301 0.305 0.303 0.306 1.271 1.271 1.271 1.271]\n",
      "[Hybrid Scaling] scalar ctrl=1.278, scalar treat=0.722\n",
      "First 10 per-feature ctrl ratios (debug): [1.38 1.26 1.24 1.27 1.3  1.29 1.27 1.27 1.27 1.27]\n",
      "First 10 per-feature treat ratios (debug): [0.62 0.74 0.76 0.73 0.7  0.71 0.73 0.73 0.73 0.73]\n",
      "[Hybrid Scaling] scalar ctrl=1.278, scalar treat=0.722\n",
      "First 10 per-feature ctrl ratios (debug): [1.38 1.26 1.24 1.27 1.3  1.29 1.27 1.27 1.27 1.27]\n",
      "First 10 per-feature treat ratios (debug): [0.62 0.74 0.76 0.73 0.7  0.71 0.73 0.73 0.73 0.73]\n",
      "[Covariate Scaling] Applied per-dim scaling to ICM0 and ICM1 kernels\n",
      "[Ridge T-Learner ARD Init] First 10 lengthscale scalings: [0.302 0.303 0.301 0.305 0.303 0.306 1.271 1.271 1.271 1.271]\n"
     ]
    },
    {
     "name": "stderr",
     "output_type": "stream",
     "text": [
      " 75%|███████▌  | 75/100 [3:09:01<1:04:16, 154.27s/it]"
     ]
    },
    {
     "name": "stdout",
     "output_type": "stream",
     "text": [
      "[Hybrid Scaling] scalar ctrl=1.302, scalar treat=0.698\n",
      "First 10 per-feature ctrl ratios (debug): [1.12 1.3  1.29 1.31 1.31 1.34 1.31 1.31 1.31 1.31]\n",
      "First 10 per-feature treat ratios (debug): [0.88 0.7  0.71 0.69 0.69 0.66 0.69 0.69 0.69 0.69]\n",
      "[Hybrid Scaling] scalar ctrl=1.302, scalar treat=0.698\n",
      "First 10 per-feature ctrl ratios (debug): [1.12 1.3  1.29 1.31 1.31 1.34 1.31 1.31 1.31 1.31]\n",
      "First 10 per-feature treat ratios (debug): [0.88 0.7  0.71 0.69 0.69 0.66 0.69 0.69 0.69 0.69]\n",
      "[Covariate Scaling] Applied per-dim scaling to ICM0 and ICM1 kernels\n",
      "[Ridge T-Learner ARD Init] First 10 lengthscale scalings: [0.302 0.301 0.301 0.302 0.3   0.301 1.221 1.221 1.221 1.221]\n",
      "[Hybrid Scaling] scalar ctrl=1.302, scalar treat=0.698\n",
      "First 10 per-feature ctrl ratios (debug): [1.12 1.3  1.29 1.31 1.31 1.34 1.31 1.31 1.31 1.31]\n",
      "First 10 per-feature treat ratios (debug): [0.88 0.7  0.71 0.69 0.69 0.66 0.69 0.69 0.69 0.69]\n",
      "[Hybrid Scaling] scalar ctrl=1.302, scalar treat=0.698\n",
      "First 10 per-feature ctrl ratios (debug): [1.12 1.3  1.29 1.31 1.31 1.34 1.31 1.31 1.31 1.31]\n",
      "First 10 per-feature treat ratios (debug): [0.88 0.7  0.71 0.69 0.69 0.66 0.69 0.69 0.69 0.69]\n",
      "[Covariate Scaling] Applied per-dim scaling to ICM0 and ICM1 kernels\n",
      "[Ridge T-Learner ARD Init] First 10 lengthscale scalings: [0.302 0.301 0.301 0.302 0.3   0.301 1.221 1.221 1.221 1.221]\n"
     ]
    },
    {
     "name": "stderr",
     "output_type": "stream",
     "text": [
      " 76%|███████▌  | 76/100 [3:11:14<59:08, 147.87s/it]  "
     ]
    },
    {
     "name": "stdout",
     "output_type": "stream",
     "text": [
      "[Hybrid Scaling] scalar ctrl=1.290, scalar treat=0.710\n",
      "First 10 per-feature ctrl ratios (debug): [1.38 1.28 1.25 1.28 1.3  1.34 1.28 1.28 1.28 1.28]\n",
      "First 10 per-feature treat ratios (debug): [0.62 0.72 0.75 0.72 0.7  0.66 0.72 0.72 0.72 0.72]\n",
      "[Hybrid Scaling] scalar ctrl=1.290, scalar treat=0.710\n",
      "First 10 per-feature ctrl ratios (debug): [1.38 1.28 1.25 1.28 1.3  1.34 1.28 1.28 1.28 1.28]\n",
      "First 10 per-feature treat ratios (debug): [0.62 0.72 0.75 0.72 0.7  0.66 0.72 0.72 0.72 0.72]\n",
      "[Covariate Scaling] Applied per-dim scaling to ICM0 and ICM1 kernels\n",
      "[Ridge T-Learner ARD Init] First 10 lengthscale scalings: [0.301 0.301 0.301 0.301 0.301 0.3   1.272 1.272 1.272 1.272]\n",
      "[Hybrid Scaling] scalar ctrl=1.290, scalar treat=0.710\n",
      "First 10 per-feature ctrl ratios (debug): [1.38 1.28 1.25 1.28 1.3  1.34 1.28 1.28 1.28 1.28]\n",
      "First 10 per-feature treat ratios (debug): [0.62 0.72 0.75 0.72 0.7  0.66 0.72 0.72 0.72 0.72]\n",
      "[Hybrid Scaling] scalar ctrl=1.290, scalar treat=0.710\n",
      "First 10 per-feature ctrl ratios (debug): [1.38 1.28 1.25 1.28 1.3  1.34 1.28 1.28 1.28 1.28]\n",
      "First 10 per-feature treat ratios (debug): [0.62 0.72 0.75 0.72 0.7  0.66 0.72 0.72 0.72 0.72]\n",
      "[Covariate Scaling] Applied per-dim scaling to ICM0 and ICM1 kernels\n",
      "[Ridge T-Learner ARD Init] First 10 lengthscale scalings: [0.301 0.301 0.301 0.301 0.301 0.3   1.272 1.272 1.272 1.272]\n"
     ]
    },
    {
     "name": "stderr",
     "output_type": "stream",
     "text": [
      " 77%|███████▋  | 77/100 [3:13:20<54:09, 141.28s/it]"
     ]
    },
    {
     "name": "stdout",
     "output_type": "stream",
     "text": [
      "[Hybrid Scaling] scalar ctrl=1.270, scalar treat=0.730\n",
      "First 10 per-feature ctrl ratios (debug): [0.99 1.26 1.27 1.28 1.31 1.32 1.28 1.28 1.28 1.28]\n",
      "First 10 per-feature treat ratios (debug): [1.01 0.74 0.73 0.72 0.69 0.68 0.72 0.72 0.72 0.72]\n",
      "[Hybrid Scaling] scalar ctrl=1.270, scalar treat=0.730\n",
      "First 10 per-feature ctrl ratios (debug): [0.99 1.26 1.27 1.28 1.31 1.32 1.28 1.28 1.28 1.28]\n",
      "First 10 per-feature treat ratios (debug): [1.01 0.74 0.73 0.72 0.69 0.68 0.72 0.72 0.72 0.72]\n",
      "[Covariate Scaling] Applied per-dim scaling to ICM0 and ICM1 kernels\n",
      "[Ridge T-Learner ARD Init] First 10 lengthscale scalings: [0.303 0.307 0.306 0.301 0.303 0.306 1.22  1.22  1.22  1.22 ]\n",
      "[Hybrid Scaling] scalar ctrl=1.270, scalar treat=0.730\n",
      "First 10 per-feature ctrl ratios (debug): [0.99 1.26 1.27 1.28 1.31 1.32 1.28 1.28 1.28 1.28]\n",
      "First 10 per-feature treat ratios (debug): [1.01 0.74 0.73 0.72 0.69 0.68 0.72 0.72 0.72 0.72]\n",
      "[Hybrid Scaling] scalar ctrl=1.270, scalar treat=0.730\n",
      "First 10 per-feature ctrl ratios (debug): [0.99 1.26 1.27 1.28 1.31 1.32 1.28 1.28 1.28 1.28]\n",
      "First 10 per-feature treat ratios (debug): [1.01 0.74 0.73 0.72 0.69 0.68 0.72 0.72 0.72 0.72]\n",
      "[Covariate Scaling] Applied per-dim scaling to ICM0 and ICM1 kernels\n",
      "[Ridge T-Learner ARD Init] First 10 lengthscale scalings: [0.303 0.307 0.306 0.301 0.303 0.306 1.22  1.22  1.22  1.22 ]\n"
     ]
    },
    {
     "name": "stderr",
     "output_type": "stream",
     "text": [
      " 78%|███████▊  | 78/100 [3:15:33<50:56, 138.92s/it]"
     ]
    },
    {
     "name": "stdout",
     "output_type": "stream",
     "text": [
      "[Hybrid Scaling] scalar ctrl=1.271, scalar treat=0.729\n",
      "First 10 per-feature ctrl ratios (debug): [1.12 1.26 1.25 1.28 1.31 1.32 1.28 1.28 1.28 1.28]\n",
      "First 10 per-feature treat ratios (debug): [0.88 0.74 0.75 0.72 0.69 0.68 0.72 0.72 0.72 0.72]\n",
      "[Hybrid Scaling] scalar ctrl=1.271, scalar treat=0.729\n",
      "First 10 per-feature ctrl ratios (debug): [1.12 1.26 1.25 1.28 1.31 1.32 1.28 1.28 1.28 1.28]\n",
      "First 10 per-feature treat ratios (debug): [0.88 0.74 0.75 0.72 0.69 0.68 0.72 0.72 0.72 0.72]\n",
      "[Covariate Scaling] Applied per-dim scaling to ICM0 and ICM1 kernels\n",
      "[Ridge T-Learner ARD Init] First 10 lengthscale scalings: [0.301 0.3   0.301 0.302 0.301 0.301 1.221 1.221 1.221 1.221]\n",
      "[Hybrid Scaling] scalar ctrl=1.271, scalar treat=0.729\n",
      "First 10 per-feature ctrl ratios (debug): [1.12 1.26 1.25 1.28 1.31 1.32 1.28 1.28 1.28 1.28]\n",
      "First 10 per-feature treat ratios (debug): [0.88 0.74 0.75 0.72 0.69 0.68 0.72 0.72 0.72 0.72]\n",
      "[Hybrid Scaling] scalar ctrl=1.271, scalar treat=0.729\n",
      "First 10 per-feature ctrl ratios (debug): [1.12 1.26 1.25 1.28 1.31 1.32 1.28 1.28 1.28 1.28]\n",
      "First 10 per-feature treat ratios (debug): [0.88 0.74 0.75 0.72 0.69 0.68 0.72 0.72 0.72 0.72]\n",
      "[Covariate Scaling] Applied per-dim scaling to ICM0 and ICM1 kernels\n",
      "[Ridge T-Learner ARD Init] First 10 lengthscale scalings: [0.301 0.3   0.301 0.302 0.301 0.301 1.221 1.221 1.221 1.221]\n"
     ]
    },
    {
     "name": "stderr",
     "output_type": "stream",
     "text": [
      " 79%|███████▉  | 79/100 [3:17:30<46:18, 132.31s/it]"
     ]
    },
    {
     "name": "stdout",
     "output_type": "stream",
     "text": [
      "[Hybrid Scaling] scalar ctrl=1.267, scalar treat=0.733\n",
      "First 10 per-feature ctrl ratios (debug): [0.93 1.26 1.24 1.28 1.3  1.32 1.28 1.28 1.28 1.28]\n",
      "First 10 per-feature treat ratios (debug): [1.07 0.74 0.76 0.72 0.7  0.68 0.72 0.72 0.72 0.72]\n",
      "[Hybrid Scaling] scalar ctrl=1.267, scalar treat=0.733\n",
      "First 10 per-feature ctrl ratios (debug): [0.93 1.26 1.24 1.28 1.3  1.32 1.28 1.28 1.28 1.28]\n",
      "First 10 per-feature treat ratios (debug): [1.07 0.74 0.76 0.72 0.7  0.68 0.72 0.72 0.72 0.72]\n",
      "[Covariate Scaling] Applied per-dim scaling to ICM0 and ICM1 kernels\n",
      "[Ridge T-Learner ARD Init] First 10 lengthscale scalings: [0.304 0.309 0.306 0.305 0.302 0.313 1.219 1.219 1.219 1.219]\n",
      "[Hybrid Scaling] scalar ctrl=1.267, scalar treat=0.733\n",
      "First 10 per-feature ctrl ratios (debug): [0.93 1.26 1.24 1.28 1.3  1.32 1.28 1.28 1.28 1.28]\n",
      "First 10 per-feature treat ratios (debug): [1.07 0.74 0.76 0.72 0.7  0.68 0.72 0.72 0.72 0.72]\n",
      "[Hybrid Scaling] scalar ctrl=1.267, scalar treat=0.733\n",
      "First 10 per-feature ctrl ratios (debug): [0.93 1.26 1.24 1.28 1.3  1.32 1.28 1.28 1.28 1.28]\n",
      "First 10 per-feature treat ratios (debug): [1.07 0.74 0.76 0.72 0.7  0.68 0.72 0.72 0.72 0.72]\n",
      "[Covariate Scaling] Applied per-dim scaling to ICM0 and ICM1 kernels\n",
      "[Ridge T-Learner ARD Init] First 10 lengthscale scalings: [0.304 0.309 0.306 0.305 0.302 0.313 1.219 1.219 1.219 1.219]\n"
     ]
    },
    {
     "name": "stderr",
     "output_type": "stream",
     "text": [
      " 80%|████████  | 80/100 [3:19:33<43:08, 129.41s/it]"
     ]
    },
    {
     "name": "stdout",
     "output_type": "stream",
     "text": [
      "[Hybrid Scaling] scalar ctrl=1.319, scalar treat=0.681\n",
      "First 10 per-feature ctrl ratios (debug): [1.52 1.32 1.28 1.31 1.33 1.32 1.31 1.31 1.31 1.31]\n",
      "First 10 per-feature treat ratios (debug): [0.48 0.68 0.72 0.69 0.67 0.68 0.69 0.69 0.69 0.69]\n",
      "[Hybrid Scaling] scalar ctrl=1.319, scalar treat=0.681\n",
      "First 10 per-feature ctrl ratios (debug): [1.52 1.32 1.28 1.31 1.33 1.32 1.31 1.31 1.31 1.31]\n",
      "First 10 per-feature treat ratios (debug): [0.48 0.68 0.72 0.69 0.67 0.68 0.69 0.69 0.69 0.69]\n",
      "[Covariate Scaling] Applied per-dim scaling to ICM0 and ICM1 kernels\n",
      "[Ridge T-Learner ARD Init] First 10 lengthscale scalings: [0.3   0.3   0.301 0.31  0.301 0.3   1.271 1.271 1.271 0.302]\n",
      "[Hybrid Scaling] scalar ctrl=1.319, scalar treat=0.681\n",
      "First 10 per-feature ctrl ratios (debug): [1.52 1.32 1.28 1.31 1.33 1.32 1.31 1.31 1.31 1.31]\n",
      "First 10 per-feature treat ratios (debug): [0.48 0.68 0.72 0.69 0.67 0.68 0.69 0.69 0.69 0.69]\n",
      "[Hybrid Scaling] scalar ctrl=1.319, scalar treat=0.681\n",
      "First 10 per-feature ctrl ratios (debug): [1.52 1.32 1.28 1.31 1.33 1.32 1.31 1.31 1.31 1.31]\n",
      "First 10 per-feature treat ratios (debug): [0.48 0.68 0.72 0.69 0.67 0.68 0.69 0.69 0.69 0.69]\n",
      "[Covariate Scaling] Applied per-dim scaling to ICM0 and ICM1 kernels\n",
      "[Ridge T-Learner ARD Init] First 10 lengthscale scalings: [0.3   0.3   0.301 0.31  0.301 0.3   1.271 1.271 1.271 0.302]\n"
     ]
    },
    {
     "name": "stderr",
     "output_type": "stream",
     "text": [
      " 81%|████████  | 81/100 [3:21:39<40:44, 128.68s/it]"
     ]
    },
    {
     "name": "stdout",
     "output_type": "stream",
     "text": [
      "[Hybrid Scaling] scalar ctrl=1.285, scalar treat=0.715\n",
      "First 10 per-feature ctrl ratios (debug): [1.24 1.29 1.26 1.29 1.29 1.28 1.29 1.29 1.29 1.29]\n",
      "First 10 per-feature treat ratios (debug): [0.76 0.71 0.74 0.71 0.71 0.72 0.71 0.71 0.71 0.71]\n",
      "[Hybrid Scaling] scalar ctrl=1.285, scalar treat=0.715\n",
      "First 10 per-feature ctrl ratios (debug): [1.24 1.29 1.26 1.29 1.29 1.28 1.29 1.29 1.29 1.29]\n",
      "First 10 per-feature treat ratios (debug): [0.76 0.71 0.74 0.71 0.71 0.72 0.71 0.71 0.71 0.71]\n",
      "[Covariate Scaling] Applied per-dim scaling to ICM0 and ICM1 kernels\n",
      "[Ridge T-Learner ARD Init] First 10 lengthscale scalings: [0.3   0.3   0.3   0.535 0.301 0.301 1.259 1.259 1.259 1.259]\n",
      "[Hybrid Scaling] scalar ctrl=1.285, scalar treat=0.715\n",
      "First 10 per-feature ctrl ratios (debug): [1.24 1.29 1.26 1.29 1.29 1.28 1.29 1.29 1.29 1.29]\n",
      "First 10 per-feature treat ratios (debug): [0.76 0.71 0.74 0.71 0.71 0.72 0.71 0.71 0.71 0.71]\n",
      "[Hybrid Scaling] scalar ctrl=1.285, scalar treat=0.715\n",
      "First 10 per-feature ctrl ratios (debug): [1.24 1.29 1.26 1.29 1.29 1.28 1.29 1.29 1.29 1.29]\n",
      "First 10 per-feature treat ratios (debug): [0.76 0.71 0.74 0.71 0.71 0.72 0.71 0.71 0.71 0.71]\n",
      "[Covariate Scaling] Applied per-dim scaling to ICM0 and ICM1 kernels\n",
      "[Ridge T-Learner ARD Init] First 10 lengthscale scalings: [0.3   0.3   0.3   0.535 0.301 0.301 1.259 1.259 1.259 1.259]\n"
     ]
    },
    {
     "name": "stderr",
     "output_type": "stream",
     "text": [
      " 82%|████████▏ | 82/100 [3:23:52<38:58, 129.94s/it]"
     ]
    },
    {
     "name": "stdout",
     "output_type": "stream",
     "text": [
      "[Hybrid Scaling] scalar ctrl=1.276, scalar treat=0.724\n",
      "First 10 per-feature ctrl ratios (debug): [1.02 1.27 1.27 1.28 1.29 1.36 1.28 1.28 1.28 1.28]\n",
      "First 10 per-feature treat ratios (debug): [0.98 0.73 0.73 0.72 0.71 0.64 0.72 0.72 0.72 0.72]\n",
      "[Hybrid Scaling] scalar ctrl=1.276, scalar treat=0.724\n",
      "First 10 per-feature ctrl ratios (debug): [1.02 1.27 1.27 1.28 1.29 1.36 1.28 1.28 1.28 1.28]\n",
      "First 10 per-feature treat ratios (debug): [0.98 0.73 0.73 0.72 0.71 0.64 0.72 0.72 0.72 0.72]\n",
      "[Covariate Scaling] Applied per-dim scaling to ICM0 and ICM1 kernels\n",
      "[Ridge T-Learner ARD Init] First 10 lengthscale scalings: [0.301 0.3   0.302 0.358 0.3   0.301 1.269 1.269 1.269 1.269]\n",
      "[Hybrid Scaling] scalar ctrl=1.276, scalar treat=0.724\n",
      "First 10 per-feature ctrl ratios (debug): [1.02 1.27 1.27 1.28 1.29 1.36 1.28 1.28 1.28 1.28]\n",
      "First 10 per-feature treat ratios (debug): [0.98 0.73 0.73 0.72 0.71 0.64 0.72 0.72 0.72 0.72]\n",
      "[Hybrid Scaling] scalar ctrl=1.276, scalar treat=0.724\n",
      "First 10 per-feature ctrl ratios (debug): [1.02 1.27 1.27 1.28 1.29 1.36 1.28 1.28 1.28 1.28]\n",
      "First 10 per-feature treat ratios (debug): [0.98 0.73 0.73 0.72 0.71 0.64 0.72 0.72 0.72 0.72]\n",
      "[Covariate Scaling] Applied per-dim scaling to ICM0 and ICM1 kernels\n",
      "[Ridge T-Learner ARD Init] First 10 lengthscale scalings: [0.301 0.3   0.302 0.358 0.3   0.301 1.269 1.269 1.269 1.269]\n"
     ]
    },
    {
     "name": "stderr",
     "output_type": "stream",
     "text": [
      " 83%|████████▎ | 83/100 [3:25:59<36:31, 128.93s/it]"
     ]
    },
    {
     "name": "stdout",
     "output_type": "stream",
     "text": [
      "[Hybrid Scaling] scalar ctrl=1.295, scalar treat=0.705\n",
      "First 10 per-feature ctrl ratios (debug): [1.13 1.3  1.27 1.3  1.28 1.35 1.3  1.3  1.3  1.3 ]\n",
      "First 10 per-feature treat ratios (debug): [0.87 0.7  0.73 0.7  0.72 0.65 0.7  0.7  0.7  0.7 ]\n",
      "[Hybrid Scaling] scalar ctrl=1.295, scalar treat=0.705\n",
      "First 10 per-feature ctrl ratios (debug): [1.13 1.3  1.27 1.3  1.28 1.35 1.3  1.3  1.3  1.3 ]\n",
      "First 10 per-feature treat ratios (debug): [0.87 0.7  0.73 0.7  0.72 0.65 0.7  0.7  0.7  0.7 ]\n",
      "[Covariate Scaling] Applied per-dim scaling to ICM0 and ICM1 kernels\n",
      "[Ridge T-Learner ARD Init] First 10 lengthscale scalings: [0.3   0.3   0.3   0.3   0.301 0.301 1.272 1.272 1.272 1.272]\n",
      "[Hybrid Scaling] scalar ctrl=1.295, scalar treat=0.705\n",
      "First 10 per-feature ctrl ratios (debug): [1.13 1.3  1.27 1.3  1.28 1.35 1.3  1.3  1.3  1.3 ]\n",
      "First 10 per-feature treat ratios (debug): [0.87 0.7  0.73 0.7  0.72 0.65 0.7  0.7  0.7  0.7 ]\n",
      "[Hybrid Scaling] scalar ctrl=1.295, scalar treat=0.705\n",
      "First 10 per-feature ctrl ratios (debug): [1.13 1.3  1.27 1.3  1.28 1.35 1.3  1.3  1.3  1.3 ]\n",
      "First 10 per-feature treat ratios (debug): [0.87 0.7  0.73 0.7  0.72 0.65 0.7  0.7  0.7  0.7 ]\n",
      "[Covariate Scaling] Applied per-dim scaling to ICM0 and ICM1 kernels\n",
      "[Ridge T-Learner ARD Init] First 10 lengthscale scalings: [0.3   0.3   0.3   0.3   0.301 0.301 1.272 1.272 1.272 1.272]\n"
     ]
    },
    {
     "name": "stderr",
     "output_type": "stream",
     "text": [
      " 84%|████████▍ | 84/100 [3:28:09<34:30, 129.40s/it]"
     ]
    },
    {
     "name": "stdout",
     "output_type": "stream",
     "text": [
      "[Hybrid Scaling] scalar ctrl=1.288, scalar treat=0.712\n",
      "First 10 per-feature ctrl ratios (debug): [1.16 1.28 1.27 1.29 1.31 1.32 1.29 1.29 1.29 1.29]\n",
      "First 10 per-feature treat ratios (debug): [0.84 0.72 0.73 0.71 0.69 0.68 0.71 0.71 0.71 0.71]\n",
      "[Hybrid Scaling] scalar ctrl=1.288, scalar treat=0.712\n",
      "First 10 per-feature ctrl ratios (debug): [1.16 1.28 1.27 1.29 1.31 1.32 1.29 1.29 1.29 1.29]\n",
      "First 10 per-feature treat ratios (debug): [0.84 0.72 0.73 0.71 0.69 0.68 0.71 0.71 0.71 0.71]\n",
      "[Covariate Scaling] Applied per-dim scaling to ICM0 and ICM1 kernels\n",
      "[Ridge T-Learner ARD Init] First 10 lengthscale scalings: [0.3   0.3   0.3   0.3   0.301 0.302 1.272 1.272 1.272 1.272]\n",
      "[Hybrid Scaling] scalar ctrl=1.288, scalar treat=0.712\n",
      "First 10 per-feature ctrl ratios (debug): [1.16 1.28 1.27 1.29 1.31 1.32 1.29 1.29 1.29 1.29]\n",
      "First 10 per-feature treat ratios (debug): [0.84 0.72 0.73 0.71 0.69 0.68 0.71 0.71 0.71 0.71]\n",
      "[Hybrid Scaling] scalar ctrl=1.288, scalar treat=0.712\n",
      "First 10 per-feature ctrl ratios (debug): [1.16 1.28 1.27 1.29 1.31 1.32 1.29 1.29 1.29 1.29]\n",
      "First 10 per-feature treat ratios (debug): [0.84 0.72 0.73 0.71 0.69 0.68 0.71 0.71 0.71 0.71]\n",
      "[Covariate Scaling] Applied per-dim scaling to ICM0 and ICM1 kernels\n",
      "[Ridge T-Learner ARD Init] First 10 lengthscale scalings: [0.3   0.3   0.3   0.3   0.301 0.302 1.272 1.272 1.272 1.272]\n"
     ]
    },
    {
     "name": "stderr",
     "output_type": "stream",
     "text": [
      " 85%|████████▌ | 85/100 [3:30:25<32:47, 131.14s/it]"
     ]
    },
    {
     "name": "stdout",
     "output_type": "stream",
     "text": [
      "[Hybrid Scaling] scalar ctrl=1.326, scalar treat=0.674\n",
      "First 10 per-feature ctrl ratios (debug): [1.45 1.34 1.28 1.32 1.33 1.36 1.32 1.32 1.32 1.32]\n",
      "First 10 per-feature treat ratios (debug): [0.55 0.66 0.72 0.68 0.67 0.64 0.68 0.68 0.68 0.68]\n",
      "[Hybrid Scaling] scalar ctrl=1.326, scalar treat=0.674\n",
      "First 10 per-feature ctrl ratios (debug): [1.45 1.34 1.28 1.32 1.33 1.36 1.32 1.32 1.32 1.32]\n",
      "First 10 per-feature treat ratios (debug): [0.55 0.66 0.72 0.68 0.67 0.64 0.68 0.68 0.68 0.68]\n",
      "[Covariate Scaling] Applied per-dim scaling to ICM0 and ICM1 kernels\n",
      "[Ridge T-Learner ARD Init] First 10 lengthscale scalings: [0.3   0.3   0.3   0.314 0.3   0.3   1.22  1.22  1.22  1.22 ]\n",
      "[Hybrid Scaling] scalar ctrl=1.326, scalar treat=0.674\n",
      "First 10 per-feature ctrl ratios (debug): [1.45 1.34 1.28 1.32 1.33 1.36 1.32 1.32 1.32 1.32]\n",
      "First 10 per-feature treat ratios (debug): [0.55 0.66 0.72 0.68 0.67 0.64 0.68 0.68 0.68 0.68]\n",
      "[Hybrid Scaling] scalar ctrl=1.326, scalar treat=0.674\n",
      "First 10 per-feature ctrl ratios (debug): [1.45 1.34 1.28 1.32 1.33 1.36 1.32 1.32 1.32 1.32]\n",
      "First 10 per-feature treat ratios (debug): [0.55 0.66 0.72 0.68 0.67 0.64 0.68 0.68 0.68 0.68]\n",
      "[Covariate Scaling] Applied per-dim scaling to ICM0 and ICM1 kernels\n",
      "[Ridge T-Learner ARD Init] First 10 lengthscale scalings: [0.3   0.3   0.3   0.314 0.3   0.3   1.22  1.22  1.22  1.22 ]\n"
     ]
    },
    {
     "name": "stderr",
     "output_type": "stream",
     "text": [
      " 86%|████████▌ | 86/100 [3:32:29<30:07, 129.07s/it]"
     ]
    },
    {
     "name": "stdout",
     "output_type": "stream",
     "text": [
      "[Hybrid Scaling] scalar ctrl=1.284, scalar treat=0.716\n",
      "First 10 per-feature ctrl ratios (debug): [0.96 1.28 1.29 1.3  1.34 1.32 1.3  1.3  1.3  1.3 ]\n",
      "First 10 per-feature treat ratios (debug): [1.04 0.72 0.71 0.7  0.66 0.68 0.7  0.7  0.7  0.7 ]\n",
      "[Hybrid Scaling] scalar ctrl=1.284, scalar treat=0.716\n",
      "First 10 per-feature ctrl ratios (debug): [0.96 1.28 1.29 1.3  1.34 1.32 1.3  1.3  1.3  1.3 ]\n",
      "First 10 per-feature treat ratios (debug): [1.04 0.72 0.71 0.7  0.66 0.68 0.7  0.7  0.7  0.7 ]\n",
      "[Covariate Scaling] Applied per-dim scaling to ICM0 and ICM1 kernels\n",
      "[Ridge T-Learner ARD Init] First 10 lengthscale scalings: [0.301 0.3   0.303 0.303 0.302 0.3   1.27  1.27  1.27  1.27 ]\n",
      "[Hybrid Scaling] scalar ctrl=1.284, scalar treat=0.716\n",
      "First 10 per-feature ctrl ratios (debug): [0.96 1.28 1.29 1.3  1.34 1.32 1.3  1.3  1.3  1.3 ]\n",
      "First 10 per-feature treat ratios (debug): [1.04 0.72 0.71 0.7  0.66 0.68 0.7  0.7  0.7  0.7 ]\n",
      "[Hybrid Scaling] scalar ctrl=1.284, scalar treat=0.716\n",
      "First 10 per-feature ctrl ratios (debug): [0.96 1.28 1.29 1.3  1.34 1.32 1.3  1.3  1.3  1.3 ]\n",
      "First 10 per-feature treat ratios (debug): [1.04 0.72 0.71 0.7  0.66 0.68 0.7  0.7  0.7  0.7 ]\n",
      "[Covariate Scaling] Applied per-dim scaling to ICM0 and ICM1 kernels\n",
      "[Ridge T-Learner ARD Init] First 10 lengthscale scalings: [0.301 0.3   0.303 0.303 0.302 0.3   1.27  1.27  1.27  1.27 ]\n"
     ]
    },
    {
     "name": "stderr",
     "output_type": "stream",
     "text": [
      " 87%|████████▋ | 87/100 [3:34:25<27:08, 125.30s/it]"
     ]
    },
    {
     "name": "stdout",
     "output_type": "stream",
     "text": [
      "[Hybrid Scaling] scalar ctrl=1.297, scalar treat=0.703\n",
      "First 10 per-feature ctrl ratios (debug): [0.96 1.29 1.29 1.31 1.32 1.35 1.31 1.31 1.31 1.31]\n",
      "First 10 per-feature treat ratios (debug): [1.04 0.71 0.71 0.69 0.68 0.65 0.69 0.69 0.69 0.69]\n",
      "[Hybrid Scaling] scalar ctrl=1.297, scalar treat=0.703\n",
      "First 10 per-feature ctrl ratios (debug): [0.96 1.29 1.29 1.31 1.32 1.35 1.31 1.31 1.31 1.31]\n",
      "First 10 per-feature treat ratios (debug): [1.04 0.71 0.71 0.69 0.68 0.65 0.69 0.69 0.69 0.69]\n",
      "[Covariate Scaling] Applied per-dim scaling to ICM0 and ICM1 kernels\n",
      "[Ridge T-Learner ARD Init] First 10 lengthscale scalings: [0.307 0.305 0.308 0.319 0.301 0.301 1.266 1.266 1.266 1.266]\n",
      "[Hybrid Scaling] scalar ctrl=1.297, scalar treat=0.703\n",
      "First 10 per-feature ctrl ratios (debug): [0.96 1.29 1.29 1.31 1.32 1.35 1.31 1.31 1.31 1.31]\n",
      "First 10 per-feature treat ratios (debug): [1.04 0.71 0.71 0.69 0.68 0.65 0.69 0.69 0.69 0.69]\n",
      "[Hybrid Scaling] scalar ctrl=1.297, scalar treat=0.703\n",
      "First 10 per-feature ctrl ratios (debug): [0.96 1.29 1.29 1.31 1.32 1.35 1.31 1.31 1.31 1.31]\n",
      "First 10 per-feature treat ratios (debug): [1.04 0.71 0.71 0.69 0.68 0.65 0.69 0.69 0.69 0.69]\n",
      "[Covariate Scaling] Applied per-dim scaling to ICM0 and ICM1 kernels\n",
      "[Ridge T-Learner ARD Init] First 10 lengthscale scalings: [0.307 0.305 0.308 0.319 0.301 0.301 1.266 1.266 1.266 1.266]\n"
     ]
    },
    {
     "name": "stderr",
     "output_type": "stream",
     "text": [
      " 88%|████████▊ | 88/100 [3:36:19<24:20, 121.67s/it]"
     ]
    },
    {
     "name": "stdout",
     "output_type": "stream",
     "text": [
      "[Hybrid Scaling] scalar ctrl=1.288, scalar treat=0.712\n",
      "First 10 per-feature ctrl ratios (debug): [1.11 1.28 1.25 1.3  1.31 1.34 1.3  1.3  1.3  1.3 ]\n",
      "First 10 per-feature treat ratios (debug): [0.89 0.72 0.75 0.7  0.69 0.66 0.7  0.7  0.7  0.7 ]\n",
      "[Hybrid Scaling] scalar ctrl=1.288, scalar treat=0.712\n",
      "First 10 per-feature ctrl ratios (debug): [1.11 1.28 1.25 1.3  1.31 1.34 1.3  1.3  1.3  1.3 ]\n",
      "First 10 per-feature treat ratios (debug): [0.89 0.72 0.75 0.7  0.69 0.66 0.7  0.7  0.7  0.7 ]\n",
      "[Covariate Scaling] Applied per-dim scaling to ICM0 and ICM1 kernels\n",
      "[Ridge T-Learner ARD Init] First 10 lengthscale scalings: [0.3   0.3   0.3   0.302 0.3   0.3   1.272 1.272 1.272 1.272]\n",
      "[Hybrid Scaling] scalar ctrl=1.288, scalar treat=0.712\n",
      "First 10 per-feature ctrl ratios (debug): [1.11 1.28 1.25 1.3  1.31 1.34 1.3  1.3  1.3  1.3 ]\n",
      "First 10 per-feature treat ratios (debug): [0.89 0.72 0.75 0.7  0.69 0.66 0.7  0.7  0.7  0.7 ]\n",
      "[Hybrid Scaling] scalar ctrl=1.288, scalar treat=0.712\n",
      "First 10 per-feature ctrl ratios (debug): [1.11 1.28 1.25 1.3  1.31 1.34 1.3  1.3  1.3  1.3 ]\n",
      "First 10 per-feature treat ratios (debug): [0.89 0.72 0.75 0.7  0.69 0.66 0.7  0.7  0.7  0.7 ]\n",
      "[Covariate Scaling] Applied per-dim scaling to ICM0 and ICM1 kernels\n",
      "[Ridge T-Learner ARD Init] First 10 lengthscale scalings: [0.3   0.3   0.3   0.302 0.3   0.3   1.272 1.272 1.272 1.272]\n"
     ]
    },
    {
     "name": "stderr",
     "output_type": "stream",
     "text": [
      " 89%|████████▉ | 89/100 [3:38:23<22:27, 122.53s/it] C:\\Users\\logan\\Documents\\Repos\\CausalML-sandbox-main - Copy\\venv\\lib\\site-packages\\GPy\\kern\\src\\stationary.py:137: RuntimeWarning:overflow encountered in square\n",
      " C:\\Users\\logan\\Documents\\Repos\\CausalML-sandbox-main - Copy\\venv\\lib\\site-packages\\GPy\\kern\\src\\stationary.py:138: RuntimeWarning:invalid value encountered in add\n",
      " C:\\Users\\logan\\Documents\\Repos\\CausalML-sandbox-main - Copy\\venv\\lib\\site-packages\\GPy\\kern\\src\\rbf.py:178: RuntimeWarning:invalid value encountered in multiply\n"
     ]
    },
    {
     "name": "stdout",
     "output_type": "stream",
     "text": [
      "[Hybrid Scaling] scalar ctrl=1.325, scalar treat=0.675\n",
      "First 10 per-feature ctrl ratios (debug): [1.19 1.32 1.32 1.33 1.31 1.35 1.33 1.33 1.33 1.33]\n",
      "First 10 per-feature treat ratios (debug): [0.81 0.68 0.68 0.67 0.69 0.65 0.67 0.67 0.67 0.67]\n",
      "[Hybrid Scaling] scalar ctrl=1.325, scalar treat=0.675\n",
      "First 10 per-feature ctrl ratios (debug): [1.19 1.32 1.32 1.33 1.31 1.35 1.33 1.33 1.33 1.33]\n",
      "First 10 per-feature treat ratios (debug): [0.81 0.68 0.68 0.67 0.69 0.65 0.67 0.67 0.67 0.67]\n",
      "[Covariate Scaling] Applied per-dim scaling to ICM0 and ICM1 kernels\n",
      "[Ridge T-Learner ARD Init] First 10 lengthscale scalings: [0.301 0.301 0.301 0.311 0.301 0.301 1.268 1.268 1.268 1.268]\n",
      "[Hybrid Scaling] scalar ctrl=1.325, scalar treat=0.675\n",
      "First 10 per-feature ctrl ratios (debug): [1.19 1.32 1.32 1.33 1.31 1.35 1.33 1.33 1.33 1.33]\n",
      "First 10 per-feature treat ratios (debug): [0.81 0.68 0.68 0.67 0.69 0.65 0.67 0.67 0.67 0.67]\n",
      "[Hybrid Scaling] scalar ctrl=1.325, scalar treat=0.675\n",
      "First 10 per-feature ctrl ratios (debug): [1.19 1.32 1.32 1.33 1.31 1.35 1.33 1.33 1.33 1.33]\n",
      "First 10 per-feature treat ratios (debug): [0.81 0.68 0.68 0.67 0.69 0.65 0.67 0.67 0.67 0.67]\n",
      "[Covariate Scaling] Applied per-dim scaling to ICM0 and ICM1 kernels\n",
      "[Ridge T-Learner ARD Init] First 10 lengthscale scalings: [0.301 0.301 0.301 0.311 0.301 0.301 1.268 1.268 1.268 1.268]\n"
     ]
    },
    {
     "name": "stderr",
     "output_type": "stream",
     "text": [
      " 90%|█████████ | 90/100 [3:40:26<20:26, 122.67s/it]"
     ]
    },
    {
     "name": "stdout",
     "output_type": "stream",
     "text": [
      "[Hybrid Scaling] scalar ctrl=1.288, scalar treat=0.712\n",
      "First 10 per-feature ctrl ratios (debug): [0.84 1.3  1.3  1.31 1.34 1.33 1.31 1.31 1.31 1.31]\n",
      "First 10 per-feature treat ratios (debug): [1.16 0.7  0.7  0.69 0.66 0.67 0.69 0.69 0.69 0.69]\n",
      "[Hybrid Scaling] scalar ctrl=1.288, scalar treat=0.712\n",
      "First 10 per-feature ctrl ratios (debug): [0.84 1.3  1.3  1.31 1.34 1.33 1.31 1.31 1.31 1.31]\n",
      "First 10 per-feature treat ratios (debug): [1.16 0.7  0.7  0.69 0.66 0.67 0.69 0.69 0.69 0.69]\n",
      "[Covariate Scaling] Applied per-dim scaling to ICM0 and ICM1 kernels\n",
      "[Ridge T-Learner ARD Init] First 10 lengthscale scalings: [0.301 0.3   0.3   0.31  0.301 0.304 1.27  1.27  1.27  1.27 ]\n",
      "[Hybrid Scaling] scalar ctrl=1.288, scalar treat=0.712\n",
      "First 10 per-feature ctrl ratios (debug): [0.84 1.3  1.3  1.31 1.34 1.33 1.31 1.31 1.31 1.31]\n",
      "First 10 per-feature treat ratios (debug): [1.16 0.7  0.7  0.69 0.66 0.67 0.69 0.69 0.69 0.69]\n",
      "[Hybrid Scaling] scalar ctrl=1.288, scalar treat=0.712\n",
      "First 10 per-feature ctrl ratios (debug): [0.84 1.3  1.3  1.31 1.34 1.33 1.31 1.31 1.31 1.31]\n",
      "First 10 per-feature treat ratios (debug): [1.16 0.7  0.7  0.69 0.66 0.67 0.69 0.69 0.69 0.69]\n",
      "[Covariate Scaling] Applied per-dim scaling to ICM0 and ICM1 kernels\n",
      "[Ridge T-Learner ARD Init] First 10 lengthscale scalings: [0.301 0.3   0.3   0.31  0.301 0.304 1.27  1.27  1.27  1.27 ]\n"
     ]
    },
    {
     "name": "stderr",
     "output_type": "stream",
     "text": [
      " 91%|█████████ | 91/100 [3:42:26<18:15, 121.76s/it]"
     ]
    },
    {
     "name": "stdout",
     "output_type": "stream",
     "text": [
      "[Hybrid Scaling] scalar ctrl=1.290, scalar treat=0.710\n",
      "First 10 per-feature ctrl ratios (debug): [1.02 1.3  1.26 1.3  1.39 1.35 1.3  1.3  1.3  1.3 ]\n",
      "First 10 per-feature treat ratios (debug): [0.98 0.7  0.74 0.7  0.61 0.65 0.7  0.7  0.7  0.7 ]\n",
      "[Hybrid Scaling] scalar ctrl=1.290, scalar treat=0.710\n",
      "First 10 per-feature ctrl ratios (debug): [1.02 1.3  1.26 1.3  1.39 1.35 1.3  1.3  1.3  1.3 ]\n",
      "First 10 per-feature treat ratios (debug): [0.98 0.7  0.74 0.7  0.61 0.65 0.7  0.7  0.7  0.7 ]\n",
      "[Covariate Scaling] Applied per-dim scaling to ICM0 and ICM1 kernels\n",
      "[Ridge T-Learner ARD Init] First 10 lengthscale scalings: [0.301 0.302 0.3   0.308 0.3   0.301 1.323 1.323 1.323 1.323]\n",
      "[Hybrid Scaling] scalar ctrl=1.290, scalar treat=0.710\n",
      "First 10 per-feature ctrl ratios (debug): [1.02 1.3  1.26 1.3  1.39 1.35 1.3  1.3  1.3  1.3 ]\n",
      "First 10 per-feature treat ratios (debug): [0.98 0.7  0.74 0.7  0.61 0.65 0.7  0.7  0.7  0.7 ]\n",
      "[Hybrid Scaling] scalar ctrl=1.290, scalar treat=0.710\n",
      "First 10 per-feature ctrl ratios (debug): [1.02 1.3  1.26 1.3  1.39 1.35 1.3  1.3  1.3  1.3 ]\n",
      "First 10 per-feature treat ratios (debug): [0.98 0.7  0.74 0.7  0.61 0.65 0.7  0.7  0.7  0.7 ]\n",
      "[Covariate Scaling] Applied per-dim scaling to ICM0 and ICM1 kernels\n",
      "[Ridge T-Learner ARD Init] First 10 lengthscale scalings: [0.301 0.302 0.3   0.308 0.3   0.301 1.323 1.323 1.323 1.323]\n"
     ]
    },
    {
     "name": "stderr",
     "output_type": "stream",
     "text": [
      " 92%|█████████▏| 92/100 [3:44:31<16:21, 122.71s/it]"
     ]
    },
    {
     "name": "stdout",
     "output_type": "stream",
     "text": [
      "[Hybrid Scaling] scalar ctrl=1.285, scalar treat=0.715\n",
      "First 10 per-feature ctrl ratios (debug): [0.9  1.31 1.26 1.3  1.28 1.33 1.3  1.3  1.3  1.3 ]\n",
      "First 10 per-feature treat ratios (debug): [1.1  0.69 0.74 0.7  0.72 0.67 0.7  0.7  0.7  0.7 ]\n",
      "[Hybrid Scaling] scalar ctrl=1.285, scalar treat=0.715\n",
      "First 10 per-feature ctrl ratios (debug): [0.9  1.31 1.26 1.3  1.28 1.33 1.3  1.3  1.3  1.3 ]\n",
      "First 10 per-feature treat ratios (debug): [1.1  0.69 0.74 0.7  0.72 0.67 0.7  0.7  0.7  0.7 ]\n",
      "[Covariate Scaling] Applied per-dim scaling to ICM0 and ICM1 kernels\n",
      "[Ridge T-Learner ARD Init] First 10 lengthscale scalings: [0.3   0.3   0.301 0.301 0.301 0.3   1.32  0.443 1.32  1.32 ]\n",
      "[Hybrid Scaling] scalar ctrl=1.285, scalar treat=0.715\n",
      "First 10 per-feature ctrl ratios (debug): [0.9  1.31 1.26 1.3  1.28 1.33 1.3  1.3  1.3  1.3 ]\n",
      "First 10 per-feature treat ratios (debug): [1.1  0.69 0.74 0.7  0.72 0.67 0.7  0.7  0.7  0.7 ]\n",
      "[Hybrid Scaling] scalar ctrl=1.285, scalar treat=0.715\n",
      "First 10 per-feature ctrl ratios (debug): [0.9  1.31 1.26 1.3  1.28 1.33 1.3  1.3  1.3  1.3 ]\n",
      "First 10 per-feature treat ratios (debug): [1.1  0.69 0.74 0.7  0.72 0.67 0.7  0.7  0.7  0.7 ]\n",
      "[Covariate Scaling] Applied per-dim scaling to ICM0 and ICM1 kernels\n",
      "[Ridge T-Learner ARD Init] First 10 lengthscale scalings: [0.3   0.3   0.301 0.301 0.301 0.3   1.32  0.443 1.32  1.32 ]\n"
     ]
    },
    {
     "name": "stderr",
     "output_type": "stream",
     "text": [
      " 93%|█████████▎| 93/100 [3:46:46<14:46, 126.59s/it]"
     ]
    },
    {
     "name": "stdout",
     "output_type": "stream",
     "text": [
      "[Hybrid Scaling] scalar ctrl=1.285, scalar treat=0.715\n",
      "First 10 per-feature ctrl ratios (debug): [1.19 1.28 1.27 1.29 1.29 1.33 1.29 1.29 1.29 1.29]\n",
      "First 10 per-feature treat ratios (debug): [0.81 0.72 0.73 0.71 0.71 0.67 0.71 0.71 0.71 0.71]\n",
      "[Hybrid Scaling] scalar ctrl=1.285, scalar treat=0.715\n",
      "First 10 per-feature ctrl ratios (debug): [1.19 1.28 1.27 1.29 1.29 1.33 1.29 1.29 1.29 1.29]\n",
      "First 10 per-feature treat ratios (debug): [0.81 0.72 0.73 0.71 0.71 0.67 0.71 0.71 0.71 0.71]\n",
      "[Covariate Scaling] Applied per-dim scaling to ICM0 and ICM1 kernels\n",
      "[Ridge T-Learner ARD Init] First 10 lengthscale scalings: [0.302 0.302 0.304 0.39  0.301 0.302 1.323 1.323 1.323 1.323]\n",
      "[Hybrid Scaling] scalar ctrl=1.285, scalar treat=0.715\n",
      "First 10 per-feature ctrl ratios (debug): [1.19 1.28 1.27 1.29 1.29 1.33 1.29 1.29 1.29 1.29]\n",
      "First 10 per-feature treat ratios (debug): [0.81 0.72 0.73 0.71 0.71 0.67 0.71 0.71 0.71 0.71]\n",
      "[Hybrid Scaling] scalar ctrl=1.285, scalar treat=0.715\n",
      "First 10 per-feature ctrl ratios (debug): [1.19 1.28 1.27 1.29 1.29 1.33 1.29 1.29 1.29 1.29]\n",
      "First 10 per-feature treat ratios (debug): [0.81 0.72 0.73 0.71 0.71 0.67 0.71 0.71 0.71 0.71]\n",
      "[Covariate Scaling] Applied per-dim scaling to ICM0 and ICM1 kernels\n",
      "[Ridge T-Learner ARD Init] First 10 lengthscale scalings: [0.302 0.302 0.304 0.39  0.301 0.302 1.323 1.323 1.323 1.323]\n"
     ]
    },
    {
     "name": "stderr",
     "output_type": "stream",
     "text": [
      " 94%|█████████▍| 94/100 [3:48:55<12:43, 127.23s/it]"
     ]
    },
    {
     "name": "stdout",
     "output_type": "stream",
     "text": [
      "[Hybrid Scaling] scalar ctrl=1.296, scalar treat=0.704\n",
      "First 10 per-feature ctrl ratios (debug): [1.14 1.29 1.27 1.3  1.3  1.34 1.3  1.3  1.3  1.3 ]\n",
      "First 10 per-feature treat ratios (debug): [0.86 0.71 0.73 0.7  0.7  0.66 0.7  0.7  0.7  0.7 ]\n",
      "[Hybrid Scaling] scalar ctrl=1.296, scalar treat=0.704\n",
      "First 10 per-feature ctrl ratios (debug): [1.14 1.29 1.27 1.3  1.3  1.34 1.3  1.3  1.3  1.3 ]\n",
      "First 10 per-feature treat ratios (debug): [0.86 0.71 0.73 0.7  0.7  0.66 0.7  0.7  0.7  0.7 ]\n",
      "[Covariate Scaling] Applied per-dim scaling to ICM0 and ICM1 kernels\n",
      "[Ridge T-Learner ARD Init] First 10 lengthscale scalings: [0.3   0.3   0.3   0.301 0.301 0.301 1.221 1.221 1.221 1.221]\n",
      "[Hybrid Scaling] scalar ctrl=1.296, scalar treat=0.704\n",
      "First 10 per-feature ctrl ratios (debug): [1.14 1.29 1.27 1.3  1.3  1.34 1.3  1.3  1.3  1.3 ]\n",
      "First 10 per-feature treat ratios (debug): [0.86 0.71 0.73 0.7  0.7  0.66 0.7  0.7  0.7  0.7 ]\n",
      "[Hybrid Scaling] scalar ctrl=1.296, scalar treat=0.704\n",
      "First 10 per-feature ctrl ratios (debug): [1.14 1.29 1.27 1.3  1.3  1.34 1.3  1.3  1.3  1.3 ]\n",
      "First 10 per-feature treat ratios (debug): [0.86 0.71 0.73 0.7  0.7  0.66 0.7  0.7  0.7  0.7 ]\n",
      "[Covariate Scaling] Applied per-dim scaling to ICM0 and ICM1 kernels\n",
      "[Ridge T-Learner ARD Init] First 10 lengthscale scalings: [0.3   0.3   0.3   0.301 0.301 0.301 1.221 1.221 1.221 1.221]\n"
     ]
    },
    {
     "name": "stderr",
     "output_type": "stream",
     "text": [
      " 95%|█████████▌| 95/100 [3:51:01<10:33, 126.78s/it]"
     ]
    },
    {
     "name": "stdout",
     "output_type": "stream",
     "text": [
      "[Hybrid Scaling] scalar ctrl=1.314, scalar treat=0.686\n",
      "First 10 per-feature ctrl ratios (debug): [1.45 1.32 1.29 1.31 1.33 1.34 1.31 1.31 1.31 1.31]\n",
      "First 10 per-feature treat ratios (debug): [0.55 0.68 0.71 0.69 0.67 0.66 0.69 0.69 0.69 0.69]\n",
      "[Hybrid Scaling] scalar ctrl=1.314, scalar treat=0.686\n",
      "First 10 per-feature ctrl ratios (debug): [1.45 1.32 1.29 1.31 1.33 1.34 1.31 1.31 1.31 1.31]\n",
      "First 10 per-feature treat ratios (debug): [0.55 0.68 0.71 0.69 0.67 0.66 0.69 0.69 0.69 0.69]\n",
      "[Covariate Scaling] Applied per-dim scaling to ICM0 and ICM1 kernels\n",
      "[Ridge T-Learner ARD Init] First 10 lengthscale scalings: [0.3   0.3   0.3   0.336 0.301 0.301 1.352 1.352 0.301 1.352]\n",
      "[Hybrid Scaling] scalar ctrl=1.314, scalar treat=0.686\n",
      "First 10 per-feature ctrl ratios (debug): [1.45 1.32 1.29 1.31 1.33 1.34 1.31 1.31 1.31 1.31]\n",
      "First 10 per-feature treat ratios (debug): [0.55 0.68 0.71 0.69 0.67 0.66 0.69 0.69 0.69 0.69]\n",
      "[Hybrid Scaling] scalar ctrl=1.314, scalar treat=0.686\n",
      "First 10 per-feature ctrl ratios (debug): [1.45 1.32 1.29 1.31 1.33 1.34 1.31 1.31 1.31 1.31]\n",
      "First 10 per-feature treat ratios (debug): [0.55 0.68 0.71 0.69 0.67 0.66 0.69 0.69 0.69 0.69]\n",
      "[Covariate Scaling] Applied per-dim scaling to ICM0 and ICM1 kernels\n",
      "[Ridge T-Learner ARD Init] First 10 lengthscale scalings: [0.3   0.3   0.3   0.336 0.301 0.301 1.352 1.352 0.301 1.352]\n"
     ]
    },
    {
     "name": "stderr",
     "output_type": "stream",
     "text": [
      " 96%|█████████▌| 96/100 [3:53:02<08:20, 125.12s/it]"
     ]
    },
    {
     "name": "stdout",
     "output_type": "stream",
     "text": [
      "[Hybrid Scaling] scalar ctrl=1.306, scalar treat=0.694\n",
      "First 10 per-feature ctrl ratios (debug): [1.46 1.31 1.26 1.3  1.31 1.34 1.3  1.3  1.3  1.3 ]\n",
      "First 10 per-feature treat ratios (debug): [0.54 0.69 0.74 0.7  0.69 0.66 0.7  0.7  0.7  0.7 ]\n",
      "[Hybrid Scaling] scalar ctrl=1.306, scalar treat=0.694\n",
      "First 10 per-feature ctrl ratios (debug): [1.46 1.31 1.26 1.3  1.31 1.34 1.3  1.3  1.3  1.3 ]\n",
      "First 10 per-feature treat ratios (debug): [0.54 0.69 0.74 0.7  0.69 0.66 0.7  0.7  0.7  0.7 ]\n",
      "[Covariate Scaling] Applied per-dim scaling to ICM0 and ICM1 kernels\n",
      "[Ridge T-Learner ARD Init] First 10 lengthscale scalings: [0.3   0.3   0.301 0.3   0.301 0.301 1.221 1.221 1.221 1.221]\n",
      "[Hybrid Scaling] scalar ctrl=1.306, scalar treat=0.694\n",
      "First 10 per-feature ctrl ratios (debug): [1.46 1.31 1.26 1.3  1.31 1.34 1.3  1.3  1.3  1.3 ]\n",
      "First 10 per-feature treat ratios (debug): [0.54 0.69 0.74 0.7  0.69 0.66 0.7  0.7  0.7  0.7 ]\n",
      "[Hybrid Scaling] scalar ctrl=1.306, scalar treat=0.694\n",
      "First 10 per-feature ctrl ratios (debug): [1.46 1.31 1.26 1.3  1.31 1.34 1.3  1.3  1.3  1.3 ]\n",
      "First 10 per-feature treat ratios (debug): [0.54 0.69 0.74 0.7  0.69 0.66 0.7  0.7  0.7  0.7 ]\n",
      "[Covariate Scaling] Applied per-dim scaling to ICM0 and ICM1 kernels\n",
      "[Ridge T-Learner ARD Init] First 10 lengthscale scalings: [0.3   0.3   0.301 0.3   0.301 0.301 1.221 1.221 1.221 1.221]\n"
     ]
    },
    {
     "name": "stderr",
     "output_type": "stream",
     "text": [
      " 97%|█████████▋| 97/100 [3:55:11<06:18, 126.31s/it]"
     ]
    },
    {
     "name": "stdout",
     "output_type": "stream",
     "text": [
      "[Hybrid Scaling] scalar ctrl=1.290, scalar treat=0.710\n",
      "First 10 per-feature ctrl ratios (debug): [1.28 1.28 1.28 1.29 1.32 1.33 1.29 1.29 1.29 1.29]\n",
      "First 10 per-feature treat ratios (debug): [0.72 0.72 0.72 0.71 0.68 0.67 0.71 0.71 0.71 0.71]\n",
      "[Hybrid Scaling] scalar ctrl=1.290, scalar treat=0.710\n",
      "First 10 per-feature ctrl ratios (debug): [1.28 1.28 1.28 1.29 1.32 1.33 1.29 1.29 1.29 1.29]\n",
      "First 10 per-feature treat ratios (debug): [0.72 0.72 0.72 0.71 0.68 0.67 0.71 0.71 0.71 0.71]\n",
      "[Covariate Scaling] Applied per-dim scaling to ICM0 and ICM1 kernels\n",
      "[Ridge T-Learner ARD Init] First 10 lengthscale scalings: [0.3   0.3   0.3   0.307 0.301 0.302 1.221 1.221 1.221 1.221]\n",
      "[Hybrid Scaling] scalar ctrl=1.290, scalar treat=0.710\n",
      "First 10 per-feature ctrl ratios (debug): [1.28 1.28 1.28 1.29 1.32 1.33 1.29 1.29 1.29 1.29]\n",
      "First 10 per-feature treat ratios (debug): [0.72 0.72 0.72 0.71 0.68 0.67 0.71 0.71 0.71 0.71]\n",
      "[Hybrid Scaling] scalar ctrl=1.290, scalar treat=0.710\n",
      "First 10 per-feature ctrl ratios (debug): [1.28 1.28 1.28 1.29 1.32 1.33 1.29 1.29 1.29 1.29]\n",
      "First 10 per-feature treat ratios (debug): [0.72 0.72 0.72 0.71 0.68 0.67 0.71 0.71 0.71 0.71]\n",
      "[Covariate Scaling] Applied per-dim scaling to ICM0 and ICM1 kernels\n",
      "[Ridge T-Learner ARD Init] First 10 lengthscale scalings: [0.3   0.3   0.3   0.307 0.301 0.302 1.221 1.221 1.221 1.221]\n"
     ]
    },
    {
     "name": "stderr",
     "output_type": "stream",
     "text": [
      " 98%|█████████▊| 98/100 [3:57:03<04:04, 122.03s/it]"
     ]
    },
    {
     "name": "stdout",
     "output_type": "stream",
     "text": [
      "[Hybrid Scaling] scalar ctrl=1.296, scalar treat=0.704\n",
      "First 10 per-feature ctrl ratios (debug): [1.   1.29 1.28 1.31 1.34 1.35 1.31 1.31 1.31 1.31]\n",
      "First 10 per-feature treat ratios (debug): [1.   0.71 0.72 0.69 0.66 0.65 0.69 0.69 0.69 0.69]\n",
      "[Hybrid Scaling] scalar ctrl=1.296, scalar treat=0.704\n",
      "First 10 per-feature ctrl ratios (debug): [1.   1.29 1.28 1.31 1.34 1.35 1.31 1.31 1.31 1.31]\n",
      "First 10 per-feature treat ratios (debug): [1.   0.71 0.72 0.69 0.66 0.65 0.69 0.69 0.69 0.69]\n",
      "[Covariate Scaling] Applied per-dim scaling to ICM0 and ICM1 kernels\n",
      "[Ridge T-Learner ARD Init] First 10 lengthscale scalings: [0.3   0.3   0.3   0.301 0.301 0.301 1.221 1.221 1.221 1.221]\n",
      "[Hybrid Scaling] scalar ctrl=1.296, scalar treat=0.704\n",
      "First 10 per-feature ctrl ratios (debug): [1.   1.29 1.28 1.31 1.34 1.35 1.31 1.31 1.31 1.31]\n",
      "First 10 per-feature treat ratios (debug): [1.   0.71 0.72 0.69 0.66 0.65 0.69 0.69 0.69 0.69]\n",
      "[Hybrid Scaling] scalar ctrl=1.296, scalar treat=0.704\n",
      "First 10 per-feature ctrl ratios (debug): [1.   1.29 1.28 1.31 1.34 1.35 1.31 1.31 1.31 1.31]\n",
      "First 10 per-feature treat ratios (debug): [1.   0.71 0.72 0.69 0.66 0.65 0.69 0.69 0.69 0.69]\n",
      "[Covariate Scaling] Applied per-dim scaling to ICM0 and ICM1 kernels\n",
      "[Ridge T-Learner ARD Init] First 10 lengthscale scalings: [0.3   0.3   0.3   0.301 0.301 0.301 1.221 1.221 1.221 1.221]\n"
     ]
    },
    {
     "name": "stderr",
     "output_type": "stream",
     "text": [
      " 99%|█████████▉| 99/100 [3:59:09<02:03, 123.14s/it]"
     ]
    },
    {
     "name": "stdout",
     "output_type": "stream",
     "text": [
      "[Hybrid Scaling] scalar ctrl=1.299, scalar treat=0.701\n",
      "First 10 per-feature ctrl ratios (debug): [1.3  1.28 1.28 1.3  1.29 1.33 1.3  1.3  1.3  1.3 ]\n",
      "First 10 per-feature treat ratios (debug): [0.7  0.72 0.72 0.7  0.71 0.67 0.7  0.7  0.7  0.7 ]\n",
      "[Hybrid Scaling] scalar ctrl=1.299, scalar treat=0.701\n",
      "First 10 per-feature ctrl ratios (debug): [1.3  1.28 1.28 1.3  1.29 1.33 1.3  1.3  1.3  1.3 ]\n",
      "First 10 per-feature treat ratios (debug): [0.7  0.72 0.72 0.7  0.71 0.67 0.7  0.7  0.7  0.7 ]\n",
      "[Covariate Scaling] Applied per-dim scaling to ICM0 and ICM1 kernels\n",
      "[Ridge T-Learner ARD Init] First 10 lengthscale scalings: [0.301 0.303 0.301 0.305 0.301 0.301 1.271 1.271 1.271 1.271]\n",
      "[Hybrid Scaling] scalar ctrl=1.299, scalar treat=0.701\n",
      "First 10 per-feature ctrl ratios (debug): [1.3  1.28 1.28 1.3  1.29 1.33 1.3  1.3  1.3  1.3 ]\n",
      "First 10 per-feature treat ratios (debug): [0.7  0.72 0.72 0.7  0.71 0.67 0.7  0.7  0.7  0.7 ]\n",
      "[Hybrid Scaling] scalar ctrl=1.299, scalar treat=0.701\n",
      "First 10 per-feature ctrl ratios (debug): [1.3  1.28 1.28 1.3  1.29 1.33 1.3  1.3  1.3  1.3 ]\n",
      "First 10 per-feature treat ratios (debug): [0.7  0.72 0.72 0.7  0.71 0.67 0.7  0.7  0.7  0.7 ]\n",
      "[Covariate Scaling] Applied per-dim scaling to ICM0 and ICM1 kernels\n",
      "[Ridge T-Learner ARD Init] First 10 lengthscale scalings: [0.301 0.303 0.301 0.305 0.301 0.301 1.271 1.271 1.271 1.271]\n"
     ]
    },
    {
     "name": "stderr",
     "output_type": "stream",
     "text": [
      "100%|██████████| 100/100 [4:01:13<00:00, 144.74s/it]\n"
     ]
    },
    {
     "data": {
      "text/plain": "<Figure size 1000x600 with 1 Axes>",
      "image/png": "[encoded data removed]"
     },
     "metadata": {},
     "output_type": "display_data"
    }
   ],
   "source": [
    "evaluate_ihdp_configs()"
   ],
   "metadata": {
    "collapsed": false,
    "ExecuteTime": {
     "end_time": "2025-06-22T15:38:48.756668Z",
     "start_time": "2025-06-22T11:37:33.886604Z"
    }
   },
   "id": "1cb2e1e97331f103",
   "execution_count": 7
  },
  {
   "cell_type": "code",
   "outputs": [],
   "source": [],
   "metadata": {
    "collapsed": false
   },
   "id": "18b3dba83dae38e6"
  },
  {
   "cell_type": "code",
   "outputs": [],
   "source": [],
   "metadata": {
    "collapsed": false
   },
   "id": "cd668a1c8cdeb27a"
  }
 ],
 "metadata": {
  "kernelspec": {
   "display_name": "Python 3",
   "language": "python",
   "name": "python3"
  },
  "language_info": {
   "codemirror_mode": {
    "name": "ipython",
    "version": 2
   },
   "file_extension": ".py",
   "mimetype": "text/x-python",
   "name": "python",
   "nbconvert_exporter": "python",
   "pygments_lexer": "ipython2",
   "version": "2.7.6"
  }
 },
 "nbformat": 4,
 "nbformat_minor": 5
}
